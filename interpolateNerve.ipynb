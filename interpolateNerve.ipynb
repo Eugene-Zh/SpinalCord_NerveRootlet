{
 "cells": [
  {
   "cell_type": "code",
   "execution_count": 6,
   "id": "7726bf34-3bf3-45d1-a3aa-1b48a0813674",
   "metadata": {},
   "outputs": [],
   "source": [
    "import os\n",
    "import numpy as np\n",
    "from stl import mesh\n",
    "\n",
    "import pyvista as pv\n",
    "\n",
    "from pyvistaqt import BackgroundPlotter\n"
   ]
  },
  {
   "cell_type": "code",
   "execution_count": 2,
   "id": "00fe59d8-2499-4aeb-b64e-3c070a4cac02",
   "metadata": {},
   "outputs": [],
   "source": [
    "\n",
    "sc = mesh.Mesh.from_file(r'YOUR_DATA_PATH/Spinal Cord.stl')\n"
   ]
  },
  {
   "cell_type": "code",
   "execution_count": 4,
   "id": "59ed0e11-c57d-4992-aa0b-7a84d1993517",
   "metadata": {},
   "outputs": [
    {
     "name": "stderr",
     "output_type": "stream",
     "text": [
      "Your mesh is not closed, the mass methods will not function\n",
      "            correctly on this mesh.  For more info:\n",
      "            https://github.com/WoLpH/numpy-stl/issues/69\n"
     ]
    }
   ],
   "source": [
    "volume, cog, inertia = sc.get_mass_properties()\n",
    "xyz = (sc.max_ - sc.min_)\n",
    "sizel = round(xyz[0] / 10, 2)\n",
    "sizew = round(xyz[1] / 10, 2)\n",
    "sizeh = round(xyz[2] / 10, 2)"
   ]
  },
  {
   "cell_type": "code",
   "execution_count": 2,
   "id": "25035cf0-87f7-4ced-bfb7-86e681d63a95",
   "metadata": {},
   "outputs": [],
   "source": [
    "#读取stl文件\n",
    "import vtk\n",
    "def readstl_vtk(filepath):\n",
    "\t# create data mannualy\n",
    "\t# cylinder = vtk.vtkCylinderSource()\n",
    "\t# cylinder.SetHeight(3.0) # 设置柱体的高\n",
    "\t# cylinder.SetRadius(1.0) #\t 设置柱体横截面的半径\n",
    "\t# cylinder.SetResolution(6) # 设置柱体横截面的等边多边形的边数\n",
    " \n",
    "\t# Read from file\n",
    "\tstlreader = vtk.vtkSTLReader()\n",
    "\tf=stlreader.SetFileName(filepath)\n",
    "\t\n",
    "\tcylinderMapper = vtk.vtkPolyDataMapper() # 渲染多边形几何数据\n",
    "\tcylinderMapper.SetInputConnection(stlreader.GetOutputPort()) # VTK可视化管线的输入数据接口 ，对应的可视化管线输出数据的接口为GetOutputPort()；\n",
    "\tcylinderActor = vtk.vtkActor()\n",
    "\tcylinderActor.SetMapper(cylinderMapper) # 设置生成几何图元的Mapper。即连接一个Actor到可视化管线的末端(可视化管线的末端就是Mapper)。\n",
    "\trenderer = vtk.vtkRenderer() # 负责管理场景的渲染过程\n",
    "\trenderer.AddActor(cylinderActor)\n",
    "\trenderer.SetBackground(0.1, 0.2, 0.4)\n",
    "\trenWin = vtk.vtkRenderWindow() # 将操作系统与VTK渲染引擎连接到一起。\n",
    "\trenWin.AddRenderer(renderer)\n",
    "\trenWin.SetSize(300, 300)\n",
    "\tiren = vtk.vtkRenderWindowInteractor() # 提供平台独立的响应鼠标、键盘和时钟事件的交互机制\n",
    "\tiren.SetRenderWindow(renWin)\n",
    " \n",
    "\t# 交互器样式的一种，该样式下，用户是通过控制相机对物体作旋转、放大、缩小等操作\n",
    "\tstyle = vtk.vtkInteractorStyleTrackballCamera()\n",
    " \n",
    "\tiren.SetInteractorStyle(style)\n",
    "\tiren.Initialize()\n",
    " \n",
    "\tiren.Start()\n",
    " \n",
    "\t# Clean up\n",
    "\t# del cylinder\n",
    "\tdel stlreader\n",
    "\tdel cylinderMapper\n",
    "\tdel cylinderActor\n",
    "\tdel renderer\n",
    "\tdel renWin\n",
    "\tdel iren\n",
    " \n",
    "readstl_vtk(r'YOUR_DATA_PATH/Spinal Cord.stl')"
   ]
  },
  {
   "cell_type": "markdown",
   "id": "93fb0b0f-9af5-431f-8436-9c3c90f9774a",
   "metadata": {},
   "source": [
    "## 导入标记数据并展示"
   ]
  },
  {
   "cell_type": "code",
   "execution_count": 2,
   "id": "89f82eaa-d7cb-4e68-9aae-51b27dfe16bb",
   "metadata": {},
   "outputs": [],
   "source": [
    "import pyvista as pv\n",
    "from pyvistaqt import BackgroundPlotter\n",
    "\n",
    "def readstl_pv(filepath):\n",
    "    meshes = pv.read(stl_files)\n",
    "    plotter = BackgroundPlotter()\n",
    "    for mesh in meshes:\n",
    "        plotter.add_mesh(mesh)\n",
    "    plotter.show()\n",
    "\n",
    "\n",
    "\n",
    " \n",
    "stl_files = [r'YOUR_DATA_PATH/Spinal Cord.stl', r'YOUR_DATA_PATH/T11.stl']\n",
    "\n",
    "\n",
    "readstl_pv(stl_files)"
   ]
  },
  {
   "cell_type": "code",
   "execution_count": 4,
   "id": "d66f726b",
   "metadata": {},
   "outputs": [],
   "source": [
    "\n",
    "\n",
    "\n",
    "\n",
    "def readstl_pv(filepath):\n",
    "\n",
    "    meshes = pv.read(stl_files)\n",
    "\n",
    "    plotter = BackgroundPlotter()\n",
    "\n",
    "    for mesh in meshes:\n",
    "\n",
    "        plotter.add_mesh(mesh)\n",
    "\n",
    "    plotter.show()\n",
    "\n",
    "\n",
    "\n",
    "stl_files = [r'YOUR_DATA_PATH/Spinal Cord.stl', r'YOUR_DATA_PATH/T11.stl']\n",
    "\n",
    "\n",
    "readstl_pv(stl_files)"
   ]
  },
  {
   "cell_type": "code",
   "execution_count": 1,
   "id": "cb9ad885-f7c6-4bbd-bbf3-8c02ee9c86f0",
   "metadata": {},
   "outputs": [],
   "source": [
    "import pandas as pd\n",
    "IF_L_Tbl = pd.DataFrame.from_dict(pd.read_json(r'YOUR_DATA_PATH\\IF_L.mrk.json')['markups'][0]['controlPoints'])\n",
    "IF_R_Tbl = pd.DataFrame.from_dict(pd.read_json(r'YOUR_DATA_PATH\\IF_R.mrk.json')['markups'][0]['controlPoints'])\n",
    "DREP_L_Tbl = pd.DataFrame.from_dict(pd.read_json(r'YOUR_DATA_PATH\\DREP_L.mrk.json')['markups'][0]['controlPoints'])\n",
    "DREP_R_Tbl = pd.DataFrame.from_dict(pd.read_json(r'YOUR_DATA_PATH\\DREP_R.mrk.json')['markups'][0]['controlPoints'])"
   ]
  },
  {
   "cell_type": "code",
   "execution_count": 2,
   "id": "4af17133-cd1b-46ac-a5b6-f82cdb425957",
   "metadata": {},
   "outputs": [
    {
     "data": {
      "text/html": [
       "<div>\n",
       "<style scoped>\n",
       "    .dataframe tbody tr th:only-of-type {\n",
       "        vertical-align: middle;\n",
       "    }\n",
       "\n",
       "    .dataframe tbody tr th {\n",
       "        vertical-align: top;\n",
       "    }\n",
       "\n",
       "    .dataframe thead th {\n",
       "        text-align: right;\n",
       "    }\n",
       "</style>\n",
       "<table border=\"1\" class=\"dataframe\">\n",
       "  <thead>\n",
       "    <tr style=\"text-align: right;\">\n",
       "      <th></th>\n",
       "      <th>id</th>\n",
       "      <th>label</th>\n",
       "      <th>description</th>\n",
       "      <th>associatedNodeID</th>\n",
       "      <th>position</th>\n",
       "      <th>orientation</th>\n",
       "      <th>selected</th>\n",
       "      <th>locked</th>\n",
       "      <th>visibility</th>\n",
       "      <th>positionStatus</th>\n",
       "    </tr>\n",
       "  </thead>\n",
       "  <tbody>\n",
       "    <tr>\n",
       "      <th>0</th>\n",
       "      <td>1</td>\n",
       "      <td>IF_L_T11</td>\n",
       "      <td></td>\n",
       "      <td>vtkMRMLScalarVolumeNode9</td>\n",
       "      <td>[-15.748205410585879, 47.50696168142474, -25.5...</td>\n",
       "      <td>[-1.0, -0.0, -0.0, -0.0, -1.0, -0.0, 0.0, 0.0,...</td>\n",
       "      <td>True</td>\n",
       "      <td>False</td>\n",
       "      <td>True</td>\n",
       "      <td>defined</td>\n",
       "    </tr>\n",
       "    <tr>\n",
       "      <th>1</th>\n",
       "      <td>2</td>\n",
       "      <td>IF_L_T12</td>\n",
       "      <td></td>\n",
       "      <td>vtkMRMLScalarVolumeNode9</td>\n",
       "      <td>[-15.756392562144113, 45.479402051193176, -55....</td>\n",
       "      <td>[-1.0, -0.0, -0.0, -0.0, -1.0, -0.0, 0.0, 0.0,...</td>\n",
       "      <td>True</td>\n",
       "      <td>False</td>\n",
       "      <td>True</td>\n",
       "      <td>defined</td>\n",
       "    </tr>\n",
       "    <tr>\n",
       "      <th>2</th>\n",
       "      <td>3</td>\n",
       "      <td>IF_L_L1</td>\n",
       "      <td></td>\n",
       "      <td>vtkMRMLScalarVolumeNode9</td>\n",
       "      <td>[-15.776938215929848, 40.39159123812232, -89.3...</td>\n",
       "      <td>[-1.0, -0.0, -0.0, -0.0, -1.0, -0.0, 0.0, 0.0,...</td>\n",
       "      <td>True</td>\n",
       "      <td>False</td>\n",
       "      <td>True</td>\n",
       "      <td>defined</td>\n",
       "    </tr>\n",
       "    <tr>\n",
       "      <th>3</th>\n",
       "      <td>4</td>\n",
       "      <td>IF-L_L2</td>\n",
       "      <td></td>\n",
       "      <td>vtkMRMLScalarVolumeNode9</td>\n",
       "      <td>[-15.802593332852696, 34.03860915462013, -118....</td>\n",
       "      <td>[-1.0, -0.0, -0.0, -0.0, -1.0, -0.0, 0.0, 0.0,...</td>\n",
       "      <td>True</td>\n",
       "      <td>False</td>\n",
       "      <td>True</td>\n",
       "      <td>defined</td>\n",
       "    </tr>\n",
       "  </tbody>\n",
       "</table>\n",
       "</div>"
      ],
      "text/plain": [
       "  id     label description          associatedNodeID  \\\n",
       "0  1  IF_L_T11              vtkMRMLScalarVolumeNode9   \n",
       "1  2  IF_L_T12              vtkMRMLScalarVolumeNode9   \n",
       "2  3   IF_L_L1              vtkMRMLScalarVolumeNode9   \n",
       "3  4   IF-L_L2              vtkMRMLScalarVolumeNode9   \n",
       "\n",
       "                                            position  \\\n",
       "0  [-15.748205410585879, 47.50696168142474, -25.5...   \n",
       "1  [-15.756392562144113, 45.479402051193176, -55....   \n",
       "2  [-15.776938215929848, 40.39159123812232, -89.3...   \n",
       "3  [-15.802593332852696, 34.03860915462013, -118....   \n",
       "\n",
       "                                         orientation  selected  locked  \\\n",
       "0  [-1.0, -0.0, -0.0, -0.0, -1.0, -0.0, 0.0, 0.0,...      True   False   \n",
       "1  [-1.0, -0.0, -0.0, -0.0, -1.0, -0.0, 0.0, 0.0,...      True   False   \n",
       "2  [-1.0, -0.0, -0.0, -0.0, -1.0, -0.0, 0.0, 0.0,...      True   False   \n",
       "3  [-1.0, -0.0, -0.0, -0.0, -1.0, -0.0, 0.0, 0.0,...      True   False   \n",
       "\n",
       "   visibility positionStatus  \n",
       "0        True        defined  \n",
       "1        True        defined  \n",
       "2        True        defined  \n",
       "3        True        defined  "
      ]
     },
     "execution_count": 2,
     "metadata": {},
     "output_type": "execute_result"
    }
   ],
   "source": [
    "IF_L_Tbl"
   ]
  },
  {
   "cell_type": "code",
   "execution_count": 66,
   "id": "a3b53127-5ddb-4092-ad87-114550845e7e",
   "metadata": {},
   "outputs": [],
   "source": [
    "a= DREP_L_Tbl['position'][0][2]"
   ]
  },
  {
   "cell_type": "code",
   "execution_count": 83,
   "id": "39618eae-a6c4-4370-99df-bf7815d5ff27",
   "metadata": {},
   "outputs": [
    {
     "data": {
      "text/html": [
       "<div>\n",
       "<style scoped>\n",
       "    .dataframe tbody tr th:only-of-type {\n",
       "        vertical-align: middle;\n",
       "    }\n",
       "\n",
       "    .dataframe tbody tr th {\n",
       "        vertical-align: top;\n",
       "    }\n",
       "\n",
       "    .dataframe thead th {\n",
       "        text-align: right;\n",
       "    }\n",
       "</style>\n",
       "<table border=\"1\" class=\"dataframe\">\n",
       "  <thead>\n",
       "    <tr style=\"text-align: right;\">\n",
       "      <th></th>\n",
       "      <th>id</th>\n",
       "      <th>label</th>\n",
       "      <th>description</th>\n",
       "      <th>associatedNodeID</th>\n",
       "      <th>position</th>\n",
       "      <th>orientation</th>\n",
       "      <th>selected</th>\n",
       "      <th>locked</th>\n",
       "      <th>visibility</th>\n",
       "      <th>positionStatus</th>\n",
       "    </tr>\n",
       "  </thead>\n",
       "  <tbody>\n",
       "    <tr>\n",
       "      <th>0</th>\n",
       "      <td>1</td>\n",
       "      <td>DREP_L-1</td>\n",
       "      <td></td>\n",
       "      <td></td>\n",
       "      <td>[-2.249308109283447, 52.77119827270508, -8.776...</td>\n",
       "      <td>[-1.0, -0.0, -0.0, -0.0, -1.0, -0.0, 0.0, 0.0,...</td>\n",
       "      <td>True</td>\n",
       "      <td>False</td>\n",
       "      <td>True</td>\n",
       "      <td>defined</td>\n",
       "    </tr>\n",
       "  </tbody>\n",
       "</table>\n",
       "</div>"
      ],
      "text/plain": [
       "  id     label description associatedNodeID  \\\n",
       "0  1  DREP_L-1                                \n",
       "\n",
       "                                            position  \\\n",
       "0  [-2.249308109283447, 52.77119827270508, -8.776...   \n",
       "\n",
       "                                         orientation  selected  locked  \\\n",
       "0  [-1.0, -0.0, -0.0, -0.0, -1.0, -0.0, 0.0, 0.0,...      True   False   \n",
       "\n",
       "   visibility positionStatus  \n",
       "0        True        defined  "
      ]
     },
     "execution_count": 83,
     "metadata": {},
     "output_type": "execute_result"
    }
   ],
   "source": [
    "DREP_L_Tbl"
   ]
  },
  {
   "cell_type": "code",
   "execution_count": 13,
   "id": "d64a7cd9-1b9d-4b49-afd6-17ab6342f1d9",
   "metadata": {},
   "outputs": [
    {
     "data": {
      "text/plain": [
       "[array([-15.74820541,  47.50696168, -25.55525605]),\n",
       " array([-15.75639256,  45.47940205, -55.66134346]),\n",
       " array([-15.77693822,  40.39159124, -89.35914824]),\n",
       " array([ -15.80259333,   34.03860915, -118.54428739])]"
      ]
     },
     "execution_count": 13,
     "metadata": {},
     "output_type": "execute_result"
    }
   ],
   "source": [
    "if_L = [np.array(i) for i in IF_L_Tbl['position']]\n",
    "if_L"
   ]
  },
  {
   "cell_type": "code",
   "execution_count": 12,
   "id": "3e7a3982-312f-4a0a-8d9c-65f17adb7372",
   "metadata": {},
   "outputs": [],
   "source": [
    "# Spinal Cord Segmentation\n",
    "import dicom2nifti\n",
    "\n",
    "dicom2nifti.convert_directory(r\"YOUR_DATA_PATH\\t2_de3d_we_sag_p2_iso_0005\", r\"YOUR_DATA_PATH\", compression=True, reorient=True)\n"
   ]
  },
  {
   "cell_type": "code",
   "execution_count": 1,
   "id": "c738d4da-f71c-483b-b50a-977ea57797c1",
   "metadata": {},
   "outputs": [],
   "source": [
    "# Spinal Cord Segmentation\n",
    "import dicom2nifti\n",
    "\n",
    "dicom2nifti.convert_directory(r\"YOUR_DATA_PATH\\t2_space_cor_iso_myelo_ZOOMit_0009\", r\"YOUR_DATA_PATH\", compression=True, reorient=True)\n"
   ]
  },
  {
   "cell_type": "code",
   "execution_count": 13,
   "id": "24864cfe-e657-4674-9ae1-0b02f7cb7b85",
   "metadata": {},
   "outputs": [],
   "source": [
    "dicom2nifti.convert_directory(r\"YOUR_DATA_PATH\\t2_tse_sag_p2_448_0002\", r\"YOUR_DATA_PATH\", compression=True, reorient=True)\n"
   ]
  },
  {
   "cell_type": "code",
   "execution_count": 2,
   "id": "903c4f8e-c27a-4e8d-a784-2421cb013d58",
   "metadata": {},
   "outputs": [],
   "source": [
    "# Spinal Cord Segmentation\n",
    "import dicom2nifti\n",
    "\n",
    "dicom2nifti.convert_directory(r\"YOUR_DATA_PATH\\t2_tse_sag_p2_448_0003\", r\"YOUR_DATA_PATH\", compression=True, reorient=True)\n"
   ]
  },
  {
   "cell_type": "code",
   "execution_count": null,
   "id": "9982d448-11f5-4c5a-b465-3f94fe0fa170",
   "metadata": {},
   "outputs": [],
   "source": [
    "pv.set_jupyter_backend('trame')  "
   ]
  },
  {
   "cell_type": "code",
   "execution_count": null,
   "id": "da9d6564-91cc-41c5-aa27-b7e0d1d0f502",
   "metadata": {},
   "outputs": [],
   "source": []
  },
  {
   "cell_type": "code",
   "execution_count": 3,
   "id": "07b98d2e-f853-4c28-b2a8-aa4cc30da8af",
   "metadata": {},
   "outputs": [
    {
     "data": {
      "application/vnd.jupyter.widget-view+json": {
       "model_id": "6ee66f468f7743258f1505859e49c714",
       "version_major": 2,
       "version_minor": 0
      },
      "text/plain": [
       "Widget(value=\"<iframe src='http://localhost:55463/index.html?ui=P_0x20833ee3be0_0&reconnect=auto' style='width…"
      ]
     },
     "metadata": {},
     "output_type": "display_data"
    }
   ],
   "source": [
    "import pyvista as pv\n",
    "\n",
    "# # Load the JSON file\n",
    "# json_file = r\"YOUR_DATA_PATH\\IF_L.mrk.json\"\n",
    "# if_L = pd.read_json(json_file)['markups'][0]['controlPoints']\n",
    "\n",
    "# 坐标矩阵\n",
    "# vertices = np.array([[0, 0, 0], [1, 0, 0], [1, 0.5, 0], [0, 0.5, 0]])\n",
    "# poly_data = pv.PolyData(vertices)\n",
    "\n",
    "# 随机点云\n",
    "# nodes = np.random.rand(100, 3)\n",
    "# mesh = pv.PolyData(nodes)\n",
    "\n",
    "# if_L\n",
    "\n",
    "if_L = np.array([np.array(i) for i in IF_L_Tbl['position']])\n",
    "poly_data = pv.PolyData(if_L)\n",
    "\n",
    "# Visualize the fiducial points\n",
    "plotter = pv.Plotter()\n",
    "plotter.add_mesh(poly_data, color='red', point_size=10, render_points_as_spheres=True)\n",
    "\n",
    "plotter.show()\n"
   ]
  },
  {
   "cell_type": "code",
   "execution_count": 18,
   "id": "48c9d279-429f-455b-bd34-538063b05ce7",
   "metadata": {},
   "outputs": [],
   "source": [
    "line = pv.Line(center, interp1)"
   ]
  },
  {
   "cell_type": "code",
   "execution_count": 32,
   "id": "e15ce2d8-661a-4d13-819a-589d7403cc19",
   "metadata": {},
   "outputs": [
    {
     "data": {
      "text/plain": [
       "array([[ -15.74820541,   47.50696168,  -25.55525605],\n",
       "       [ -15.75639256,   45.47940205,  -55.66134346],\n",
       "       [ -15.77693822,   40.39159124,  -89.35914824],\n",
       "       [ -15.80259333,   34.03860915, -118.54428739]])"
      ]
     },
     "execution_count": 32,
     "metadata": {},
     "output_type": "execute_result"
    }
   ],
   "source": [
    "if_L"
   ]
  },
  {
   "cell_type": "code",
   "execution_count": 7,
   "id": "36646663-0167-4ac8-9538-d110a923fe03",
   "metadata": {},
   "outputs": [
    {
     "data": {
      "text/plain": [
       "['IF_L_T11', 'IF_L_T12', 'IF_L_L1', 'IF-L_L2']"
      ]
     },
     "execution_count": 7,
     "metadata": {},
     "output_type": "execute_result"
    }
   ],
   "source": [
    "list(IF_L_Tbl['label'])"
   ]
  },
  {
   "cell_type": "code",
   "execution_count": 7,
   "id": "41e96e4c-8f93-4204-8736-221f863463af",
   "metadata": {},
   "outputs": [],
   "source": [
    "\n",
    "\n",
    "\n",
    "\n",
    "# if_L\n",
    "if_L = np.array([np.array(i) for i in IF_L_Tbl['position']])\n",
    "DREP_L = np.array([np.array(i) for i in DREP_L_Tbl['position']])\n",
    "\n",
    "\n",
    "# poly_data = pv.PolyData(if_L)\n",
    "\n",
    "# Visualize the fiducial points\n",
    "#plotter = pv.Plotter()\n",
    "plotter = BackgroundPlotter()\n",
    "# plotter.add_mesh(poly_data, color='red', point_size=10, render_points_as_spheres=True) # no need if use add_point_labels\n",
    "\n",
    "\n",
    "plotter.add_point_labels(if_L, list(IF_L_Tbl['label']), font_size=24, point_color='red', point_size=20, render_points_as_spheres=True, always_visible=True)\n",
    "plotter.add_point_labels(DREP_L, list(DREP_L_Tbl['label']), font_size=24, point_color='green', point_size=20, render_points_as_spheres=True, always_visible=True)\n",
    "\n",
    "#import spinal cord and vertebrae\n",
    "stl_files = [r'YOUR_DATA_PATH/Spinal Cord.stl', r'YOUR_DATA_PATH/T11.stl']\n",
    "\n",
    "meshes = pv.read(stl_files)\n",
    "\n",
    "#plotter = BackgroundPlotter()\n",
    "\n",
    "for mesh in meshes:\n",
    "\n",
    "        plotter.add_mesh(mesh)\n",
    "\n",
    "plotter.show()\n",
    "\n"
   ]
  },
  {
   "cell_type": "code",
   "execution_count": 35,
   "id": "3af1b643-f0c6-4e50-9bae-77eb8590458f",
   "metadata": {},
   "outputs": [
    {
     "data": {
      "text/plain": [
       "array([[ -15.74820541,   47.50696168,  -25.55525605],\n",
       "       [ -15.75639256,   45.47940205,  -55.66134346],\n",
       "       [ -15.77693822,   40.39159124,  -89.35914824],\n",
       "       [ -15.80259333,   34.03860915, -118.54428739]])"
      ]
     },
     "execution_count": 35,
     "metadata": {},
     "output_type": "execute_result"
    }
   ],
   "source": [
    "if_L"
   ]
  },
  {
   "cell_type": "code",
   "execution_count": 12,
   "id": "73f47e7d-3c13-4c65-9242-651e7d9466d1",
   "metadata": {},
   "outputs": [
    {
     "name": "stderr",
     "output_type": "stream",
     "text": [
      "C:\\ProgramData\\anaconda3\\lib\\site-packages\\pyvista\\utilities\\helpers.py:507: UserWarning: Points is not a float type. This can cause issues when transforming or applying filters. Casting to ``np.float32``. Disable this by passing ``force_float=False``.\n",
      "  warnings.warn(\n"
     ]
    },
    {
     "data": {
      "application/vnd.jupyter.widget-view+json": {
       "model_id": "806c7a11aa194f23b9696222d03a1dc8",
       "version_major": 2,
       "version_minor": 0
      },
      "text/plain": [
       "Widget(value=\"<iframe src='http://localhost:49979/index.html?ui=P_0x23a84ac0100_5&reconnect=auto' style='width…"
      ]
     },
     "metadata": {},
     "output_type": "display_data"
    }
   ],
   "source": [
    " import pyvista as pv\n",
    "\n",
    "# Create a PyVista PolyData object\n",
    "poly_data = pv.PolyData()\n",
    "poly_data.points = [[0, 0, 0], [1, 0, 0], [0, 1, 0]]\n",
    "poly_data.faces = [[0, 1, 2]]\n",
    "\n",
    "# Create a plotter\n",
    "plotter = pv.Plotter()\n",
    "\n",
    "# Add the PolyData to the plotter\n",
    "plotter.add_mesh(poly_data)\n",
    "\n",
    "# Add string labels to the points\n",
    "labels = [\"Point 1\", \"Point 2\", \"Point 3\"]\n",
    "point_ids = [0, 1, 2]\n",
    "plotter.add_point_labels(poly_data.points, labels)\n",
    "\n",
    "# Display the interactive window\n",
    "plotter.show()\n"
   ]
  },
  {
   "cell_type": "markdown",
   "id": "cb1d55f8-2dff-477a-9431-c63a763746ea",
   "metadata": {},
   "source": [
    "## 切面识别中心"
   ]
  },
  {
   "cell_type": "code",
   "execution_count": 9,
   "id": "ca076505-714d-4639-add1-37698cf86811",
   "metadata": {},
   "outputs": [],
   "source": [
    "# 在DREP高度切片\n",
    "sliced_mesh = meshes[0].slice(normal='z', origin=DREP_L_Tbl['position'][0])\n"
   ]
  },
  {
   "cell_type": "code",
   "execution_count": 172,
   "id": "b379d6a6",
   "metadata": {},
   "outputs": [
    {
     "data": {
      "text/plain": [
       "-8.776601791381836"
      ]
     },
     "execution_count": 172,
     "metadata": {},
     "output_type": "execute_result"
    }
   ],
   "source": [
    "center[2]"
   ]
  },
  {
   "cell_type": "code",
   "execution_count": 197,
   "id": "29e40164",
   "metadata": {},
   "outputs": [
    {
     "data": {
      "text/plain": [
       "array([-1.45599413, 49.35988808, -8.77660179])"
      ]
     },
     "execution_count": 197,
     "metadata": {},
     "output_type": "execute_result"
    }
   ],
   "source": [
    "center"
   ]
  },
  {
   "cell_type": "code",
   "execution_count": 198,
   "id": "821aa99e",
   "metadata": {},
   "outputs": [
    {
     "data": {
      "text/plain": [
       "array([ 18.54400587,  49.35988808, -17.55320358])"
      ]
     },
     "execution_count": 198,
     "metadata": {},
     "output_type": "execute_result"
    }
   ],
   "source": [
    "cart2polTransform(np.array([20,0,center[2]]),center,direction= 'pol2cart')"
   ]
  },
  {
   "cell_type": "code",
   "execution_count": null,
   "id": "77eeef8f-5ae6-4f29-b85e-ace8a6826fe2",
   "metadata": {
    "scrolled": true
   },
   "outputs": [],
   "source": [
    "bection= 'pol2cart')))\n",
    "#plotter.add_mesh(pv.Line(center,cart2polTransform(np.array([20,math.pi/2,0]),center,direction= 'pol2cart')))\n",
    "plotter.add_point_labels(if_L[2], [IF_L_Tbl['label'][2]], font_size=24, point_color='red', point_size=20, render_points_as_spheres=True, always_visible=True)\n",
    "plotter.add_point_labels(DREP_L, list(DREP_L_Tbl['label']), font_size=24, point_color='green', point_size=20, render_points_as_spheres=True, always_visible=True)\n",
    "\n",
    "\n",
    "plotter.show()"
   ]
  },
  {
   "cell_type": "code",
   "execution_count": null,
   "id": "924520bf",
   "metadata": {},
   "outputs": [],
   "source": [
    "def polyline_from_points(points):\n",
    "    poly = pv.PolyData()\n",
    "    poly.points = points\n",
    "    the_cell = np.arange(0, len(points), dtype=np.int_)\n",
    "    the_cell = np.insert(the_cell, 0, len(points))\n",
    "    poly.lines = the_cell\n",
    "    return poly\n",
    "\n",
    "\n",
    "polyline = polyline_from_points(points)\n",
    "polyline[\"scalars\"] = np.arange(polyline.n_points)\n",
    "tube = polyline.tube(radius=0.1)\n",
    "tube.plot(smooth_shading=True)"
   ]
  },
  {
   "cell_type": "code",
   "execution_count": 216,
   "id": "ce7240a6",
   "metadata": {},
   "outputs": [
    {
     "data": {
      "text/plain": [
       "['IF_L_L1']"
      ]
     },
     "execution_count": 216,
     "metadata": {},
     "output_type": "execute_result"
    }
   ],
   "source": [
    "[IF_L_Tbl['label'][2]]"
   ]
  },
  {
   "cell_type": "code",
   "execution_count": 217,
   "id": "ae6e3b65",
   "metadata": {},
   "outputs": [
    {
     "data": {
      "text/plain": [
       "['DREP_L-1']"
      ]
     },
     "execution_count": 217,
     "metadata": {},
     "output_type": "execute_result"
    }
   ],
   "source": [
    "list(DREP_L_Tbl['label'])"
   ]
  },
  {
   "cell_type": "code",
   "execution_count": 154,
   "id": "b232e3f8",
   "metadata": {},
   "outputs": [
    {
     "data": {
      "text/plain": [
       "array([-15.77693822,  40.39159124, -89.35914824])"
      ]
     },
     "execution_count": 154,
     "metadata": {},
     "output_type": "execute_result"
    }
   ],
   "source": [
    "if_L[2]"
   ]
  },
  {
   "cell_type": "code",
   "execution_count": 155,
   "id": "8e495ff3",
   "metadata": {},
   "outputs": [
    {
     "data": {
      "text/plain": [
       "array([[-2.24930811, 52.77119827, -8.77660179]])"
      ]
     },
     "execution_count": 155,
     "metadata": {},
     "output_type": "execute_result"
    }
   ],
   "source": [
    "DREP_L"
   ]
  },
  {
   "cell_type": "code",
   "execution_count": 152,
   "id": "574bd04d",
   "metadata": {},
   "outputs": [
    {
     "data": {
      "text/plain": [
       "[array([ -1.16945849,  53.24217374, -14.33401879]),\n",
       " array([ -0.34762466,  54.20802887, -17.11272729]),\n",
       " array([  0.49558764,  54.30568402, -19.89143578]),\n",
       " array([  1.32015382,  54.13164767, -22.67014428]),\n",
       " array([  2.00672002,  53.65945757, -25.44885278]),\n",
       " array([  2.66242378,  53.13331622, -28.22756128]),\n",
       " array([  3.18344251,  52.47047543, -31.00626978]),\n",
       " array([  3.59876304,  51.73676754, -33.78497827]),\n",
       " array([  3.82537361,  50.9270831 , -36.56368677]),\n",
       " array([  4.00108817,  50.11434036, -39.34239527]),\n",
       " array([  3.13298356,  49.29700846, -42.12110377]),\n",
       " array([  3.25901023,  48.57582112, -44.89981227]),\n",
       " array([  3.1982013 ,  47.83885853, -47.67852077]),\n",
       " array([  2.96302419,  47.13211206, -50.45722926]),\n",
       " array([  2.57738686,  46.49238975, -53.23593776]),\n",
       " array([  2.05912299,  45.95742665, -56.01464626]),\n",
       " array([  1.50698218,  45.46713025, -58.79335476]),\n",
       " array([  0.80309526,  45.21990185, -61.57206326]),\n",
       " array([  0.1086037 ,  45.05273195, -64.35077175]),\n",
       " array([ -0.6500225 ,  45.32911625, -67.12948025]),\n",
       " array([ -1.29183659,  45.81455809, -69.90818875]),\n",
       " array([ -1.83982437,  45.71126425, -72.68689725]),\n",
       " array([ -2.41562294,  45.69202422, -75.46560575]),\n",
       " array([ -2.96827252,  45.85147388, -78.24431424]),\n",
       " array([ -3.49270346,  46.09724485, -81.02302274]),\n",
       " array([ -3.93890054,  46.46619314, -83.80173124]),\n",
       " array([ -4.98817009,  46.32037614, -86.58043974]),\n",
       " array([ -5.48952128,  46.83394645, -89.35914824])]"
      ]
     },
     "execution_count": 152,
     "metadata": {},
     "output_type": "execute_result"
    }
   ],
   "source": [
    "interp_list"
   ]
  },
  {
   "cell_type": "code",
   "execution_count": 10,
   "id": "bb2fbade-f495-4ae5-aa9c-5a8ceb0665e6",
   "metadata": {},
   "outputs": [],
   "source": [
    "# Calculate the center of the sliced mesh\n",
    "center = np.array(sliced_mesh.center)\n",
    "interp1 = np.array([-5, 54, center[2]])"
   ]
  },
  {
   "cell_type": "code",
   "execution_count": 11,
   "id": "aa2a6f1f-e33c-449a-8c7e-b4d4b73343f2",
   "metadata": {},
   "outputs": [
    {
     "data": {
      "text/html": [
       "\n",
       "<table>\n",
       "<tr><th>PolyData</th><th>Information</th></tr>\n",
       "<tr><td>N Cells</td><td>119</td></tr>\n",
       "<tr><td>N Points</td><td>119</td></tr>\n",
       "<tr><td>N Strips</td><td>0</td></tr>\n",
       "<tr><td>X Bounds</td><td>-6.103e+00, 3.191e+00</td></tr>\n",
       "<tr><td>Y Bounds</td><td>4.592e+01, 5.280e+01</td></tr>\n",
       "<tr><td>Z Bounds</td><td>-8.777e+00, -8.777e+00</td></tr>\n",
       "<tr><td>N Arrays</td><td>0</td></tr>\n",
       "</table>\n",
       "\n"
      ],
      "text/plain": [
       "PolyData (0x2084f68d5a0)\n",
       "  N Cells:    119\n",
       "  N Points:   119\n",
       "  N Strips:   0\n",
       "  X Bounds:   -6.103e+00, 3.191e+00\n",
       "  Y Bounds:   4.592e+01, 5.280e+01\n",
       "  Z Bounds:   -8.777e+00, -8.777e+00\n",
       "  N Arrays:   0"
      ]
     },
     "execution_count": 11,
     "metadata": {},
     "output_type": "execute_result"
    }
   ],
   "source": [
    "sliced_mesh"
   ]
  },
  {
   "cell_type": "code",
   "execution_count": 13,
   "id": "93d99d96",
   "metadata": {},
   "outputs": [
    {
     "data": {
      "text/plain": [
       "[-1.4559941291809082, 49.35988807678223, -8.776601791381836]"
      ]
     },
     "execution_count": 13,
     "metadata": {},
     "output_type": "execute_result"
    }
   ],
   "source": [
    "center"
   ]
  },
  {
   "cell_type": "code",
   "execution_count": 243,
   "id": "306fa01e-3d2a-4af3-9892-f5526b36d2d8",
   "metadata": {},
   "outputs": [],
   "source": [
    "\n",
    "# Compute the intersection between the line and the slice contour\n",
    "line = pv.Line(center, interp1)\n",
    "#intersection = sliced_mesh.intersect_with_line(line)\n",
    "intersection, s1_split, l_split = cube.intersection(line)\n",
    "# Calculate the distance between the center and the intersection point\n",
    "#distance = np.linalg.norm(center - intersection)"
   ]
  },
  {
   "cell_type": "code",
   "execution_count": 17,
   "id": "29a6127f-a5c6-42f4-9fd5-f49d79e789df",
   "metadata": {},
   "outputs": [
    {
     "data": {
      "text/plain": [
       "5.838717005677526"
      ]
     },
     "execution_count": 17,
     "metadata": {},
     "output_type": "execute_result"
    }
   ],
   "source": [
    "d = np.sqrt(np.sum((center-interp1)**2))"
   ]
  },
  {
   "cell_type": "code",
   "execution_count": 150,
   "id": "13554f33-b9fc-4c87-8281-9681654b9ec4",
   "metadata": {},
   "outputs": [
    {
     "data": {
      "text/plain": [
       "[-1.4559941291809082, 49.35988807678223, -8.776601791381836]"
      ]
     },
     "execution_count": 150,
     "metadata": {},
     "output_type": "execute_result"
    }
   ],
   "source": [
    "center"
   ]
  },
  {
   "cell_type": "code",
   "execution_count": 151,
   "id": "45adf3b1-6a17-4f04-850b-4e571b90ecae",
   "metadata": {},
   "outputs": [
    {
     "data": {
      "text/plain": [
       "array([-5.        , 54.        , -8.77660179])"
      ]
     },
     "execution_count": 151,
     "metadata": {},
     "output_type": "execute_result"
    }
   ],
   "source": [
    "interp1"
   ]
  },
  {
   "cell_type": "code",
   "execution_count": 208,
   "id": "d9b11032-69c9-4343-a0b9-879d10615ae1",
   "metadata": {},
   "outputs": [
    {
     "data": {
      "text/plain": [
       "pyvista.core.pointset.PolyData"
      ]
     },
     "execution_count": 208,
     "metadata": {},
     "output_type": "execute_result"
    }
   ],
   "source": [
    "type(contour_on_line)"
   ]
  },
  {
   "cell_type": "code",
   "execution_count": 206,
   "id": "699e800c-c188-4ed6-97c0-af736cf5cfcb",
   "metadata": {},
   "outputs": [],
   "source": [
    "# Sample the contour along the line\n",
    "contour_on_line = sliced_mesh.probe(line)\n"
   ]
  },
  {
   "cell_type": "code",
   "execution_count": 8,
   "id": "72b2a323-f435-4e86-abfc-f0408f424860",
   "metadata": {},
   "outputs": [],
   "source": [
    "cube = sliced_mesh.extract_surface().triangulate()"
   ]
  },
  {
   "cell_type": "code",
   "execution_count": 232,
   "id": "db11ad76-46a6-40eb-95c6-de1fc2de684e",
   "metadata": {},
   "outputs": [
    {
     "data": {
      "text/plain": [
       "pyvista.core.pointset.PolyData"
      ]
     },
     "execution_count": 232,
     "metadata": {},
     "output_type": "execute_result"
    }
   ],
   "source": [
    "type(cube)"
   ]
  },
  {
   "cell_type": "code",
   "execution_count": 235,
   "id": "8ba520eb-008b-4177-96b6-8e79f478029e",
   "metadata": {},
   "outputs": [
    {
     "data": {
      "application/vnd.jupyter.widget-view+json": {
       "model_id": "13a9a3f59a214bdb9eabc63294b71d5a",
       "version_major": 2,
       "version_minor": 0
      },
      "text/plain": [
       "Widget(value=\"<iframe src='http://localhost:52712/index.html?ui=P_0x1a989f5c760_54&reconnect=auto' style='widt…"
      ]
     },
     "metadata": {},
     "output_type": "display_data"
    }
   ],
   "source": [
    "# Create a plotter\n",
    "plotter = pv.Plotter()\n",
    "\n",
    "# Add the PolyData to the plotter\n",
    "plotter.add_mesh(cube,color='blue')\n",
    "\n",
    "# Display the interactive window\n",
    "plotter.show()\n"
   ]
  },
  {
   "cell_type": "markdown",
   "id": "f485e617-091d-458b-b478-d31185706ccb",
   "metadata": {},
   "source": [
    "### 投影后 find closest point"
   ]
  },
  {
   "cell_type": "code",
   "execution_count": 218,
   "id": "914ba2a4-7b16-4989-b8b4-34f0724e79ae",
   "metadata": {},
   "outputs": [
    {
     "ename": "IndexError",
     "evalue": "index 0 is out of bounds for axis 0 with size 0",
     "output_type": "error",
     "traceback": [
      "\u001b[1;31m---------------------------------------------------------------------------\u001b[0m",
      "\u001b[1;31mIndexError\u001b[0m                                Traceback (most recent call last)",
      "Cell \u001b[1;32mIn[218], line 11\u001b[0m\n\u001b[0;32m      8\u001b[0m intersections \u001b[38;5;241m=\u001b[39m contour_on_line\u001b[38;5;241m.\u001b[39mthreshold([\u001b[38;5;241m0.5\u001b[39m, \u001b[38;5;241m1.0\u001b[39m])\n\u001b[0;32m     10\u001b[0m \u001b[38;5;66;03m# Get the intersection point\u001b[39;00m\n\u001b[1;32m---> 11\u001b[0m intersection_point \u001b[38;5;241m=\u001b[39m \u001b[43mintersections\u001b[49m\u001b[38;5;241;43m.\u001b[39;49m\u001b[43mpoints\u001b[49m\u001b[43m[\u001b[49m\u001b[38;5;241;43m0\u001b[39;49m\u001b[43m]\u001b[49m\n\u001b[0;32m     13\u001b[0m \u001b[38;5;66;03m# Print the intersection point\u001b[39;00m\n\u001b[0;32m     14\u001b[0m \u001b[38;5;28mprint\u001b[39m(\u001b[38;5;124m\"\u001b[39m\u001b[38;5;124mIntersection Point:\u001b[39m\u001b[38;5;124m\"\u001b[39m, intersection_point)\n",
      "\u001b[1;31mIndexError\u001b[0m: index 0 is out of bounds for axis 0 with size 0"
     ]
    }
   ],
   "source": [
    "import pyvista as pv\n",
    "\n",
    "\n",
    "# Sample the contour along the line\n",
    "contour_on_line = sliced_mesh.probe(line)\n",
    "\n",
    "# Find the point where the scalar value changes\n",
    "intersections = contour_on_line.threshold([0.5, 1.0])\n",
    "\n",
    "# Get the intersection point\n",
    "intersection_point = intersections.points[0]\n",
    "\n",
    "# Print the intersection point\n",
    "print(\"Intersection Point:\", intersection_point)"
   ]
  },
  {
   "cell_type": "code",
   "execution_count": 11,
   "id": "40e491bd-0f7a-4b14-aa4c-c90ba2f59ce8",
   "metadata": {},
   "outputs": [
    {
     "data": {
      "application/vnd.jupyter.widget-view+json": {
       "model_id": "36c87da350ad440fbb64995da024bc21",
       "version_major": 2,
       "version_minor": 0
      },
      "text/plain": [
       "Widget(value=\"<iframe src='http://localhost:64917/index.html?ui=P_0x1d9befef1c0_0&reconnect=auto' style='width…"
      ]
     },
     "metadata": {},
     "output_type": "display_data"
    }
   ],
   "source": [
    "plotter = pv.Plotter()\n",
    "\n",
    "plotter.add_mesh(sliced_mesh, color = 'red')\n",
    "plotter.add_point_labels(center, ['O'], point_color = 'yellow', point_size=20, render_points_as_spheres=True, always_visible=True)\n",
    "plotter.add_point_labels(interp1, ['interp1'], point_color = 'blue', point_size=20, render_points_as_spheres=True, always_visible=True)\n",
    "plotter.add_point_labels(DREP_L, list(DREP_L_Tbl['label']), font_size=24, point_color='green', point_size=20, render_points_as_spheres=True, always_visible=True)\n",
    "plotter.add_point_labels(sliced_mesh.points[93], ['X'], point_color = 'blue', point_size=20, render_points_as_spheres=True, always_visible=True)\n",
    "\n",
    "#plotter.add_mesh(contour_on_line, color = 'blue')\n",
    "#plotter.add_mesh(line, color = 'red')\n",
    "\n",
    "\n",
    "plotter.show()"
   ]
  },
  {
   "cell_type": "code",
   "execution_count": 244,
   "id": "7f7f4921-47f5-4f77-9ede-2e23d0e3f76c",
   "metadata": {},
   "outputs": [],
   "source": [
    "# Sample the contour along the line\n",
    "contour_on_line = cube.probe(line)\n",
    "\n",
    "# Find the point where the scalar value changes\n",
    "intersections = contour_on_line.threshold([0.5, 1.0])"
   ]
  },
  {
   "cell_type": "code",
   "execution_count": 249,
   "id": "80943e67-6bf0-461d-90dd-fa43448c3622",
   "metadata": {},
   "outputs": [
    {
     "data": {
      "text/html": [
       "<table><tr><th>Header</th><th>Data Arrays</th></tr><tr><td>\n",
       "<table>\n",
       "<tr><th>UnstructuredGrid</th><th>Information</th></tr>\n",
       "<tr><td>N Cells</td><td>0</td></tr>\n",
       "<tr><td>N Points</td><td>0</td></tr>\n",
       "<tr><td>X Bounds</td><td>1.000e+299, -1.000e+299</td></tr>\n",
       "<tr><td>Y Bounds</td><td>1.000e+299, -1.000e+299</td></tr>\n",
       "<tr><td>Z Bounds</td><td>1.000e+299, -1.000e+299</td></tr>\n",
       "<tr><td>N Arrays</td><td>5</td></tr>\n",
       "</table>\n",
       "\n",
       "</td><td>\n",
       "<table>\n",
       "<tr><th>Name</th><th>Field</th><th>Type</th><th>N Comp</th><th>Min</th><th>Max</th></tr>\n",
       "<tr><td>vtkOriginalPointIds</td><td>Points</td><td>int64</td><td>1</td><td>nan</td><td>nan</td></tr>\n",
       "<tr><td>vtkOriginalCellIds</td><td>Points</td><td>int64</td><td>1</td><td>nan</td><td>nan</td></tr>\n",
       "<tr><td>vtkValidPointMask</td><td>Points</td><td>int8</td><td>1</td><td>nan</td><td>nan</td></tr>\n",
       "<tr><td>Texture Coordinates</td><td>Points</td><td>float32</td><td>2</td><td>nan</td><td>nan</td></tr>\n",
       "<tr><td><b>Distance</b></td><td>Points</td><td>float64</td><td>1</td><td>nan</td><td>nan</td></tr>\n",
       "</table>\n",
       "\n",
       "</td></tr> </table>"
      ],
      "text/plain": [
       "UnstructuredGrid (0x1a96ff48460)\n",
       "  N Cells:    0\n",
       "  N Points:   0\n",
       "  X Bounds:   1.000e+299, -1.000e+299\n",
       "  Y Bounds:   1.000e+299, -1.000e+299\n",
       "  Z Bounds:   1.000e+299, -1.000e+299\n",
       "  N Arrays:   5"
      ]
     },
     "execution_count": 249,
     "metadata": {},
     "output_type": "execute_result"
    }
   ],
   "source": [
    "intersections"
   ]
  },
  {
   "cell_type": "code",
   "execution_count": 9,
   "id": "7e2e676e-727c-4074-af63-b649fa08fbe4",
   "metadata": {},
   "outputs": [],
   "source": [
    "# Compute the intersection between the line and the slice contour\n",
    "line = pv.Line(center, interp1)"
   ]
  },
  {
   "cell_type": "code",
   "execution_count": 10,
   "id": "7522c0c9-c32b-4800-9de4-a4ab975bf9c7",
   "metadata": {},
   "outputs": [],
   "source": [
    "# Get the coordinates of the line\n",
    "line_points = line.points\n",
    "\n",
    "# Find the closest point on the spline to the line\n",
    "closest_point = sliced_mesh.find_closest_point(interp1)"
   ]
  },
  {
   "cell_type": "code",
   "execution_count": 11,
   "id": "43971648-cbfc-41c8-93fc-a4e58b49d04a",
   "metadata": {},
   "outputs": [
    {
     "data": {
      "text/plain": [
       "pyvista_ndarray([[-1.4559941, 49.359886 , -8.776602 ],\n",
       "                 [-5.       , 54.       , -8.776602 ]], dtype=float32)"
      ]
     },
     "execution_count": 11,
     "metadata": {},
     "output_type": "execute_result"
    }
   ],
   "source": [
    "line_points"
   ]
  },
  {
   "cell_type": "code",
   "execution_count": 12,
   "id": "4a73bed0-8b11-4701-b99d-b2cc5c55a5a9",
   "metadata": {},
   "outputs": [
    {
     "data": {
      "text/plain": [
       "93"
      ]
     },
     "execution_count": 12,
     "metadata": {},
     "output_type": "execute_result"
    }
   ],
   "source": [
    "closest_point"
   ]
  },
  {
   "cell_type": "code",
   "execution_count": 14,
   "id": "2d88e5e6",
   "metadata": {},
   "outputs": [
    {
     "data": {
      "text/plain": [
       "pyvista_ndarray([-4.4840612, 52.605656 , -8.776602 ], dtype=float32)"
      ]
     },
     "execution_count": 14,
     "metadata": {},
     "output_type": "execute_result"
    }
   ],
   "source": [
    "sliced_mesh.points[93]"
   ]
  },
  {
   "cell_type": "code",
   "execution_count": null,
   "id": "3015dee5-ab7d-44ed-8588-0be682b0ecf1",
   "metadata": {},
   "outputs": [],
   "source": [
    "import numpy as np\n",
    "\n",
    "# use one of...\n",
    "from pykdtree.kdtree import KDTree\n",
    "# from scipy.spatial import cKDTree as KDTree\n",
    "\n",
    "import pyvista\n",
    "\n",
    "sphere = pyvista.Sphere()\n",
    "\n",
    "\n",
    "tree = KDTree(sphere.points.astype(np.double))\n",
    "\n",
    "pts = np.array([[0, 0.2, 0.2]])\n",
    "dist, idx = tree.query(pts)\n",
    "\n",
    "nearest_pt = sphere.points[idx]\n",
    "print(f'Nearest point from {pts[0]}')\n",
    "print(f'...       is point {nearest_pt[0]}')"
   ]
  },
  {
   "cell_type": "code",
   "execution_count": 203,
   "id": "bc80146e-9cf0-4a6c-93b7-af3535a5c9e8",
   "metadata": {},
   "outputs": [
    {
     "data": {
      "application/vnd.jupyter.widget-view+json": {
       "model_id": "001914681b7948579559e65aa4195621",
       "version_major": 2,
       "version_minor": 0
      },
      "text/plain": [
       "Widget(value=\"<iframe src='http://localhost:52712/index.html?ui=P_0x1a9484004f0_43&reconnect=auto' style='widt…"
      ]
     },
     "metadata": {},
     "output_type": "display_data"
    }
   ],
   "source": [
    "plotter = pv.Plotter()\n",
    "plotter.add_mesh(sliced_mesh, color = 'red')\n",
    "plotter.add_mesh(line, color = 'red')\n",
    "plotter.add_point_labels(center, ['O'], point_color = 'yellow', point_size=20, render_points_as_spheres=True, always_visible=True)\n",
    "plotter.add_point_labels(interp1, ['interp1'], point_color = 'blue', point_size=20, render_points_as_spheres=True, always_visible=True)\n",
    "plotter.add_point_labels(DREP_L, list(DREP_L_Tbl['label']), font_size=24, point_color='green', point_size=20, render_points_as_spheres=True, always_visible=True)\n",
    "\n",
    "\n",
    "plotter.show()"
   ]
  },
  {
   "cell_type": "code",
   "execution_count": 77,
   "id": "88e8aa08-236e-49cc-94f4-ce87ea39acf5",
   "metadata": {},
   "outputs": [
    {
     "data": {
      "text/html": [
       "\n",
       "<table>\n",
       "<tr><th>PolyData</th><th>Information</th></tr>\n",
       "<tr><td>N Cells</td><td>65708</td></tr>\n",
       "<tr><td>N Points</td><td>32856</td></tr>\n",
       "<tr><td>N Strips</td><td>0</td></tr>\n",
       "<tr><td>X Bounds</td><td>-3.039e+01, 3.009e+01</td></tr>\n",
       "<tr><td>Y Bounds</td><td>2.687e+01, 6.860e+01</td></tr>\n",
       "<tr><td>Z Bounds</td><td>-4.205e+01, 8.699e+00</td></tr>\n",
       "<tr><td>N Arrays</td><td>0</td></tr>\n",
       "</table>\n",
       "\n"
      ],
      "text/plain": [
       "PolyData (0x1a8ae924340)\n",
       "  N Cells:    65708\n",
       "  N Points:   32856\n",
       "  N Strips:   0\n",
       "  X Bounds:   -3.039e+01, 3.009e+01\n",
       "  Y Bounds:   2.687e+01, 6.860e+01\n",
       "  Z Bounds:   -4.205e+01, 8.699e+00\n",
       "  N Arrays:   0"
      ]
     },
     "execution_count": 77,
     "metadata": {},
     "output_type": "execute_result"
    }
   ],
   "source": [
    "# about the contour error\n",
    "mesh = pv.StructuredGrid(x,y,z).elevation()\n",
    "contours = mesh.contour()\n",
    "\n",
    "p = pv.Plotter(notebook=False, border=True)\n",
    "p.add_mesh(contours, clim=[zmin,zmax], cmap='gist_rainbow')\n",
    "p.add_axes()\n",
    "p.add_bounding_box()\n",
    "p.show_grid()\n",
    "p.view_xy(negative=False)\n",
    "p.show()\n",
    "\n",
    "#\n",
    "########################################\n",
    "\n",
    "mesh = pv.StructuredGrid(x,y,z)\n",
    "mesh['my scalars'] = z.ravel(order='f')\n"
   ]
  },
  {
   "cell_type": "code",
   "execution_count": null,
   "id": "63a638eb-1a12-4bb8-b8a9-61e5e2a6fc04",
   "metadata": {},
   "outputs": [],
   "source": [
    "import pyvista as pv\n",
    "import vtk\n",
    "\n",
    "\n",
    "# Create a vtkPolyData object from the spline PolyData\n",
    "vtk_spline_polydata = \n",
    "vtk_spline_polydata.ShallowCopy(spline_polydata)\n",
    "\n",
    "# Create a vtkLineSource object for the line\n",
    "line_source = vtk.vtkLineSource()\n",
    "line_source.SetPoint1(0.0, 0.0, 0.0)\n",
    "line_source.SetPoint2(1.0, 1.0, 1.0)\n",
    "line_source.Update()\n",
    "\n",
    "# Perform intersection using vtkIntersectionPolyDataFilter\n",
    "intersection_filter = vtk.vtkIntersectionPolyDataFilter()\n",
    "intersection_filter.SetInputData(0, vtk_spline_polydata)\n",
    "intersection_filter.SetInputData(1, line_source.GetOutput())\n",
    "intersection_filter.Update()\n",
    "\n",
    "# Get the intersection points\n",
    "intersection_points = intersection_filter.GetOutput()\n",
    "\n",
    "# Get the first intersection point\n",
    "if intersection_points.GetNumberOfPoints() > 0:\n",
    "    intersection_point = intersection_points.GetPoint(0)\n",
    "    print(\"Intersection Point:\", intersection_point)\n",
    "else:\n",
    "    print(\"No intersection found.\")\n"
   ]
  },
  {
   "cell_type": "markdown",
   "id": "f59f5fa1-7ccb-492a-8b6a-984c24802d25",
   "metadata": {},
   "source": [
    "## 插值点采样"
   ]
  },
  {
   "cell_type": "code",
   "execution_count": 98,
   "id": "ddf00bf9",
   "metadata": {},
   "outputs": [
    {
     "data": {
      "text/plain": [
       "array([-1.45599413, 49.35988808, -8.77660179])"
      ]
     },
     "execution_count": 98,
     "metadata": {},
     "output_type": "execute_result"
    }
   ],
   "source": [
    "center"
   ]
  },
  {
   "cell_type": "code",
   "execution_count": 235,
   "id": "2995d4c8-0550-4943-8d49-14e92bc8b76b",
   "metadata": {},
   "outputs": [],
   "source": [
    "# 参数设定：can\n",
    "def interpolate_point_sampling(num,origin,entrypoint,endpoint):\n",
    "    # Parameters：\n",
    "    # num： the number of sampling points to interpolate(including the enterpoint and endpoint)\n",
    "    # entrypoint: the 3-D array of enrtypoint()\n",
    "    #\n",
    "    # Varaibles:\n",
    "    # z: the height of the point(polar/cartesian coordinate)\n",
    "    # a: the angle of the point(polar coordinate relative to the DREP height slice center)\n",
    "    # d: the radius of the point(polar coordinate relative to the DREP height slice center)\n",
    "    \n",
    "    # Coordinate system transform\n",
    "    etrp_pol = cart2polTransform(entrypoint,origin)\n",
    "    endp_pol = cart2polTransform(endpoint,origin)\n",
    "    d,a,z =[],[],[]\n",
    "\n",
    "    for i in range(num-2):\n",
    "        \n",
    "        ai = etrp_pol[1] + ((i+2)/(num-1))*(endp_pol[1] - etrp_pol[1])\n",
    "        zi = etrp_pol[2] + ((i+2)/(num-1))*(endp_pol[2]-etrp_pol[2])\n",
    "        print(i,ai)\n",
    "        #dwmi = get_dwm(ai)\n",
    "        #di = dwmi + gapSC\n",
    "        di = etrp_pol[0] + ((i+2)/(num-1))*(endp_pol[0]-etrp_pol[0])\n",
    "        print(di)\n",
    "        \n",
    "        d.append(di)\n",
    "        a.append(ai)\n",
    "        z.append(zi)\n",
    "        \n",
    "        \n",
    "        \n",
    "    return d,a,z\n",
    "\n",
    "    \n",
    "    \n",
    "\n"
   ]
  },
  {
   "cell_type": "code",
   "execution_count": 261,
   "id": "612551d4",
   "metadata": {},
   "outputs": [],
   "source": [
    "\n",
    "def interpolate_point_sampling(num,origin,entrypoint,endpoint,gapSC):\n",
    "    # Parameters：\n",
    "    # num： the number of sampling points to interpolate(including the enterpoint and endpoint)\n",
    "    # entrypoint: the 3-D array of enrtypoint()\n",
    "    #\n",
    "    # Varaibles:\n",
    "    # z: the height of the point(polar/cartesian coordinate)\n",
    "    # a: the angle of the point(polar coordinate relative to the DREP height slice center)\n",
    "    # d: the radius of the point(polar coordinate relative to the DREP height slice center)\n",
    "    \n",
    "    # Coordinate system transform\n",
    "    etrp_pol = cart2polTransform(entrypoint,origin)\n",
    "    endp_pol = cart2polTransform(endpoint,origin)\n",
    "    d,a,z =[],[],[]\n",
    "    print(etrp_pol,endp_pol)\n",
    "    ai = etrp_pol[1]\n",
    "    for i in range(2,num):\n",
    "        if ai <= math.pi:\n",
    "            print('yes')\n",
    "            \n",
    "            zi = etrp_pol[2] + (i/(num-1))*(endp_pol[2] - etrp_pol[2])\n",
    "            ai = etrp_pol[1] + (i/(num-1))*(endp_pol[1] - etrp_pol[1])\n",
    "            dwmi = get_dwm(ai)\n",
    "            di = dwmi + gapSC\n",
    "            print(di,ai,zi)\n",
    "            i0 = i\n",
    "            di0 = di\n",
    "            ai0 = ai\n",
    "            zi0 = zi\n",
    "        else:\n",
    "            print('no',di,ai,zi)\n",
    "            wi = (i-i0)/(num-i0)\n",
    "            di = (1-wi)*di0+wi*endp_pol[0]\n",
    "            ai = (1-wi)*ai0+wi*endp_pol[1]\n",
    "            zi = (1-wi)*zi0+wi*endp_pol[2]\n",
    "        d.append(di)\n",
    "        a.append(ai)\n",
    "        z.append(zi)\n",
    "        \n",
    "        \n",
    "        \n",
    "    return d,a,z\n"
   ]
  },
  {
   "cell_type": "code",
   "execution_count": 119,
   "id": "b1f7990c",
   "metadata": {},
   "outputs": [],
   "source": [
    "etrp_pol = cart2polTransform(DREP_L[0],center)\n",
    "endp_pol = cart2polTransform(if_L[2],center)"
   ]
  },
  {
   "cell_type": "code",
   "execution_count": 156,
   "id": "ebb7dca8",
   "metadata": {},
   "outputs": [
    {
     "data": {
      "text/plain": [
       "array([3.50233984, 1.79928908, 0.        ])"
      ]
     },
     "execution_count": 156,
     "metadata": {},
     "output_type": "execute_result"
    }
   ],
   "source": [
    "etrp_pol"
   ]
  },
  {
   "cell_type": "code",
   "execution_count": 157,
   "id": "a487e82d",
   "metadata": {},
   "outputs": [
    {
     "data": {
      "text/plain": [
       "array([ 16.89733079,  -2.58210472, -80.58254645])"
      ]
     },
     "execution_count": 157,
     "metadata": {},
     "output_type": "execute_result"
    }
   ],
   "source": [
    "endp_pol"
   ]
  },
  {
   "cell_type": "code",
   "execution_count": 127,
   "id": "a589e564",
   "metadata": {},
   "outputs": [
    {
     "data": {
      "text/plain": [
       "28"
      ]
     },
     "execution_count": 127,
     "metadata": {},
     "output_type": "execute_result"
    }
   ],
   "source": [
    "range(29)[-1]"
   ]
  },
  {
   "cell_type": "code",
   "execution_count": 246,
   "id": "bced50f3",
   "metadata": {},
   "outputs": [
    {
     "name": "stdout",
     "output_type": "stream",
     "text": [
      "(4.42613231497416, 1.9304471154770748, -5.557416996285752)\n",
      "(4.888028554675323, 1.996026133054288, -8.336125494428627)\n",
      "(5.349924794376486, 2.0616051506315016, -11.114833992571503)\n",
      "(5.811821034077649, 2.127184168208715, -13.89354249071438)\n",
      "(6.2737172737788125, 2.192763185785928, -16.672250988857254)\n",
      "(6.735613513479976, 2.2583422033631417, -19.45095948700013)\n",
      "(7.197509753181139, 2.3239212209403552, -22.229667985143006)\n",
      "(7.659405992882302, 2.3895002385175688, -25.008376483285883)\n",
      "(8.121302232583465, 2.4550792560947823, -27.78708498142876)\n",
      "(8.583198472284629, 2.5206582736719954, -30.56579347957163)\n",
      "(9.045094711985792, 2.586237291249209, -33.34450197771451)\n",
      "(9.506990951686955, 2.6518163088264224, -36.123210475857384)\n",
      "(9.968887191388118, 2.717395326403636, -38.90191897400026)\n",
      "(10.430783431089282, 2.7829743439808494, -41.68062747214314)\n",
      "(10.892679670790445, 2.8485533615580625, -44.45933597028601)\n",
      "(11.354575910491608, 2.9141323791352756, -47.23804446842888)\n",
      "(11.816472150192771, 2.9797113967124895, -50.016752966571765)\n",
      "(12.278368389893934, 3.0452904142897026, -52.795461464714634)\n",
      "(12.740264629595098, 3.1108694318669166, -55.57416996285752)\n",
      "(13.20216086929626, 3.1764484494441296, -58.352878461000394)\n",
      "(13.664057108997424, 3.2420274670213427, -61.13158695914326)\n",
      "(14.125953348698587, 3.3076064845985567, -63.910295457286146)\n",
      "(14.58784958839975, 3.3731855021757697, -66.68900395542902)\n",
      "(15.049745828100914, 3.438764519752983, -69.46771245357189)\n",
      "(15.511642067802077, 3.5043435373301968, -72.24642095171477)\n",
      "(15.97353830750324, 3.56992255490741, -75.02512944985764)\n",
      "(16.4354345472044, 3.635501572484624, -77.80383794800052)\n",
      "(16.897330786905567, 3.701080590061837, -80.5825464461434)\n"
     ]
    }
   ],
   "source": [
    "for i in zip(d,a,z):\n",
    "    print(i)"
   ]
  },
  {
   "cell_type": "code",
   "execution_count": 149,
   "id": "aabd442d",
   "metadata": {},
   "outputs": [
    {
     "data": {
      "text/plain": [
       "[1.497123990844,\n",
       " 1.346041446104676,\n",
       " 1.1949589013653519,\n",
       " 1.0438763566260278,\n",
       " 0.8927938118867037,\n",
       " 0.7417112671473796,\n",
       " 0.5906287224080558,\n",
       " 0.4395461776687315,\n",
       " 0.28846363292940747,\n",
       " 0.13738108819008366,\n",
       " -0.013701456549240598,\n",
       " -0.16478400128856463,\n",
       " -0.3158665460278889,\n",
       " -0.4669490907672129,\n",
       " -0.6180316355065365,\n",
       " -0.7691141802458605,\n",
       " -0.920196724985185,\n",
       " -1.0712792697245086,\n",
       " -1.222361814463833,\n",
       " -1.373444359203157,\n",
       " -1.5245269039424807,\n",
       " -1.6756094486818052,\n",
       " -1.8266919934211292,\n",
       " -1.9777745381604528,\n",
       " -2.1288570828997773,\n",
       " -2.2799396276391013,\n",
       " -2.4310221723784258,\n",
       " -2.5821047171177494]"
      ]
     },
     "execution_count": 149,
     "metadata": {},
     "output_type": "execute_result"
    }
   ],
   "source": [
    "a"
   ]
  },
  {
   "cell_type": "code",
   "execution_count": 148,
   "id": "206e42b1",
   "metadata": {},
   "outputs": [
    {
     "data": {
      "text/plain": [
       "[-5.557416996285752,\n",
       " -8.336125494428627,\n",
       " -11.114833992571503,\n",
       " -13.89354249071438,\n",
       " -16.672250988857254,\n",
       " -19.45095948700013,\n",
       " -22.229667985143006,\n",
       " -25.008376483285883,\n",
       " -27.78708498142876,\n",
       " -30.56579347957163,\n",
       " -33.34450197771451,\n",
       " -36.123210475857384,\n",
       " -38.90191897400026,\n",
       " -41.68062747214314,\n",
       " -44.45933597028601,\n",
       " -47.23804446842888,\n",
       " -50.016752966571765,\n",
       " -52.795461464714634,\n",
       " -55.57416996285752,\n",
       " -58.352878461000394,\n",
       " -61.13158695914326,\n",
       " -63.910295457286146,\n",
       " -66.68900395542902,\n",
       " -69.46771245357189,\n",
       " -72.24642095171477,\n",
       " -75.02512944985764,\n",
       " -77.80383794800052,\n",
       " -80.5825464461434]"
      ]
     },
     "execution_count": 148,
     "metadata": {},
     "output_type": "execute_result"
    }
   ],
   "source": [
    "z\n"
   ]
  },
  {
   "cell_type": "code",
   "execution_count": 260,
   "id": "9adec39e",
   "metadata": {},
   "outputs": [
    {
     "data": {
      "text/plain": [
       "28"
      ]
     },
     "execution_count": 260,
     "metadata": {},
     "output_type": "execute_result"
    }
   ],
   "source": [
    "len(a)"
   ]
  },
  {
   "cell_type": "code",
   "execution_count": 262,
   "id": "5d0a6899-7a42-4906-8e34-36e3e24a0d2f",
   "metadata": {},
   "outputs": [
    {
     "name": "stdout",
     "output_type": "stream",
     "text": [
      "[3.50233984 1.79928908 0.        ] [ 16.89733079   3.70108059 -80.58254645]\n",
      "yes\n",
      "4.538941056699068 1.9304471154770748 -5.557416996285752\n",
      "yes\n",
      "4.679626097993681 1.996026133054288 -8.336125494428627\n",
      "yes\n",
      "4.679626097993681 2.0616051506315016 -11.114833992571503\n",
      "yes\n",
      "4.8446550576742515 2.127184168208715 -13.89354249071438\n",
      "yes\n",
      "4.8579131430326195 2.192763185785928 -16.672250988857254\n",
      "yes\n",
      "4.8579131430326195 2.2583422033631417 -19.45095948700013\n",
      "yes\n",
      "4.867775551460844 2.3239212209403552 -22.229667985143006\n",
      "yes\n",
      "4.917525496706888 2.3895002385175688 -25.008376483285883\n",
      "yes\n",
      "4.917525496706888 2.4550792560947823 -27.78708498142876\n",
      "yes\n",
      "4.917525496706888 2.5206582736719954 -30.56579347957163\n",
      "yes\n",
      "4.917525496706888 2.586237291249209 -33.34450197771451\n",
      "yes\n",
      "4.917525496706888 2.6518163088264224 -36.123210475857384\n",
      "yes\n",
      "4.917525496706888 2.717395326403636 -38.90191897400026\n",
      "yes\n",
      "4.917525496706888 2.7829743439808494 -41.68062747214314\n",
      "yes\n",
      "4.848709817864149 2.8485533615580625 -44.45933597028601\n",
      "yes\n",
      "4.848709817864149 2.9141323791352756 -47.23804446842888\n",
      "yes\n",
      "4.737531924641851 2.9797113967124895 -50.016752966571765\n",
      "yes\n",
      "4.7826987568478 3.0452904142897026 -52.795461464714634\n",
      "yes\n",
      "4.7826987568478 3.1108694318669166 -55.57416996285752\n",
      "yes\n",
      "4.7826987568478 3.1764484494441296 -58.352878461000394\n",
      "no 4.7826987568478 3.1764484494441296 -58.352878461000394\n",
      "no 6.128768982409774 3.2347409095127637 -60.822841570460724\n",
      "no 7.474839207971748 3.2930333695813983 -63.29280467992106\n",
      "no 8.820909433533723 3.3513258296500323 -65.7627677893814\n",
      "no 10.166979659095695 3.409618289718666 -68.23273089884172\n",
      "no 11.51304988465767 3.4679107497873005 -70.70269400830206\n",
      "no 12.859120110219644 3.526203209855934 -73.1726571177624\n",
      "no 14.20519033578162 3.5844956699245687 -75.64262022722274\n"
     ]
    }
   ],
   "source": [
    "d,a,z = interpolate_point_sampling(30,center,DREP_L[0],if_L[2],0.1)"
   ]
  },
  {
   "cell_type": "code",
   "execution_count": 138,
   "id": "f3768d21",
   "metadata": {},
   "outputs": [
    {
     "data": {
      "text/plain": [
       "array([3.50233984, 1.79928908, 0.        ])"
      ]
     },
     "execution_count": 138,
     "metadata": {},
     "output_type": "execute_result"
    }
   ],
   "source": [
    "cart2polTransform(DREP_L[0],center)"
   ]
  },
  {
   "cell_type": "code",
   "execution_count": 139,
   "id": "6b3d1e00",
   "metadata": {},
   "outputs": [
    {
     "data": {
      "text/plain": [
       "array([ 16.89733079,  -2.58210472, -80.58254645])"
      ]
     },
     "execution_count": 139,
     "metadata": {},
     "output_type": "execute_result"
    }
   ],
   "source": [
    "cart2polTransform(if_L[2],center)"
   ]
  },
  {
   "cell_type": "code",
   "execution_count": null,
   "id": "60d7af63",
   "metadata": {},
   "outputs": [],
   "source": [
    "get_dwm(ai)"
   ]
  },
  {
   "cell_type": "code",
   "execution_count": 164,
   "id": "943ad72e",
   "metadata": {},
   "outputs": [
    {
     "data": {
      "text/plain": [
       "array([-2.24930811, 52.77119827, -8.77660179])"
      ]
     },
     "execution_count": 164,
     "metadata": {},
     "output_type": "execute_result"
    }
   ],
   "source": [
    "DREP_L[0]"
   ]
  },
  {
   "cell_type": "code",
   "execution_count": 163,
   "id": "bc961d4e",
   "metadata": {},
   "outputs": [
    {
     "data": {
      "text/plain": [
       "array([-15.77693822,  40.39159124, -89.35914824])"
      ]
     },
     "execution_count": 163,
     "metadata": {},
     "output_type": "execute_result"
    }
   ],
   "source": [
    "if_L[2]"
   ]
  },
  {
   "cell_type": "code",
   "execution_count": 259,
   "id": "2339cc12",
   "metadata": {},
   "outputs": [
    {
     "data": {
      "text/plain": [
       "28"
      ]
     },
     "execution_count": 259,
     "metadata": {},
     "output_type": "execute_result"
    }
   ],
   "source": [
    "len(interp_list)"
   ]
  },
  {
   "cell_type": "code",
   "execution_count": 264,
   "id": "0fff715d",
   "metadata": {},
   "outputs": [],
   "source": [
    "interp_list=[]\n",
    "for di,ai,zi in zip(d,a,z):\n",
    "    interp_list.append(cart2polTransform([di,ai,zi],origin = center, direction = 'pol2cart'))"
   ]
  },
  {
   "cell_type": "code",
   "execution_count": 251,
   "id": "c16473db",
   "metadata": {},
   "outputs": [
    {
     "data": {
      "text/plain": [
       "[4.538941056699068,\n",
       " 4.679626097993681,\n",
       " 4.679626097993681,\n",
       " 4.8446550576742515,\n",
       " 4.8579131430326195,\n",
       " 4.8579131430326195,\n",
       " 4.867775551460844,\n",
       " 4.917525496706888,\n",
       " 4.917525496706888,\n",
       " 4.917525496706888,\n",
       " 4.917525496706888,\n",
       " 4.917525496706888,\n",
       " 4.917525496706888,\n",
       " 4.917525496706888,\n",
       " 4.848709817864149,\n",
       " 4.848709817864149,\n",
       " 4.737531924641851,\n",
       " 4.7826987568478,\n",
       " 4.7826987568478,\n",
       " 4.7826987568478,\n",
       " 4.7826987568478,\n",
       " 4.7826987568478,\n",
       " 4.7826987568478,\n",
       " 4.7826987568478,\n",
       " 4.7826987568478,\n",
       " 4.7826987568478,\n",
       " 4.7826987568478,\n",
       " 4.759172449705568]"
      ]
     },
     "execution_count": 251,
     "metadata": {},
     "output_type": "execute_result"
    }
   ],
   "source": [
    "d"
   ]
  },
  {
   "cell_type": "code",
   "execution_count": 1,
   "id": "0dad09ab-589b-416b-9e88-bb3c38f21c6e",
   "metadata": {},
   "outputs": [
    {
     "ename": "SyntaxError",
     "evalue": "invalid syntax (1254306139.py, line 6)",
     "output_type": "error",
     "traceback": [
      "\u001b[1;36m  Cell \u001b[1;32mIn[1], line 6\u001b[1;36m\u001b[0m\n\u001b[1;33m    angle_rad = angle-\u001b[0m\n\u001b[1;37m                      ^\u001b[0m\n\u001b[1;31mSyntaxError\u001b[0m\u001b[1;31m:\u001b[0m invalid syntax\n"
     ]
    }
   ],
   "source": [
    "def get_dwm(angle):\n",
    "    # Parameters:\n",
    "    # angle : the radian angle of the interpolate points\n",
    "\n",
    "    # Define the direction vector of the ray\n",
    "    angle_rad = angle-\n",
    "    direction = np.array([np.cos(angle_rad), np.sin(angle_rad), 0])\n",
    "\n",
    "    # Define the length of the ray\n",
    "    ray_length = 20\n",
    "\n",
    "    # Calculate the end point of the ray\n",
    "    end_raypoint = np.array(center) + ray_length * direction\n",
    "\n",
    "    # Find the closest point on the slice to the rayend\n",
    "    closest_point = sliced_mesh.find_closest_point(end_raypoint)\n",
    "    \n",
    "    # Calculate the distance\n",
    "    d = np.sqrt(np.sum((center-sliced_mesh.points[closest_point])**2))\n",
    "    \n",
    "    return d\n",
    "\n"
   ]
  },
  {
   "cell_type": "code",
   "execution_count": 53,
   "id": "cbaba3a2-1db3-4594-8c50-ac040cdd27d4",
   "metadata": {},
   "outputs": [
    {
     "data": {
      "text/plain": [
       "5.456247714282958"
      ]
     },
     "execution_count": 53,
     "metadata": {},
     "output_type": "execute_result"
    }
   ],
   "source": [
    "get_dwm(0.7853981633974483)"
   ]
  },
  {
   "cell_type": "code",
   "execution_count": 14,
   "id": "aef63607",
   "metadata": {},
   "outputs": [],
   "source": [
    "angle_rad = 0.7853981633974483\n",
    "direction = np.array([np.cos(angle_rad), np.sin(angle_rad), 0])\n",
    "\n",
    "# Define the length of the ray\n",
    "ray_length = 20\n",
    "\n",
    "# Calculate the end point of the ray\n",
    "end_raypoint = np.array(center) + ray_length * direction\n",
    "\n",
    "# Find the closest point on the slice to the rayend\n",
    "closest_point = sliced_mesh.find_closest_point(interp1)"
   ]
  },
  {
   "cell_type": "code",
   "execution_count": 49,
   "id": "91ca23c2",
   "metadata": {},
   "outputs": [
    {
     "data": {
      "text/plain": [
       "array([-116.45599413,  -65.64011192, -123.77660179])"
      ]
     },
     "execution_count": 49,
     "metadata": {},
     "output_type": "execute_result"
    }
   ],
   "source": [
    "center-closest_point"
   ]
  },
  {
   "cell_type": "code",
   "execution_count": 20,
   "id": "a973a712-aa13-47b9-b017-70d6cf01536e",
   "metadata": {},
   "outputs": [],
   "source": [
    "closest_point = sliced_mesh.find_closest_point(interp1)"
   ]
  },
  {
   "cell_type": "code",
   "execution_count": 21,
   "id": "dce952eb-c5fd-4bdf-9f7a-905adefc159a",
   "metadata": {},
   "outputs": [],
   "source": [
    "# Create a Plotter and add the ray\n",
    "#plotter = pv.Plotter()\n",
    "plotter = BackgroundPlotter()\n",
    "plotter.add_mesh(sliced_mesh, color = 'red')\n",
    "plotter.add_mesh(line, color = 'red')\n",
    "plotter.add_point_labels(interp1, ['interp1'], point_color = 'blue', point_size=20, render_points_as_spheres=True, always_visible=True)\n",
    "plotter.add_point_labels(DREP_L, list(DREP_L_Tbl['label']), font_size=24, point_color='green', point_size=20, render_points_as_spheres=True, always_visible=True)\n",
    "plotter.add_point_labels(center, ['O'], point_color = 'yellow', point_size=20, render_points_as_spheres=True, always_visible=True)\n",
    "plotter.add_point_labels(sliced_mesh.points[closest_point], ['x'], point_color = 'blue', point_size=20, render_points_as_spheres=True, always_visible=True)\n",
    "# Show the plotter\n",
    "plotter.show()"
   ]
  },
  {
   "cell_type": "code",
   "execution_count": 135,
   "id": "04cdc014-5e4a-4732-a658-f609fb72090a",
   "metadata": {},
   "outputs": [],
   "source": [
    "etrp_pol = cart2polTransform(DREP_L[0])\n",
    "endp_pol = cart2polTransform(if_L[0])"
   ]
  },
  {
   "cell_type": "code",
   "execution_count": 137,
   "id": "b2550553-6891-4201-9d05-2cbb40e534b3",
   "metadata": {},
   "outputs": [
    {
     "data": {
      "text/plain": [
       "array([52.81911353,  1.61339433, -8.77660179])"
      ]
     },
     "execution_count": 137,
     "metadata": {},
     "output_type": "execute_result"
    }
   ],
   "source": [
    "etrp_pol"
   ]
  },
  {
   "cell_type": "markdown",
   "id": "d5a94f66",
   "metadata": {},
   "source": [
    "## DWMI计算：射线绘制"
   ]
  },
  {
   "cell_type": "code",
   "execution_count": 27,
   "id": "5496437f-ea41-4350-849a-0aca0d36585c",
   "metadata": {},
   "outputs": [
    {
     "data": {
      "application/vnd.jupyter.widget-view+json": {
       "model_id": "8cfbe2ca5d4d4774b387f153d396186c",
       "version_major": 2,
       "version_minor": 0
      },
      "text/plain": [
       "Widget(value=\"<iframe src='http://localhost:55463/index.html?ui=P_0x2084f7832e0_2&reconnect=auto' style='width…"
      ]
     },
     "metadata": {},
     "output_type": "display_data"
    }
   ],
   "source": [
    "import pyvista as pv\n",
    "import numpy as np\n",
    "\n",
    "# Define the point and angle\n",
    "point = center\n",
    "angle_deg = 45  # Angle in degrees\n",
    "\n",
    "# Convert angle to radians\n",
    "angle_rad = np.radians(angle_deg)\n",
    "\n",
    "# Define the direction vector of the ray\n",
    "direction = np.array([np.cos(angle_rad), np.sin(angle_rad), 0])\n",
    "\n",
    "# Define the length of the ray\n",
    "ray_length = 10.0\n",
    "\n",
    "# Calculate the end point of the ray\n",
    "end_point = np.array(point) + ray_length * direction\n",
    "\n",
    "# Create a line segment representing the ray\n",
    "# ray = pv.Line(point, end_point)\n",
    "\n",
    "# Create a Plotter and add the ray\n",
    "plotter = pv.Plotter()\n",
    "plotter.add_mesh(ray, color='red', line_width=2)\n",
    "\n",
    "# Add any additional visualization elements or meshes to the plotter\n",
    "\n",
    "# Show the plotter\n",
    "plotter.show()\n"
   ]
  },
  {
   "cell_type": "code",
   "execution_count": 28,
   "id": "63a23139",
   "metadata": {},
   "outputs": [
    {
     "data": {
      "text/plain": [
       "0.7853981633974483"
      ]
     },
     "execution_count": 28,
     "metadata": {},
     "output_type": "execute_result"
    }
   ],
   "source": [
    "angle_rad"
   ]
  },
  {
   "cell_type": "code",
   "execution_count": 26,
   "id": "20a2f353-812b-4629-8375-441b5b887068",
   "metadata": {},
   "outputs": [
    {
     "data": {
      "text/plain": [
       "[0.7071067811865476, 0.7071067811865476, 0]"
      ]
     },
     "execution_count": 26,
     "metadata": {},
     "output_type": "execute_result"
    }
   ],
   "source": [
    "direction"
   ]
  },
  {
   "cell_type": "code",
   "execution_count": null,
   "id": "c4e90d78-7cf7-4e6a-bde6-989d105d47af",
   "metadata": {},
   "outputs": [],
   "source": []
  },
  {
   "cell_type": "markdown",
   "id": "91519c0e-24ee-405b-bfc3-47daff2bb989",
   "metadata": {},
   "source": [
    "## 坐标系转换"
   ]
  },
  {
   "cell_type": "code",
   "execution_count": 232,
   "id": "1419b39c-b8d7-44ee-b649-b0299f2857cc",
   "metadata": {},
   "outputs": [],
   "source": [
    "import math\n",
    "def cart2polTransform(coordinate, origin = np.array([0,0,0]), direction='cart2pol'):\n",
    "    ### Parameters:\n",
    "    # coordinate: 3D array needs to transform\n",
    "    # origin(deprecated): the origin of polar coordinate\n",
    "    # direction: the direction of transform 'cart2pol','pol2cart'\n",
    "    # \n",
    "\n",
    "    if direction == 'cart2pol':\n",
    "        x = coordinate[0]-origin[0]\n",
    "        y = coordinate[1]-origin[1]\n",
    "        z = coordinate[2]-origin[2]\n",
    "        pol = []\n",
    "        pol.append((x**2+y**2)**0.5)\n",
    "        a = math.atan2(y,x)\n",
    "        pol.append(a if a>=0 else 2*math.pi+a)\n",
    "        pol.append(z)\n",
    "        return np.array(pol)\n",
    "            \n",
    "        \n",
    "    elif direction == 'pol2cart':\n",
    "        x = coordinate[0]\n",
    "        y = coordinate[1]\n",
    "        z = coordinate[2]\n",
    "        cart = []\n",
    "        cart.append(x*math.cos(y))\n",
    "        cart.append(x*math.sin(y))\n",
    "        cart.append(z)\n",
    "        \n",
    "        return np.array(cart)+origin\n",
    "        \n",
    "        \n",
    "    else:\n",
    "        raise Exception(\" Wrong direction parameter input, should be 'cart2pol' or 'pol2cart'.\")\n",
    "\n",
    "        \n",
    "        \n",
    "    "
   ]
  },
  {
   "cell_type": "code",
   "execution_count": 233,
   "id": "d8d41d54-5bcd-4bf4-ac12-5620d7ab690f",
   "metadata": {},
   "outputs": [],
   "source": [
    "a = cart2polTransform([-3,1,1],[0,0,0])"
   ]
  },
  {
   "cell_type": "code",
   "execution_count": 234,
   "id": "7b4dafec-693c-42ce-9d7d-e979b28a3743",
   "metadata": {},
   "outputs": [
    {
     "data": {
      "text/plain": [
       "array([3.16227766, 2.8198421 , 1.        ])"
      ]
     },
     "execution_count": 234,
     "metadata": {},
     "output_type": "execute_result"
    }
   ],
   "source": [
    "a"
   ]
  },
  {
   "cell_type": "code",
   "execution_count": 127,
   "id": "73cd5005-d1a6-4f4d-b5eb-5a54e0a63baf",
   "metadata": {},
   "outputs": [],
   "source": [
    "b =  cart2polTransform([2,2,1],[1,1,1])"
   ]
  },
  {
   "cell_type": "code",
   "execution_count": 230,
   "id": "af8ba49f-a3be-4fbc-94f7-41cce3f54346",
   "metadata": {},
   "outputs": [],
   "source": [
    "pol = []\n",
    "a = -2\n",
    "\n",
    "pol.append(a if a>0 else 2*math.pi+a)"
   ]
  },
  {
   "cell_type": "code",
   "execution_count": 231,
   "id": "e984433d",
   "metadata": {},
   "outputs": [
    {
     "data": {
      "text/plain": [
       "[4.283185307179586]"
      ]
     },
     "execution_count": 231,
     "metadata": {},
     "output_type": "execute_result"
    }
   ],
   "source": [
    "pol"
   ]
  },
  {
   "cell_type": "markdown",
   "id": "c251feab-1ba7-4f76-82ff-cf299ecd6bfc",
   "metadata": {},
   "source": [
    "### 批量坐标转换"
   ]
  },
  {
   "cell_type": "code",
   "execution_count": null,
   "id": "360f1893-b287-4496-8020-48f1ea8ff069",
   "metadata": {},
   "outputs": [],
   "source": [
    "import pyvista as pv\n",
    "import numpy as np\n",
    "from pyvista.utilities import vtk_to_numpy, numpy_to_vtk\n",
    "\n",
    "# Create a PyVista PolyData object with Cartesian coordinate points\n",
    "points = np.array([[1, 1, 1], [2, 2, 2], [3, 3, 3]])\n",
    "poly_data = pv.PolyData(points)\n",
    "\n",
    "# Convert the Cartesian points to cylindrical coordinates \n",
    "cartesian_points = vtk_to_numpy(poly_data.points)\n",
    "r = np.sqrt(cartesian_points[:, 0]**2 + cartesian_points[:, 1]**2)\n",
    "theta = np.arctan2(cartesian_points[:, 1], cartesian_points[:, 0])\n",
    "z = cartesian_points[:, 2]\n",
    "\n",
    "# Convert the cylindrical coordinates back to a new PolyData object\n",
    "cylindrical_points = np.column_stack((r, theta, z))\n",
    "poly_data_cylindrical = pv.PolyData()\n",
    "poly_data_cylindrical.points = numpy_to_vtk(cylindrical_points)\n",
    "\n",
    "# Visualize the cylindrical coordinate points\n",
    "plotter = pv.Plotter()\n",
    "plotter.add_mesh(poly_data_cylindrical, color='red', point_size=10)\n",
    "plotter.show()\n"
   ]
  },
  {
   "cell_type": "code",
   "execution_count": null,
   "id": "8b2e091b-1075-4171-89f8-10a9cbfca8e9",
   "metadata": {},
   "outputs": [],
   "source": []
  }
 ],
 "metadata": {
  "kernelspec": {
   "display_name": "Python 3 (ipykernel)",
   "language": "python",
   "name": "python3"
  },
  "language_info": {
   "codemirror_mode": {
    "name": "ipython",
    "version": 3
   },
   "file_extension": ".py",
   "mimetype": "text/x-python",
   "name": "python",
   "nbconvert_exporter": "python",
   "pygments_lexer": "ipython3",
   "version": "3.10.9"
  }
 },
 "nbformat": 4,
 "nbformat_minor": 5
}
