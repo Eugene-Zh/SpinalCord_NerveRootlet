{
 "cells": [
  {
   "cell_type": "markdown",
   "id": "b2a9dd06-5974-444e-aafc-7407fc33f6b0",
   "metadata": {},
   "source": [
    "## 神经根插值算法"
   ]
  },
  {
   "cell_type": "markdown",
   "id": "7582088d-cbd7-4a5d-b4f3-863f15141d73",
   "metadata": {},
   "source": [
    "### 导入需要的包"
   ]
  },
  {
   "cell_type": "code",
   "execution_count": 1,
   "id": "597f385c-9c6e-4ec4-9709-4a75324d93bb",
   "metadata": {},
   "outputs": [],
   "source": [
    "import os\n",
    "import numpy as np\n",
    "import vtk\n",
    "import pyvista as pv\n",
    "from pyvistaqt import BackgroundPlotter\n",
    "import pandas as pd\n",
    "import math"
   ]
  },
  {
   "cell_type": "markdown",
   "id": "3fbcdcf2-887d-4125-81cb-02e2f94b687f",
   "metadata": {},
   "source": [
    "### 导入模型文件和标注点"
   ]
  },
  {
   "cell_type": "code",
   "execution_count": 2,
   "id": "558e4084-623b-4343-a61c-b84d7dc134e6",
   "metadata": {},
   "outputs": [],
   "source": [
    "pv.set_jupyter_backend('trame')  "
   ]
  },
  {
   "cell_type": "code",
   "execution_count": 4,
   "id": "d44ad752-b0f2-4fa8-bdef-f4b395750210",
   "metadata": {},
   "outputs": [],
   "source": [
    "from pyvistaqt import BackgroundPlotter\n",
    "\n",
    "\n",
    "\n",
    "def readstl_pv(filepath):\n",
    "\n",
    "    meshes = pv.read(stl_files)\n",
    "\n",
    "    plotter = BackgroundPlotter()\n",
    "\n",
    "    for mesh in meshes:\n",
    "\n",
    "        plotter.add_mesh(mesh)\n",
    "\n",
    "    plotter.show()\n",
    "\n",
    "\n",
    "\n",
    "stl_files = [r'YOUR_DATA_PATH/Spinal Cord.stl', r'YOUR_DATA_PATH/T11.stl']\n",
    "\n",
    "\n",
    "readstl_pv(stl_files)"
   ]
  },
  {
   "cell_type": "code",
   "execution_count": 42,
   "id": "d01b33b9-ece5-40b6-af9c-b224b033f318",
   "metadata": {},
   "outputs": [],
   "source": [
    "import pandas as pd\n",
    "IF_L_Tbl = pd.DataFrame.from_dict(pd.read_json(r'YOUR_DATA_PATH\\IF_L.mrk.json')['markups'][0]['controlPoints'])\n",
    "IF_R_Tbl = pd.DataFrame.from_dict(pd.read_json(r'YOUR_DATA_PATH\\IF_R.mrk.json')['markups'][0]['controlPoints'])\n",
    "DREP_L_Tbl = pd.DataFrame.from_dict(pd.read_json(r'YOUR_DATA_PATH\\DREP_L.mrk.json')['markups'][0]['controlPoints'])\n",
    "DREP_R_Tbl = pd.DataFrame.from_dict(pd.read_json(r'YOUR_DATA_PATH\\DREP_R.mrk.json')['markups'][0]['controlPoints'])"
   ]
  },
  {
   "cell_type": "code",
   "execution_count": 43,
   "id": "7d4df035-9849-4546-8c8b-10a88304f7ac",
   "metadata": {},
   "outputs": [
    {
     "data": {
      "application/vnd.jupyter.widget-view+json": {
       "model_id": "ccca0169b6cb4292832dea9b5fdf55ee",
       "version_major": 2,
       "version_minor": 0
      },
      "text/plain": [
       "Widget(value=\"<iframe src='http://localhost:59450/index.html?ui=P_0x1f557739210_2&reconnect=auto' style='width…"
      ]
     },
     "metadata": {},
     "output_type": "display_data"
    }
   ],
   "source": [
    "\n",
    "# if_L\n",
    "if_L = np.array([np.array(i) for i in IF_L_Tbl['position']])\n",
    "DREP_L = np.array([np.array(i) for i in DREP_L_Tbl['position']])\n",
    "\n",
    "\n",
    "# poly_data = pv.PolyData(if_L)\n",
    "\n",
    "# Visualize the fiducial points\n",
    "plotter = pv.Plotter()\n",
    "#plotter = BackgroundPlotter()\n",
    "# plotter.add_mesh(poly_data, color='red', point_size=10, render_points_as_spheres=True) # no need if use add_point_labels\n",
    "\n",
    "\n",
    "plotter.add_point_labels(if_L, list(IF_L_Tbl['label']), font_size=24, point_color='red', point_size=20, render_points_as_spheres=True, always_visible=True)\n",
    "plotter.add_point_labels(DREP_L, list(DREP_L_Tbl['label']), font_size=24, point_color='green', point_size=20, render_points_as_spheres=True, always_visible=True)\n",
    "\n",
    "#import spinal cord and vertebrae\n",
    "stl_files = [r'YOUR_DATA_PATH/Segmentation-models_1/Spinal Cord.stl', r'YOUR_DATA_PATH/Segmentation-models_1/T11.stl']\n",
    "\n",
    "meshes = pv.read(stl_files)\n",
    "\n",
    "#plotter = BackgroundPlotter()\n",
    "\n",
    "for mesh in meshes:\n",
    "\n",
    "        plotter.add_mesh(mesh)\n",
    "\n",
    "plotter.show()"
   ]
  },
  {
   "cell_type": "markdown",
   "id": "0eb0a192-ec7a-4996-9640-9cb2b702e404",
   "metadata": {},
   "source": [
    "### 切面识别中心和轮廓"
   ]
  },
  {
   "cell_type": "code",
   "execution_count": 17,
   "id": "bc5dacd7-92e0-4cc0-b5df-5d6664178752",
   "metadata": {},
   "outputs": [],
   "source": [
    "# 在DREP高度切片\n",
    "sliced_mesh = meshes[0].slice(normal='z', origin=DREP_L_Tbl['position'][0])\n",
    "center = np.array(sliced_mesh.center)"
   ]
  },
  {
   "cell_type": "code",
   "execution_count": 59,
   "id": "3aa2e95b-55fe-495f-bd49-afd3ddc32dae",
   "metadata": {},
   "outputs": [],
   "source": [
    "\n",
    "#import spinal cord and vertebrae\n",
    "\n",
    "# Create a plotter\n",
    "#plotter = pv.Plotter()\n",
    "plotter = BackgroundPlotter()\n",
    "plotter.add_mesh(meshes[0])\n",
    "# 在DREP高度切片\n",
    "sliced_mesh = meshes[0].slice(normal='z', origin=DREP_L_Tbl['position'][0])\n",
    "# Visualization\n",
    "plotter.add_mesh(sliced_mesh, color = 'red')\n",
    "plotter.add_mesh(np.array(interp_list), color='blue')\n",
    "#plotter.add_mesh(pv.Line(center,cart2polTransform(np.array([20,0,0]),center,direction= 'pol2cart')))\n",
    "#plotter.add_mesh(pv.Line(center,cart2polTransform(np.array([20,math.pi/2,0]),center,direction= 'pol2cart')))\n",
    "plotter.add_point_labels(if_L[2], [IF_L_Tbl['label'][2]], font_size=24, point_color='red', point_size=20, render_points_as_spheres=True, always_visible=True)\n",
    "plotter.add_point_labels(DREP_L, list(DREP_L_Tbl['label']), font_size=24, point_color='green', point_size=20, render_points_as_spheres=True, always_visible=True)\n",
    "\n",
    "\n",
    "plotter.show()"
   ]
  },
  {
   "cell_type": "markdown",
   "id": "11101fee-87a5-4b1b-96a9-e51af0318808",
   "metadata": {},
   "source": [
    "### 坐标系转换"
   ]
  },
  {
   "cell_type": "code",
   "execution_count": 10,
   "id": "adb01e77-d7ee-4a83-beed-c689c3a014cd",
   "metadata": {},
   "outputs": [],
   "source": [
    "import math\n",
    "def cart2polTransform(coordinate, origin = np.array([0,0,0]), direction='cart2pol'):\n",
    "    ### Parameters:\n",
    "    # coordinate: 3D array needs to transform\n",
    "    # origin(deprecated): the origin of polar coordinate\n",
    "    # direction: the direction of transform 'cart2pol','pol2cart'\n",
    "    # \n",
    "\n",
    "    if direction == 'cart2pol':\n",
    "        x = coordinate[0]-origin[0]\n",
    "        y = coordinate[1]-origin[1]\n",
    "        z = coordinate[2]-origin[2]\n",
    "        pol = []\n",
    "        pol.append((x**2+y**2)**0.5)\n",
    "        a = math.atan2(y,x)\n",
    "        pol.append(a if a>=0 else 2*math.pi+a)\n",
    "        pol.append(z)\n",
    "        return np.array(pol)\n",
    "            \n",
    "        \n",
    "    elif direction == 'pol2cart':\n",
    "        x = coordinate[0]\n",
    "        y = coordinate[1]\n",
    "        z = coordinate[2]\n",
    "        cart = []\n",
    "        cart.append(x*math.cos(y))\n",
    "        cart.append(x*math.sin(y))\n",
    "        cart.append(z)\n",
    "        \n",
    "        return np.array(cart)+origin\n",
    "        \n",
    "        \n",
    "    else:\n",
    "        raise Exception(\" Wrong direction parameter input, should be 'cart2pol' or 'pol2cart'.\")\n"
   ]
  },
  {
   "cell_type": "markdown",
   "id": "fa5f5aca-3420-4b4b-9b5d-3531f3057c7e",
   "metadata": {},
   "source": [
    "### 获得脊髓半径"
   ]
  },
  {
   "cell_type": "code",
   "execution_count": 11,
   "id": "d7fe4bc5-c4bd-466d-9c92-e31f827d3215",
   "metadata": {},
   "outputs": [],
   "source": [
    "def get_dwm(angle_rad, center):\n",
    "    # Parameters:\n",
    "    # angle : the radian angle of the interpolate points\n",
    "\n",
    "    # Define the direction vector of the ray\n",
    "    # angle_rad = angle-\n",
    "    direction = np.array([np.cos(angle_rad), np.sin(angle_rad), 0])\n",
    "\n",
    "    # Define the length of the ray\n",
    "    ray_length = 20\n",
    "\n",
    "    # Calculate the end point of the ray\n",
    "    end_raypoint = np.array(center) + ray_length * direction\n",
    "\n",
    "    # Find the closest point on the slice to the rayend\n",
    "    closest_point = sliced_mesh.find_closest_point(end_raypoint)\n",
    "    \n",
    "    # Calculate the distance\n",
    "    d = np.sqrt(np.sum((center-sliced_mesh.points[closest_point])**2))\n",
    "    \n",
    "    return d"
   ]
  },
  {
   "cell_type": "markdown",
   "id": "c31e4fb0-91af-41ff-9151-14cd09044a5f",
   "metadata": {},
   "source": [
    "### 插值函数"
   ]
  },
  {
   "cell_type": "code",
   "execution_count": 12,
   "id": "d3179933-46dd-4c68-8912-c4d5d03ab09b",
   "metadata": {},
   "outputs": [],
   "source": [
    "\n",
    "def interpolate_point_sampling(num,origin,entrypoint,endpoint,gapSC):\n",
    "    # Parameters：\n",
    "    # num： the number of sampling points to interpolate(including the enterpoint and endpoint)\n",
    "    # entrypoint: the 3-D array of enrtypoint()\n",
    "    #\n",
    "    # Varaibles:\n",
    "    # z: the height of the point(polar/cartesian coordinate)\n",
    "    # a: the angle of the point(polar coordinate relative to the DREP height slice center)\n",
    "    # d: the radius of the point(polar coordinate relative to the DREP height slice center)\n",
    "    \n",
    "    # Coordinate system transform\n",
    "    etrp_pol = cart2polTransform(entrypoint,origin)\n",
    "    endp_pol = cart2polTransform(endpoint,origin)\n",
    "    d,a,z =[],[],[]\n",
    "    \n",
    "    #初始化角度\n",
    "    ai = etrp_pol[1]\n",
    "    for i in range(2,num):\n",
    "        # 第一段规则\n",
    "        if ai <= math.pi:\n",
    "            zi = etrp_pol[2] + (i/(num-1))*(endp_pol[2] - etrp_pol[2])\n",
    "            ai = etrp_pol[1] + (i/(num-1))*(endp_pol[1] - etrp_pol[1])\n",
    "            dwmi = get_dwm(ai,origin)\n",
    "            di = dwmi + gapSC\n",
    "            i0 = i\n",
    "            di0 = di\n",
    "            ai0 = ai\n",
    "            zi0 = zi\n",
    "            \n",
    "        #第二段规则，直接向椎间孔\n",
    "        else:\n",
    "            # wi比例因子\n",
    "            wi = (i-i0)/(num-i0)\n",
    "            di = (1-wi)*di0+wi*endp_pol[0]\n",
    "            ai = (1-wi)*ai0+wi*endp_pol[1]\n",
    "            zi = (1-wi)*zi0+wi*endp_pol[2]\n",
    "        d.append(di)\n",
    "        a.append(ai)\n",
    "        z.append(zi)\n",
    "        \n",
    "        \n",
    "        \n",
    "    return d,a,z"
   ]
  },
  {
   "cell_type": "code",
   "execution_count": 18,
   "id": "80b0bd40-1f06-488b-8bcc-9f24202177d4",
   "metadata": {},
   "outputs": [],
   "source": [
    "d,a,z = interpolate_point_sampling(30,center,DREP_L[0],if_L[2],0.1)"
   ]
  },
  {
   "cell_type": "code",
   "execution_count": 19,
   "id": "f0daf71a-b644-4b7e-9bef-af941f537f5b",
   "metadata": {},
   "outputs": [
    {
     "name": "stdout",
     "output_type": "stream",
     "text": [
      "(4.538941056699068, 1.9304471154770748, -5.557416996285752)\n",
      "(4.679626097993681, 1.996026133054288, -8.336125494428627)\n",
      "(4.679626097993681, 2.0616051506315016, -11.114833992571503)\n",
      "(4.8446550576742515, 2.127184168208715, -13.89354249071438)\n",
      "(4.8579131430326195, 2.192763185785928, -16.672250988857254)\n",
      "(4.8579131430326195, 2.2583422033631417, -19.45095948700013)\n",
      "(4.867775551460844, 2.3239212209403552, -22.229667985143006)\n",
      "(4.917525496706888, 2.3895002385175688, -25.008376483285883)\n",
      "(4.917525496706888, 2.4550792560947823, -27.78708498142876)\n",
      "(4.917525496706888, 2.5206582736719954, -30.56579347957163)\n",
      "(4.917525496706888, 2.586237291249209, -33.34450197771451)\n",
      "(4.917525496706888, 2.6518163088264224, -36.123210475857384)\n",
      "(4.917525496706888, 2.717395326403636, -38.90191897400026)\n",
      "(4.917525496706888, 2.7829743439808494, -41.68062747214314)\n",
      "(4.848709817864149, 2.8485533615580625, -44.45933597028601)\n",
      "(4.848709817864149, 2.9141323791352756, -47.23804446842888)\n",
      "(4.737531924641851, 2.9797113967124895, -50.016752966571765)\n",
      "(4.7826987568478, 3.0452904142897026, -52.795461464714634)\n",
      "(4.7826987568478, 3.1108694318669166, -55.57416996285752)\n",
      "(4.7826987568478, 3.1764484494441296, -58.352878461000394)\n",
      "(6.128768982409774, 3.2347409095127637, -60.822841570460724)\n",
      "(7.474839207971748, 3.2930333695813983, -63.29280467992106)\n",
      "(8.820909433533723, 3.3513258296500323, -65.7627677893814)\n",
      "(10.166979659095695, 3.409618289718666, -68.23273089884172)\n",
      "(11.51304988465767, 3.4679107497873005, -70.70269400830206)\n",
      "(12.859120110219644, 3.526203209855934, -73.1726571177624)\n",
      "(14.20519033578162, 3.5844956699245687, -75.64262022722274)\n",
      "(15.551260561343591, 3.642788129993203, -78.11258333668306)\n"
     ]
    }
   ],
   "source": [
    "for i in zip(d,a,z):\n",
    "    print(i)"
   ]
  },
  {
   "cell_type": "code",
   "execution_count": 26,
   "id": "e8991fd6-cc82-47b5-b7e0-8ecdd205f97f",
   "metadata": {},
   "outputs": [
    {
     "data": {
      "text/plain": [
       "array([-2.24930811, 52.77119827, -8.77660179])"
      ]
     },
     "execution_count": 26,
     "metadata": {},
     "output_type": "execute_result"
    }
   ],
   "source": [
    "DREP_L[0]"
   ]
  },
  {
   "cell_type": "code",
   "execution_count": 20,
   "id": "fbfe085f-c781-4564-bc8d-e612c012849c",
   "metadata": {},
   "outputs": [],
   "source": [
    "interp_list=[DREP_L[0]]\n",
    "for di,ai,zi in zip(d,a,z):\n",
    "    interp_list.append(cart2polTransform([di,ai,zi],origin = center, direction = 'pol2cart'))\n",
    "interp_list.append(if_L[2])"
   ]
  },
  {
   "cell_type": "markdown",
   "id": "7263e8d7-155a-4528-a221-9fc52726e687",
   "metadata": {},
   "source": [
    "### 插值曲线"
   ]
  },
  {
   "cell_type": "code",
   "execution_count": 21,
   "id": "e0031496-f141-47c1-a844-0c1be6a901dc",
   "metadata": {},
   "outputs": [
    {
     "data": {
      "text/plain": [
       "[array([-2.24930811, 52.77119827, -8.77660179]),\n",
       " array([ -3.05346257,  53.60842671, -14.33401879]),\n",
       " array([ -3.38648091,  53.62276518, -17.11272729]),\n",
       " array([ -3.66168622,  53.48709328, -19.89143578]),\n",
       " array([ -4.01456459,  53.47381562, -22.67014428]),\n",
       " array([ -4.28638348,  53.30807959, -25.44885278]),\n",
       " array([ -4.53903244,  53.11411168, -28.22756128]),\n",
       " array([ -4.78517233,  52.91119929, -31.00626978]),\n",
       " array([ -5.0470712 ,  52.71938543, -33.78497827]),\n",
       " array([ -5.25950672,  52.47683354, -36.56368677]),\n",
       " array([ -5.45559068,  52.22088168, -39.34239527]),\n",
       " array([ -5.63448011,  51.95263023, -42.12110377]),\n",
       " array([ -5.79540596,  51.67323241, -44.89981227]),\n",
       " array([ -5.93767638,  51.38388936, -47.67852077]),\n",
       " array([ -6.06067975,  51.085845  , -50.45722926]),\n",
       " array([ -6.09800519,  50.76050231, -53.23593776]),\n",
       " array([ -6.17981211,  50.45329127, -56.01464626]),\n",
       " array([ -6.1315867 ,  50.1234605 , -58.79335476]),\n",
       " array([ -6.21653236,  49.81976109, -61.57206326]),\n",
       " array([ -6.23643583,  49.50680488, -64.35077175]),\n",
       " array([ -6.23578787,  49.19321706, -67.12948025]),\n",
       " array([ -7.5581939 ,  48.78982913, -69.59944336]),\n",
       " array([ -8.84528196,  48.23221503, -72.06940647]),\n",
       " array([-10.08360658,  47.52338417, -74.53936958]),\n",
       " array([-11.25996831,  46.66738634, -77.00933269]),\n",
       " array([-12.36148913,  45.6692924 , -79.4792958 ]),\n",
       " array([-13.37568635,  44.53516971, -81.94925891]),\n",
       " array([-14.29054473,  43.27205239, -84.41922202]),\n",
       " array([-15.09458638,  41.88790666, -86.88918513]),\n",
       " array([-15.77693822,  40.39159124, -89.35914824])]"
      ]
     },
     "execution_count": 21,
     "metadata": {},
     "output_type": "execute_result"
    }
   ],
   "source": [
    "interp_list"
   ]
  },
  {
   "cell_type": "code",
   "execution_count": 29,
   "id": "d0eb4551-ca9d-44ae-b5e5-72599364fff1",
   "metadata": {},
   "outputs": [],
   "source": [
    "polyline = polyline_from_points(interp_list)\n",
    "polyline[\"scalars\"] = np.arange(polyline.n_points)\n",
    "tube = polyline.tube(radius=0.1)"
   ]
  },
  {
   "cell_type": "code",
   "execution_count": 20,
   "id": "4b20cd2e-5e10-412d-a4c1-51a8abeb8e36",
   "metadata": {},
   "outputs": [
    {
     "data": {
      "application/vnd.jupyter.widget-view+json": {
       "model_id": "220f1ec333a343a3b5a907d7f1908205",
       "version_major": 2,
       "version_minor": 0
      },
      "text/plain": [
       "Widget(value=\"<iframe src='http://localhost:50138/index.html?ui=P_0x229892c3fa0_2&reconnect=auto' style='width…"
      ]
     },
     "metadata": {},
     "output_type": "display_data"
    }
   ],
   "source": [
    "def polyline_from_points(points):\n",
    "    poly = pv.PolyData()\n",
    "    poly.points = points\n",
    "    the_cell = np.arange(0, len(points), dtype=np.int_)\n",
    "    the_cell = np.insert(the_cell, 0, len(points))\n",
    "    poly.lines = the_cell\n",
    "    return poly\n",
    "\n",
    "\n",
    "polyline = polyline_from_points(interp_list)\n",
    "polyline[\"scalars\"] = np.arange(polyline.n_points)\n",
    "tube = polyline.tube(radius=0.1)\n",
    "tube.plot(smooth_shading=True)"
   ]
  },
  {
   "cell_type": "code",
   "execution_count": 21,
   "id": "2d7e3b77-21b5-4988-8a24-c4735f5863ba",
   "metadata": {},
   "outputs": [
    {
     "data": {
      "text/html": [
       "<table><tr><th>Header</th><th>Data Arrays</th></tr><tr><td>\n",
       "<table>\n",
       "<tr><th>PolyData</th><th>Information</th></tr>\n",
       "<tr><td>N Cells</td><td>1116</td></tr>\n",
       "<tr><td>N Points</td><td>600</td></tr>\n",
       "<tr><td>N Strips</td><td>0</td></tr>\n",
       "<tr><td>X Bounds</td><td>-1.519e+01, -2.954e+00</td></tr>\n",
       "<tr><td>Y Bounds</td><td>4.180e+01, 5.372e+01</td></tr>\n",
       "<tr><td>Z Bounds</td><td>-8.694e+01, -1.432e+01</td></tr>\n",
       "<tr><td>N Arrays</td><td>2</td></tr>\n",
       "</table>\n",
       "\n",
       "</td><td>\n",
       "<table>\n",
       "<tr><th>Name</th><th>Field</th><th>Type</th><th>N Comp</th><th>Min</th><th>Max</th></tr>\n",
       "<tr><td><b>scalars</b></td><td>Points</td><td>int32</td><td>1</td><td>0.000e+00</td><td>2.700e+01</td></tr>\n",
       "<tr><td>Normals</td><td>Points</td><td>float32</td><td>3</td><td>-9.984e-01</td><td>9.984e-01</td></tr>\n",
       "</table>\n",
       "\n",
       "</td></tr> </table>"
      ],
      "text/plain": [
       "PolyData (0x229b3e5b100)\n",
       "  N Cells:    1116\n",
       "  N Points:   600\n",
       "  N Strips:   0\n",
       "  X Bounds:   -1.519e+01, -2.954e+00\n",
       "  Y Bounds:   4.180e+01, 5.372e+01\n",
       "  Z Bounds:   -8.694e+01, -1.432e+01\n",
       "  N Arrays:   2"
      ]
     },
     "execution_count": 21,
     "metadata": {},
     "output_type": "execute_result"
    }
   ],
   "source": [
    "tube"
   ]
  },
  {
   "cell_type": "code",
   "execution_count": 52,
   "id": "71fe7590-c2fe-4d36-a48d-e664c9513426",
   "metadata": {},
   "outputs": [],
   "source": [
    "\n",
    "#import spinal cord and vertebrae\n",
    "\n",
    "# Create a plotter\n",
    "#plotter = pv.Plotter()\n",
    "plotter = BackgroundPlotter()\n",
    "plotter.add_mesh(meshes[0])\n",
    "# 在DREP高度切片\n",
    "sliced_mesh = meshes[0].slice(normal='z', origin=DREP_L_Tbl['position'][0])\n",
    "# Visualization\n",
    "#plotter.add_mesh(sliced_mesh, color = 'red')\n",
    "\n",
    "plotter.add_mesh(np.array(interp_list), color='blue')\n",
    "#plotter.add_mesh(pv.Line(center,cart2polTransform(np.array([20,0,0]),center,direction= 'pol2cart')))\n",
    "#plotter.add_mesh(pv.Line(center,cart2polTransform(np.array([20,math.pi/2,0]),center,direction= 'pol2cart')))\n",
    "#plotter.add_mesh(tube, color = 'yellow')\n",
    "plotter.add_point_labels(if_L[2], [IF_L_Tbl['label'][2]], font_size=24, point_color='red', point_size=20, render_points_as_spheres=True, always_visible=True)\n",
    "plotter.add_point_labels(DREP_L, list(DREP_L_Tbl['label']), font_size=24, point_color='green', point_size=20, render_points_as_spheres=True, always_visible=True)\n",
    "\n",
    "\n",
    "plotter.show()"
   ]
  },
  {
   "cell_type": "code",
   "execution_count": 41,
   "id": "0da6bb00-8fdf-4b85-a6d0-87073f7da4ca",
   "metadata": {},
   "outputs": [
    {
     "data": {
      "text/plain": [
       "array([ -2.24930811,  52.77119827, -14.77660179])"
      ]
     },
     "execution_count": 41,
     "metadata": {},
     "output_type": "execute_result"
    }
   ],
   "source": [
    "DREP_L[0][3] = "
   ]
  },
  {
   "cell_type": "code",
   "execution_count": 44,
   "id": "16cc8acc-5034-48d5-a16b-a93610634b66",
   "metadata": {},
   "outputs": [],
   "source": [
    "DREP_L1 = [DREP_L[0]]\n",
    "for i in range(1,6):\n",
    "    lastp = DREP_L1[-1].copy()\n",
    "    lastp[2] = lastp[2]-1\n",
    "    DREP_L1.append(lastp)"
   ]
  },
  {
   "cell_type": "code",
   "execution_count": 45,
   "id": "db079d8b-1fe9-4291-8221-52f940e949ae",
   "metadata": {},
   "outputs": [
    {
     "data": {
      "text/plain": [
       "[array([-2.24930811, 52.77119827, -8.77660179]),\n",
       " array([-2.24930811, 52.77119827, -9.77660179]),\n",
       " array([ -2.24930811,  52.77119827, -10.77660179]),\n",
       " array([ -2.24930811,  52.77119827, -11.77660179]),\n",
       " array([ -2.24930811,  52.77119827, -12.77660179]),\n",
       " array([ -2.24930811,  52.77119827, -13.77660179])]"
      ]
     },
     "execution_count": 45,
     "metadata": {},
     "output_type": "execute_result"
    }
   ],
   "source": [
    "DREP_L1"
   ]
  },
  {
   "cell_type": "code",
   "execution_count": null,
   "id": "1e1503ec-55e9-46ab-b059-7de616fa8a58",
   "metadata": {},
   "outputs": [],
   "source": [
    "d,a,z = interpolate_point_sampling(30,center,DREP_L[0],if_L[2],0.1)"
   ]
  },
  {
   "cell_type": "code",
   "execution_count": null,
   "id": "160f2b86-e858-4a85-8abd-5902a5a0c788",
   "metadata": {},
   "outputs": [],
   "source": []
  },
  {
   "cell_type": "code",
   "execution_count": 47,
   "id": "3c7fd49e-477f-43bd-943b-2f9621808b7f",
   "metadata": {},
   "outputs": [],
   "source": [
    "L1_plist = []\n",
    "for i in DREP_L1:\n",
    "    d,a,z = interpolate_point_sampling(30,center,i,if_L[2],0.1)\n",
    "    \n",
    "    interp_list=[i]\n",
    "    for di,ai,zi in zip(d,a,z):\n",
    "        interp_list.append(cart2polTransform([di,ai,zi],origin = center, direction = 'pol2cart'))\n",
    "    interp_list.append(if_L[2])\n",
    "    L1_plist.append(interp_list)"
   ]
  },
  {
   "cell_type": "code",
   "execution_count": 48,
   "id": "2bc9fb50-83e8-4a08-bbfe-eebff58a8069",
   "metadata": {},
   "outputs": [
    {
     "data": {
      "text/plain": [
       "[[array([-2.24930811, 52.77119827, -8.77660179]),\n",
       "  array([ -3.05346257,  53.60842671, -14.33401879]),\n",
       "  array([ -3.38648091,  53.62276518, -17.11272729]),\n",
       "  array([ -3.66168622,  53.48709328, -19.89143578]),\n",
       "  array([ -4.01456459,  53.47381562, -22.67014428]),\n",
       "  array([ -4.28638348,  53.30807959, -25.44885278]),\n",
       "  array([ -4.53903244,  53.11411168, -28.22756128]),\n",
       "  array([ -4.78517233,  52.91119929, -31.00626978]),\n",
       "  array([ -5.0470712 ,  52.71938543, -33.78497827]),\n",
       "  array([ -5.25950672,  52.47683354, -36.56368677]),\n",
       "  array([ -5.45559068,  52.22088168, -39.34239527]),\n",
       "  array([ -5.63448011,  51.95263023, -42.12110377]),\n",
       "  array([ -5.79540596,  51.67323241, -44.89981227]),\n",
       "  array([ -5.93767638,  51.38388936, -47.67852077]),\n",
       "  array([ -6.06067975,  51.085845  , -50.45722926]),\n",
       "  array([ -6.09800519,  50.76050231, -53.23593776]),\n",
       "  array([ -6.17981211,  50.45329127, -56.01464626]),\n",
       "  array([ -6.1315867 ,  50.1234605 , -58.79335476]),\n",
       "  array([ -6.21653236,  49.81976109, -61.57206326]),\n",
       "  array([ -6.23643583,  49.50680488, -64.35077175]),\n",
       "  array([ -6.23578787,  49.19321706, -67.12948025]),\n",
       "  array([ -7.5581939 ,  48.78982913, -69.59944336]),\n",
       "  array([ -8.84528196,  48.23221503, -72.06940647]),\n",
       "  array([-10.08360658,  47.52338417, -74.53936958]),\n",
       "  array([-11.25996831,  46.66738634, -77.00933269]),\n",
       "  array([-12.36148913,  45.6692924 , -79.4792958 ]),\n",
       "  array([-13.37568635,  44.53516971, -81.94925891]),\n",
       "  array([-14.29054473,  43.27205239, -84.41922202]),\n",
       "  array([-15.09458638,  41.88790666, -86.88918513]),\n",
       "  array([-15.77693822,  40.39159124, -89.35914824])],\n",
       " [array([-2.24930811, 52.77119827, -9.77660179]),\n",
       "  array([ -3.05346257,  53.60842671, -15.26505327]),\n",
       "  array([ -3.38648091,  53.62276518, -18.00927901]),\n",
       "  array([ -3.66168622,  53.48709328, -20.75350475]),\n",
       "  array([ -4.01456459,  53.47381562, -23.49773049]),\n",
       "  array([ -4.28638348,  53.30807959, -26.24195623]),\n",
       "  array([ -4.53903244,  53.11411168, -28.98618197]),\n",
       "  array([ -4.78517233,  52.91119929, -31.73040771]),\n",
       "  array([ -5.0470712 ,  52.71938543, -34.47463345]),\n",
       "  array([ -5.25950672,  52.47683354, -37.21885919]),\n",
       "  array([ -5.45559068,  52.22088168, -39.96308493]),\n",
       "  array([ -5.63448011,  51.95263023, -42.70731067]),\n",
       "  array([ -5.79540596,  51.67323241, -45.45153641]),\n",
       "  array([ -5.93767638,  51.38388936, -48.19576214]),\n",
       "  array([ -6.06067975,  51.085845  , -50.93998788]),\n",
       "  array([ -6.09800519,  50.76050231, -53.68421362]),\n",
       "  array([ -6.17981211,  50.45329127, -56.42843936]),\n",
       "  array([ -6.1315867,  50.1234605, -59.1726651]),\n",
       "  array([ -6.21653236,  49.81976109, -61.91689084]),\n",
       "  array([ -6.23643583,  49.50680488, -64.66111658]),\n",
       "  array([ -6.23578787,  49.19321706, -67.40534232]),\n",
       "  array([ -7.5581939 ,  48.78982913, -69.84465409]),\n",
       "  array([ -8.84528196,  48.23221503, -72.28396586]),\n",
       "  array([-10.08360658,  47.52338417, -74.72327763]),\n",
       "  array([-11.25996831,  46.66738634, -77.1625894 ]),\n",
       "  array([-12.36148913,  45.6692924 , -79.60190116]),\n",
       "  array([-13.37568635,  44.53516971, -82.04121293]),\n",
       "  array([-14.29054473,  43.27205239, -84.4805247 ]),\n",
       "  array([-15.09458638,  41.88790666, -86.91983647]),\n",
       "  array([-15.77693822,  40.39159124, -89.35914824])],\n",
       " [array([ -2.24930811,  52.77119827, -10.77660179]),\n",
       "  array([ -3.05346257,  53.60842671, -16.19608775]),\n",
       "  array([ -3.38648091,  53.62276518, -18.90583073]),\n",
       "  array([ -3.66168622,  53.48709328, -21.61557371]),\n",
       "  array([ -4.01456459,  53.47381562, -24.3253167 ]),\n",
       "  array([ -4.28638348,  53.30807959, -27.03505968]),\n",
       "  array([ -4.53903244,  53.11411168, -29.74480266]),\n",
       "  array([ -4.78517233,  52.91119929, -32.45454564]),\n",
       "  array([ -5.0470712 ,  52.71938543, -35.16428862]),\n",
       "  array([ -5.25950672,  52.47683354, -37.8740316 ]),\n",
       "  array([ -5.45559068,  52.22088168, -40.58377458]),\n",
       "  array([ -5.63448011,  51.95263023, -43.29351756]),\n",
       "  array([ -5.79540596,  51.67323241, -46.00326054]),\n",
       "  array([ -5.93767638,  51.38388936, -48.71300352]),\n",
       "  array([ -6.06067975,  51.085845  , -51.4227465 ]),\n",
       "  array([ -6.09800519,  50.76050231, -54.13248949]),\n",
       "  array([ -6.17981211,  50.45329127, -56.84223247]),\n",
       "  array([ -6.1315867 ,  50.1234605 , -59.55197545]),\n",
       "  array([ -6.21653236,  49.81976109, -62.26171843]),\n",
       "  array([ -6.23643583,  49.50680488, -64.97146141]),\n",
       "  array([ -6.23578787,  49.19321706, -67.68120439]),\n",
       "  array([ -7.5581939 ,  48.78982913, -70.08986482]),\n",
       "  array([ -8.84528196,  48.23221503, -72.49852525]),\n",
       "  array([-10.08360658,  47.52338417, -74.90718567]),\n",
       "  array([-11.25996831,  46.66738634, -77.3158461 ]),\n",
       "  array([-12.36148913,  45.6692924 , -79.72450653]),\n",
       "  array([-13.37568635,  44.53516971, -82.13316696]),\n",
       "  array([-14.29054473,  43.27205239, -84.54182738]),\n",
       "  array([-15.09458638,  41.88790666, -86.95048781]),\n",
       "  array([-15.77693822,  40.39159124, -89.35914824])],\n",
       " [array([ -2.24930811,  52.77119827, -11.77660179]),\n",
       "  array([ -3.05346257,  53.60842671, -17.12712224]),\n",
       "  array([ -3.38648091,  53.62276518, -19.80238246]),\n",
       "  array([ -3.66168622,  53.48709328, -22.47764268]),\n",
       "  array([ -4.01456459,  53.47381562, -25.1529029 ]),\n",
       "  array([ -4.28638348,  53.30807959, -27.82816313]),\n",
       "  array([ -4.53903244,  53.11411168, -30.50342335]),\n",
       "  array([ -4.78517233,  52.91119929, -33.17868357]),\n",
       "  array([ -5.0470712 ,  52.71938543, -35.85394379]),\n",
       "  array([ -5.25950672,  52.47683354, -38.52920401]),\n",
       "  array([ -5.45559068,  52.22088168, -41.20446424]),\n",
       "  array([ -5.63448011,  51.95263023, -43.87972446]),\n",
       "  array([ -5.79540596,  51.67323241, -46.55498468]),\n",
       "  array([ -5.93767638,  51.38388936, -49.2302449 ]),\n",
       "  array([ -6.06067975,  51.085845  , -51.90550513]),\n",
       "  array([ -6.09800519,  50.76050231, -54.58076535]),\n",
       "  array([ -6.17981211,  50.45329127, -57.25602557]),\n",
       "  array([ -6.1315867 ,  50.1234605 , -59.93128579]),\n",
       "  array([ -6.21653236,  49.81976109, -62.60654601]),\n",
       "  array([ -6.23643583,  49.50680488, -65.28180624]),\n",
       "  array([ -6.23578787,  49.19321706, -67.95706646]),\n",
       "  array([ -7.5581939 ,  48.78982913, -70.33507555]),\n",
       "  array([ -8.84528196,  48.23221503, -72.71308463]),\n",
       "  array([-10.08360658,  47.52338417, -75.09109372]),\n",
       "  array([-11.25996831,  46.66738634, -77.46910281]),\n",
       "  array([-12.36148913,  45.6692924 , -79.84711189]),\n",
       "  array([-13.37568635,  44.53516971, -82.22512098]),\n",
       "  array([-14.29054473,  43.27205239, -84.60313006]),\n",
       "  array([-15.09458638,  41.88790666, -86.98113915]),\n",
       "  array([-15.77693822,  40.39159124, -89.35914824])],\n",
       " [array([ -2.24930811,  52.77119827, -12.77660179]),\n",
       "  array([ -3.05346257,  53.60842671, -18.05815672]),\n",
       "  array([ -3.38648091,  53.62276518, -20.69893418]),\n",
       "  array([ -3.66168622,  53.48709328, -23.33971165]),\n",
       "  array([ -4.01456459,  53.47381562, -25.98048911]),\n",
       "  array([ -4.28638348,  53.30807959, -28.62126657]),\n",
       "  array([ -4.53903244,  53.11411168, -31.26204404]),\n",
       "  array([ -4.78517233,  52.91119929, -33.9028215 ]),\n",
       "  array([ -5.0470712 ,  52.71938543, -36.54359896]),\n",
       "  array([ -5.25950672,  52.47683354, -39.18437643]),\n",
       "  array([ -5.45559068,  52.22088168, -41.82515389]),\n",
       "  array([ -5.63448011,  51.95263023, -44.46593136]),\n",
       "  array([ -5.79540596,  51.67323241, -47.10670882]),\n",
       "  array([ -5.93767638,  51.38388936, -49.74748628]),\n",
       "  array([ -6.06067975,  51.085845  , -52.38826375]),\n",
       "  array([ -6.09800519,  50.76050231, -55.02904121]),\n",
       "  array([ -6.17981211,  50.45329127, -57.66981867]),\n",
       "  array([ -6.1315867 ,  50.1234605 , -60.31059614]),\n",
       "  array([ -6.21653236,  49.81976109, -62.9513736 ]),\n",
       "  array([ -6.23643583,  49.50680488, -65.59215106]),\n",
       "  array([ -6.23578787,  49.19321706, -68.23292853]),\n",
       "  array([ -7.5581939 ,  48.78982913, -70.58028627]),\n",
       "  array([ -8.84528196,  48.23221503, -72.92764402]),\n",
       "  array([-10.08360658,  47.52338417, -75.27500176]),\n",
       "  array([-11.25996831,  46.66738634, -77.62235951]),\n",
       "  array([-12.36148913,  45.6692924 , -79.96971726]),\n",
       "  array([-13.37568635,  44.53516971, -82.317075  ]),\n",
       "  array([-14.29054473,  43.27205239, -84.66443275]),\n",
       "  array([-15.09458638,  41.88790666, -87.01179049]),\n",
       "  array([-15.77693822,  40.39159124, -89.35914824])],\n",
       " [array([ -2.24930811,  52.77119827, -13.77660179]),\n",
       "  array([ -3.05346257,  53.60842671, -18.9891912 ]),\n",
       "  array([ -3.38648091,  53.62276518, -21.59548591]),\n",
       "  array([ -3.66168622,  53.48709328, -24.20178061]),\n",
       "  array([ -4.01456459,  53.47381562, -26.80807532]),\n",
       "  array([ -4.28638348,  53.30807959, -29.41437002]),\n",
       "  array([ -4.53903244,  53.11411168, -32.02066473]),\n",
       "  array([ -4.78517233,  52.91119929, -34.62695943]),\n",
       "  array([ -5.0470712 ,  52.71938543, -37.23325414]),\n",
       "  array([ -5.25950672,  52.47683354, -39.83954884]),\n",
       "  array([ -5.45559068,  52.22088168, -42.44584355]),\n",
       "  array([ -5.63448011,  51.95263023, -45.05213825]),\n",
       "  array([ -5.79540596,  51.67323241, -47.65843296]),\n",
       "  array([ -5.93767638,  51.38388936, -50.26472766]),\n",
       "  array([ -6.06067975,  51.085845  , -52.87102237]),\n",
       "  array([ -6.09800519,  50.76050231, -55.47731707]),\n",
       "  array([ -6.17981211,  50.45329127, -58.08361178]),\n",
       "  array([ -6.1315867 ,  50.1234605 , -60.68990648]),\n",
       "  array([ -6.21653236,  49.81976109, -63.29620119]),\n",
       "  array([ -6.23643583,  49.50680488, -65.90249589]),\n",
       "  array([ -6.23578787,  49.19321706, -68.5087906 ]),\n",
       "  array([ -7.5581939 ,  48.78982913, -70.825497  ]),\n",
       "  array([ -8.84528196,  48.23221503, -73.14220341]),\n",
       "  array([-10.08360658,  47.52338417, -75.45890981]),\n",
       "  array([-11.25996831,  46.66738634, -77.77561622]),\n",
       "  array([-12.36148913,  45.6692924 , -80.09232262]),\n",
       "  array([-13.37568635,  44.53516971, -82.40902902]),\n",
       "  array([-14.29054473,  43.27205239, -84.72573543]),\n",
       "  array([-15.09458638,  41.88790666, -87.04244183]),\n",
       "  array([-15.77693822,  40.39159124, -89.35914824])]]"
      ]
     },
     "execution_count": 48,
     "metadata": {},
     "output_type": "execute_result"
    }
   ],
   "source": [
    "L1_plist"
   ]
  },
  {
   "cell_type": "code",
   "execution_count": 65,
   "id": "2f7f8183-84ab-4e4e-a293-fcb88ebdd33f",
   "metadata": {},
   "outputs": [],
   "source": [
    "\n",
    "#import spinal cord and vertebrae\n",
    "\n",
    "# Create a plotter\n",
    "#plotter = pv.Plotter()\n",
    "plotter = BackgroundPlotter()\n",
    "plotter.add_mesh(meshes[0])\n",
    "plotter.add_mesh(meshes[1],opacity = 0.3)\n",
    "# 在DREP高度切片\n",
    "sliced_mesh = meshes[0].slice(normal='z', origin=DREP_L_Tbl['position'][0])\n",
    "# Visualization\n",
    "#plotter.add_mesh(sliced_mesh, color = 'red')\n",
    "\n",
    "#plotter.add_mesh(np.array(interp_list), color='')\n",
    "nerveroots = pv.MultiBlock()\n",
    "for i in range(0,5):\n",
    "    spline = pv.Spline(L1_plist[i], 1000)\n",
    "    tube = spline.tube(radius=0.1)\n",
    "    # tube = spline.tube(radius=radius) # Uncomment here to change radius of the tube.\n",
    "    nerveroots.append(tube)\n",
    "\n",
    "plotter.add_mesh(nerveroots,smooth_shading=True, color = 'bisque')\n",
    "#plotter.add_mesh(pv.Line(center,cart2polTransform(np.array([20,0,0]),center,direction= 'pol2cart')))\n",
    "#plotter.add_mesh(pv.Line(center,cart2polTransform(np.array([20,math.pi/2,0]),center,direction= 'pol2cart')))\n",
    "#plotter.add_mesh(tube, color = 'yellow')\n",
    "plotter.add_point_labels(if_L[2], [IF_L_Tbl['label'][2]], font_size=24, point_color='red', point_size=20, render_points_as_spheres=True, always_visible=True)\n",
    "#plotter.add_point_labels(DREP_L, list(DREP_L_Tbl['label']), font_size=24, point_color='green', point_size=20, render_points_as_spheres=True, always_visible=True)\n",
    "\n",
    "\n",
    "plotter.show()"
   ]
  },
  {
   "cell_type": "code",
   "execution_count": null,
   "id": "4919b2c2-fb91-44ae-a73c-7586167fc682",
   "metadata": {},
   "outputs": [],
   "source": []
  }
 ],
 "metadata": {
  "kernelspec": {
   "display_name": "Python 3 (ipykernel)",
   "language": "python",
   "name": "python3"
  },
  "language_info": {
   "codemirror_mode": {
    "name": "ipython",
    "version": 3
   },
   "file_extension": ".py",
   "mimetype": "text/x-python",
   "name": "python",
   "nbconvert_exporter": "python",
   "pygments_lexer": "ipython3",
   "version": "3.10.9"
  }
 },
 "nbformat": 4,
 "nbformat_minor": 5
}
