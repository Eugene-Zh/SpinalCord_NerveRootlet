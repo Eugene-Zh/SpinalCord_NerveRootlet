{
 "cells": [
  {
   "cell_type": "code",
   "execution_count": 4,
   "id": "d8a0af64-97a4-4994-a362-a2565ba48803",
   "metadata": {},
   "outputs": [],
   "source": [
    "import dicom2nifti\n",
    "\n",
    "dicom2nifti.convert_directory(r\"YOUR_DATA_PATH\\t2_de3d_we_cor_iso_0003\", r\"YOUR_DATA_PATH\", compression=True, reorient=True)\n",
    "dicom2nifti.convert_directory(r\"YOUR_DATA_PATH\\t2_space_cor_iso_myelo_ZOOMit_0004\", r\"YOUR_DATA_PATH\", compression=True, reorient=True)\n",
    "\n",
    "\n"
   ]
  },
  {
   "cell_type": "code",
   "execution_count": 15,
   "id": "7798fbce-215b-4620-a47c-92ea64e0b9cf",
   "metadata": {},
   "outputs": [],
   "source": [
    "dicom2nifti.convert_directory(r\"YOUR_DATA_PATH\\t2_de3d_we_sag_p2_iso_0013\", r\"YOUR_DATA_PATH\", compression=True, reorient=True)\n"
   ]
  },
  {
   "cell_type": "code",
   "execution_count": 16,
   "id": "aa822290-7b89-4731-8b58-6859b20aecb2",
   "metadata": {},
   "outputs": [],
   "source": [
    "import SimpleITK as sitk\n",
    "\n",
    "# Load the DESS and T2 images\n",
    "dess = sitk.ReadImage(r\"YOUR_DATA_PATH\\13_t2_de3d_we_sag_p2_iso.nii.gz\")\n",
    "t2 = sitk.ReadImage(r\"YOUR_DATA_PATH\\4_t2_space_cor_iso_myelo_zoomit.nii.gz\")\n",
    "\n",
    "# Define the registration method\n",
    "registration_method = sitk.ImageRegistrationMethod()\n",
    "\n",
    "# Set the registration method parameters\n",
    "registration_method.SetMetricAsMattesMutualInformation(numberOfHistogramBins=50)\n",
    "registration_method.SetMetricSamplingStrategy(registration_method.RANDOM)\n",
    "registration_method.SetMetricSamplingPercentage(0.01)\n",
    "registration_method.SetInterpolator(sitk.sitkLinear)\n",
    "\n",
    "# Define the registration transform\n",
    "initial_transform = sitk.CenteredTransformInitializer(dess, t2, sitk.AffineTransform(dess.GetDimension()))\n",
    "registration_method.SetInitialTransform(initial_transform)\n",
    "registration_method.SetOptimizerAsGradientDescent(learningRate=1.0, numberOfIterations=100, estimateLearningRate=registration_method.EachIteration)\n",
    "registration_method.SetOptimizerScalesFromPhysicalShift()\n",
    "\n",
    "\n",
    "dess_float = sitk.Cast(dess, sitk.sitkFloat32)\n",
    "t2_float= sitk.Cast(t2, sitk.sitkFloat32)\n",
    "# Run the registration\n",
    "final_transform = registration_method.Execute(dess_float, t2_float)\n",
    "\n",
    "# Apply the transform to the DESS image\n",
    "registered_dess = sitk.Resample(dess, t2, final_transform, sitk.sitkLinear, 0.0, dess.GetPixelID())\n",
    "\n",
    "# Save the registered DESS image\n",
    "sitk.WriteImage(registered_dess, 'registered_dess_coronal.nii.gz')\n"
   ]
  },
  {
   "cell_type": "code",
   "execution_count": 13,
   "id": "2305da10-fba6-4f3c-932b-f5a06e873ed1",
   "metadata": {},
   "outputs": [
    {
     "data": {
      "text/plain": [
       "<SimpleITK.SimpleITK.Image; proxy of <Swig Object of type 'std::vector< itk::simple::Image >::value_type *' at 0x000001D011E673C0> >"
      ]
     },
     "execution_count": 13,
     "metadata": {},
     "output_type": "execute_result"
    }
   ],
   "source": [
    "dess"
   ]
  },
  {
   "cell_type": "code",
   "execution_count": 10,
   "id": "8bf8ac0c-2274-473d-93d5-b4c2f77322d8",
   "metadata": {},
   "outputs": [
    {
     "data": {
      "text/plain": [
       "<SimpleITK.SimpleITK.Image; proxy of <Swig Object of type 'std::vector< itk::simple::Image >::value_type *' at 0x000001D018420D80> >"
      ]
     },
     "execution_count": 10,
     "metadata": {},
     "output_type": "execute_result"
    }
   ],
   "source": [
    "t2"
   ]
  },
  {
   "cell_type": "code",
   "execution_count": null,
   "id": "48089429-37aa-44f5-8dd8-4f621b447f26",
   "metadata": {},
   "outputs": [],
   "source": []
  }
 ],
 "metadata": {
  "kernelspec": {
   "display_name": "Python 3 (ipykernel)",
   "language": "python",
   "name": "python3"
  },
  "language_info": {
   "codemirror_mode": {
    "name": "ipython",
    "version": 3
   },
   "file_extension": ".py",
   "mimetype": "text/x-python",
   "name": "python",
   "nbconvert_exporter": "python",
   "pygments_lexer": "ipython3",
   "version": "3.10.9"
  }
 },
 "nbformat": 4,
 "nbformat_minor": 5
}
