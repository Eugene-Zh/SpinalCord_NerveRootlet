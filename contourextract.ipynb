{
 "cells": [
  {
   "cell_type": "code",
   "execution_count": 199,
   "id": "7c1eeeaa-ab51-4505-8e73-e53c7afe39ff",
   "metadata": {},
   "outputs": [
    {
     "name": "stdout",
     "output_type": "stream",
     "text": [
      "All is well.\n"
     ]
    }
   ],
   "source": [
    "from __future__ import print_function\n",
    "import importlib\n",
    "from distutils.version import LooseVersion\n",
    "\n",
    "# check that all packages are installed (see requirements.txt file)\n",
    "required_packages = {'jupyter', \n",
    "                     'numpy',\n",
    "                     'matplotlib',\n",
    "                     'ipywidgets',\n",
    "                     'scipy',\n",
    "                     'pandas',\n",
    "                     'SimpleITK'\n",
    "                    }\n",
    "\n",
    "problem_packages = list()\n",
    "# Iterate over the required packages: If the package is not installed\n",
    "# ignore the exception. \n",
    "for package in required_packages:\n",
    "    try:\n",
    "        p = importlib.import_module(package)        \n",
    "    except ImportError:\n",
    "        problem_packages.append(package)\n",
    "    \n",
    "if len(problem_packages)== 0:\n",
    "    print('All is well.')\n",
    "else:\n",
    "    print('The following packages are required but not installed: ' \\\n",
    "          + ', '.join(problem_packages))"
   ]
  },
  {
   "cell_type": "code",
   "execution_count": 1,
   "id": "86d55789-f2c3-44d7-8221-70328882eb48",
   "metadata": {},
   "outputs": [
    {
     "name": "stdout",
     "output_type": "stream",
     "text": [
      "SimpleITK Version: 2.2.0 (ITK 5.3)\n",
      "Compiled: Aug 29 2022 17:45:47\n",
      "\n"
     ]
    }
   ],
   "source": [
    "import SimpleITK as sitk\n",
    "\n",
    "# run update_path_to_download_script\n",
    "#from downloaddata import fetch_data, fetch_data_all\n",
    "\n",
    "from ipywidgets import interact\n",
    "\n",
    "print(sitk.Version())"
   ]
  },
  {
   "cell_type": "code",
   "execution_count": 2,
   "id": "96284423-c25f-42f2-8507-1aed3fc89e76",
   "metadata": {},
   "outputs": [],
   "source": [
    "import vtk\n",
    "import nibabel as nib\n",
    "import matplotlib.pyplot as plt"
   ]
  },
  {
   "cell_type": "code",
   "execution_count": 3,
   "id": "1fb0632c-5684-413b-b540-7b73cff9d4f4",
   "metadata": {},
   "outputs": [],
   "source": [
    "pathgm = 'E:\\Imaging\\spine generic\\sub-amu02processed\\sub-amu02_T2star_gmseg.nii.gz'"
   ]
  },
  {
   "cell_type": "code",
   "execution_count": 15,
   "id": "10597edb-afd4-4706-9710-a60741c18d53",
   "metadata": {},
   "outputs": [
    {
     "name": "stdout",
     "output_type": "stream",
     "text": [
      "(448, 448, 15)\n"
     ]
    }
   ],
   "source": [
    "gm = nib.load(pathgm)\n",
    "gm_data = gm.get_fdata()\n",
    "gm_data_shape = gm_data.shape\n",
    "print(gm_data_shape)"
   ]
  },
  {
   "cell_type": "code",
   "execution_count": 11,
   "id": "97b39499-237d-40ef-8b4f-380900bdeeed",
   "metadata": {},
   "outputs": [
    {
     "data": {
      "text/plain": [
       "Text(0.5, 0.98, 'Center slices for spinal cord image')"
      ]
     },
     "execution_count": 11,
     "metadata": {},
     "output_type": "execute_result"
    },
    {
     "data": {
      "image/png": "[encoded data removed]",
      "text/plain": [
       "<Figure size 640x480 with 3 Axes>"
      ]
     },
     "metadata": {},
     "output_type": "display_data"
    }
   ],
   "source": [
    "def show_slices(slices):\n",
    "   \"\"\" 显示一行图像切片 \"\"\"\n",
    "   fig, axes = plt.subplots(1, len(slices))\n",
    "   for i, slice in enumerate(slices):\n",
    "       axes[i].imshow(slice.T, cmap=\"gray\", origin=\"lower\")\n",
    "# 获得三个维度的切片\n",
    "slice_0 = img_data[224, :, :]\n",
    "slice_1 = img_data[:, 224, :]\n",
    "slice_2 = img_data[:, :,7]\n",
    "show_slices([slice_0, slice_1, slice_2])\n",
    "plt.suptitle(\"Center slices for spinal cord image\")\n"
   ]
  },
  {
   "cell_type": "code",
   "execution_count": 12,
   "id": "c2b210cb-2808-4812-ae6c-5d966c126baa",
   "metadata": {},
   "outputs": [
    {
     "ename": "NameError",
     "evalue": "name 'brain_tumor_img' is not defined",
     "output_type": "error",
     "traceback": [
      "\u001b[1;31m---------------------------------------------------------------------------\u001b[0m",
      "\u001b[1;31mNameError\u001b[0m                                 Traceback (most recent call last)",
      "\u001b[1;32m~\\AppData\\Local\\Temp\\ipykernel_29160\\1044080543.py\u001b[0m in \u001b[0;36m<module>\u001b[1;34m\u001b[0m\n\u001b[0;32m      1\u001b[0m \u001b[1;31m# 获得仿射变换矩阵\u001b[0m\u001b[1;33m\u001b[0m\u001b[1;33m\u001b[0m\u001b[0m\n\u001b[1;32m----> 2\u001b[1;33m \u001b[0maffine\u001b[0m\u001b[1;33m=\u001b[0m\u001b[0mbrain_tumor_img\u001b[0m\u001b[1;33m.\u001b[0m\u001b[0maffine\u001b[0m\u001b[1;33m\u001b[0m\u001b[1;33m\u001b[0m\u001b[0m\n\u001b[0m\u001b[0;32m      3\u001b[0m \u001b[0mprint\u001b[0m\u001b[1;33m(\u001b[0m\u001b[1;34m\"仿射变换矩阵为\\n{}\"\u001b[0m\u001b[1;33m.\u001b[0m\u001b[0mformat\u001b[0m\u001b[1;33m(\u001b[0m\u001b[0maffine\u001b[0m\u001b[1;33m)\u001b[0m\u001b[1;33m)\u001b[0m\u001b[1;33m\u001b[0m\u001b[1;33m\u001b[0m\u001b[0m\n",
      "\u001b[1;31mNameError\u001b[0m: name 'brain_tumor_img' is not defined"
     ]
    }
   ],
   "source": [
    "# 获得仿射变换矩阵\n",
    "affine=brain_tumor_img.affine\n",
    "print(\"仿射变换矩阵为\\n{}\".format(affine))\n",
    "\n",
    "# 获得仿射的轴方向代码\n",
    "orientation = nib.aff2axcodes(affine)\n",
    "print(\"仿射的轴方向代码为\\n{}\".format(orientation))\n",
    "\n",
    "# 将SpatialImage实例img保存到文件brain_tumour.nii\n",
    "nib.save(brain_tumor_img,\"brain_tumour.nii\")"
   ]
  },
  {
   "cell_type": "code",
   "execution_count": 14,
   "id": "3e32a821-1b75-4ee3-875c-5fcc66408330",
   "metadata": {},
   "outputs": [
    {
     "data": {
      "text/plain": [
       "array([[0., 0., 0., ..., 0., 0., 0.],\n",
       "       [0., 0., 0., ..., 0., 0., 0.],\n",
       "       [0., 0., 0., ..., 0., 0., 0.],\n",
       "       ...,\n",
       "       [0., 0., 0., ..., 0., 0., 0.],\n",
       "       [0., 0., 0., ..., 0., 0., 0.],\n",
       "       [0., 0., 0., ..., 0., 0., 0.]])"
      ]
     },
     "execution_count": 14,
     "metadata": {},
     "output_type": "execute_result"
    }
   ],
   "source": [
    "img_data[0]"
   ]
  },
  {
   "cell_type": "code",
   "execution_count": null,
   "id": "73b24509-c0e4-4842-9cf6-e89cbce25c7b",
   "metadata": {},
   "outputs": [],
   "source": [
    "fig, axes = plt.show()"
   ]
  },
  {
   "cell_type": "code",
   "execution_count": 16,
   "id": "ca6b441d-701a-44ce-89a1-065713e84b9c",
   "metadata": {},
   "outputs": [
    {
     "name": "stdout",
     "output_type": "stream",
     "text": [
      "(448, 448, 15)\n"
     ]
    }
   ],
   "source": [
    "pathcl = \"E:\\Imaging\\spine generic\\sub-amu02processed\\sub-amu02_T2star_centerline.nii.gz\"\n",
    "cline = nib.load(pathcl)\n",
    "cline_data = cline.get_fdata()\n",
    "cline_data_shape = cline_data.shape\n",
    "print(cline_data_shape)"
   ]
  },
  {
   "cell_type": "code",
   "execution_count": 35,
   "id": "44e48421-ed18-421d-a32e-4236e563f624",
   "metadata": {},
   "outputs": [
    {
     "data": {
      "text/plain": [
       "array([[0., 0., 0., ..., 0., 0., 0.],\n",
       "       [0., 0., 0., ..., 0., 0., 0.],\n",
       "       [0., 0., 0., ..., 0., 0., 0.],\n",
       "       ...,\n",
       "       [0., 0., 0., ..., 0., 0., 0.],\n",
       "       [0., 0., 0., ..., 0., 0., 0.],\n",
       "       [0., 0., 0., ..., 0., 0., 0.]])"
      ]
     },
     "execution_count": 35,
     "metadata": {},
     "output_type": "execute_result"
    }
   ],
   "source": [
    "cline_data[:,:,3]"
   ]
  },
  {
   "cell_type": "code",
   "execution_count": 36,
   "id": "0918e1e8-3e25-49c2-8c6c-0b858e298d35",
   "metadata": {},
   "outputs": [
    {
     "data": {
      "text/plain": [
       "array([0., 0., 0., 0., 0., 0., 0., 0., 0., 0., 0., 0., 0., 0., 0., 0., 0.,\n",
       "       0., 0., 0., 0., 0., 0., 0., 0., 0., 0., 0., 0., 0., 0., 0., 0., 0.,\n",
       "       0., 0., 0., 0., 0., 0., 0., 0., 0., 0., 0., 0., 0., 0., 0., 0., 0.,\n",
       "       0., 0., 0., 0., 0., 0., 0., 0., 0., 0., 0., 0., 0., 0., 0., 0., 0.,\n",
       "       0., 0., 0., 0., 0., 0., 0., 0., 0., 0., 0., 0., 0., 0., 0., 0., 0.,\n",
       "       0., 0., 0., 0., 0., 0., 0., 0., 0., 0., 0., 0., 0., 0., 0., 0., 0.,\n",
       "       0., 0., 0., 0., 0., 0., 0., 0., 0., 0., 0., 0., 0., 0., 0., 0., 0.,\n",
       "       0., 0., 0., 0., 0., 0., 0., 0., 0., 0., 0., 0., 0., 0., 0., 0., 0.,\n",
       "       0., 0., 0., 0., 0., 0., 0., 0., 0., 0., 0., 0., 0., 0., 0., 0., 0.,\n",
       "       0., 0., 0., 0., 0., 0., 0., 0., 0., 0., 0., 0., 0., 0., 0., 0., 0.,\n",
       "       0., 0., 0., 0., 0., 0., 0., 0., 0., 0., 0., 0., 0., 0., 0., 0., 0.,\n",
       "       0., 0., 0., 0., 0., 0., 0., 0., 0., 0., 0., 0., 0., 0., 0., 0., 0.,\n",
       "       0., 0., 0., 0., 0., 0., 0., 0., 0., 0., 0., 0., 0., 0., 0., 0., 0.,\n",
       "       0., 0., 0., 0., 0., 0., 0., 0., 0., 0., 0., 0., 1., 1., 0., 0., 0.,\n",
       "       0., 0., 0., 0., 0., 0., 0., 0., 0., 0., 0., 0., 0., 0., 0., 0., 0.,\n",
       "       0., 0., 0., 0., 0., 0., 0., 0., 0., 0., 0., 0., 0., 0., 0., 0., 0.,\n",
       "       0., 0., 0., 0., 0., 0., 0., 0., 0., 0., 0., 0., 0., 0., 0., 0., 0.,\n",
       "       0., 0., 0., 0., 0., 0., 0., 0., 0., 0., 0., 0., 0., 0., 0., 0., 0.,\n",
       "       0., 0., 0., 0., 0., 0., 0., 0., 0., 0., 0., 0., 0., 0., 0., 0., 0.,\n",
       "       0., 0., 0., 0., 0., 0., 0., 0., 0., 0., 0., 0., 0., 0., 0., 0., 0.,\n",
       "       0., 0., 0., 0., 0., 0., 0., 0., 0., 0., 0., 0., 0., 0., 0., 0., 0.,\n",
       "       0., 0., 0., 0., 0., 0., 0., 0., 0., 0., 0., 0., 0., 0., 0., 0., 0.,\n",
       "       0., 0., 0., 0., 0., 0., 0., 0., 0., 0., 0., 0., 0., 0., 0., 0., 0.,\n",
       "       0., 0., 0., 0., 0., 0., 0., 0., 0., 0., 0., 0., 0., 0., 0., 0., 0.,\n",
       "       0., 0., 0., 0., 0., 0., 0., 0., 0., 0., 0., 0., 0., 0., 0., 0., 0.,\n",
       "       0., 0., 0., 0., 0., 0., 0., 0., 0., 0., 0., 0., 0., 0., 0., 0., 0.,\n",
       "       0., 0., 0., 0., 0., 0.])"
      ]
     },
     "execution_count": 36,
     "metadata": {},
     "output_type": "execute_result"
    }
   ],
   "source": [
    "sum(cline_data[:,:,3])"
   ]
  },
  {
   "cell_type": "code",
   "execution_count": 25,
   "id": "aa33947f-5aef-4160-9617-070c1282c267",
   "metadata": {},
   "outputs": [
    {
     "data": {
      "text/plain": [
       "array([[0., 0., 0., ..., 0., 0., 0.],\n",
       "       [0., 0., 0., ..., 0., 0., 0.],\n",
       "       [0., 0., 0., ..., 0., 0., 0.],\n",
       "       ...,\n",
       "       [0., 0., 0., ..., 0., 0., 0.],\n",
       "       [0., 0., 0., ..., 0., 0., 0.],\n",
       "       [0., 0., 0., ..., 0., 0., 0.]])"
      ]
     },
     "execution_count": 25,
     "metadata": {},
     "output_type": "execute_result"
    }
   ],
   "source": [
    "gm_data[:,:,1]"
   ]
  },
  {
   "cell_type": "code",
   "execution_count": 26,
   "id": "186123c0-3e6b-4a63-bafb-d9ac50f69462",
   "metadata": {},
   "outputs": [
    {
     "data": {
      "text/plain": [
       "array([ 0.,  0.,  0.,  0.,  0.,  0.,  0.,  0.,  0.,  0.,  0.,  0.,  0.,\n",
       "        0.,  0.,  0.,  0.,  0.,  0.,  0.,  0.,  0.,  0.,  0.,  0.,  0.,\n",
       "        0.,  0.,  0.,  0.,  0.,  0.,  0.,  0.,  0.,  0.,  0.,  0.,  0.,\n",
       "        0.,  0.,  0.,  0.,  0.,  0.,  0.,  0.,  0.,  0.,  0.,  0.,  0.,\n",
       "        0.,  0.,  0.,  0.,  0.,  0.,  0.,  0.,  0.,  0.,  0.,  0.,  0.,\n",
       "        0.,  0.,  0.,  0.,  0.,  0.,  0.,  0.,  0.,  0.,  0.,  0.,  0.,\n",
       "        0.,  0.,  0.,  0.,  0.,  0.,  0.,  0.,  0.,  0.,  0.,  0.,  0.,\n",
       "        0.,  0.,  0.,  0.,  0.,  0.,  0.,  0.,  0.,  0.,  0.,  0.,  0.,\n",
       "        0.,  0.,  0.,  0.,  0.,  0.,  0.,  0.,  0.,  0.,  0.,  0.,  0.,\n",
       "        0.,  0.,  0.,  0.,  0.,  0.,  0.,  0.,  0.,  0.,  0.,  0.,  0.,\n",
       "        0.,  0.,  0.,  0.,  0.,  0.,  0.,  0.,  0.,  0.,  0.,  0.,  0.,\n",
       "        0.,  0.,  0.,  0.,  0.,  0.,  0.,  0.,  0.,  0.,  0.,  0.,  0.,\n",
       "        0.,  0.,  0.,  0.,  0.,  0.,  0.,  0.,  0.,  0.,  0.,  0.,  0.,\n",
       "        0.,  0.,  0.,  0.,  0.,  0.,  0.,  0.,  0.,  0.,  0.,  0.,  0.,\n",
       "        0.,  0.,  0.,  0.,  0.,  0.,  0.,  0.,  0.,  0.,  0.,  0.,  0.,\n",
       "        0.,  0.,  0.,  0.,  0.,  0.,  0.,  0.,  0.,  0.,  0.,  0.,  0.,\n",
       "        0.,  0.,  3.,  3.,  4.,  6.,  4.,  6., 15., 14.,  8.,  4.,  1.,\n",
       "        0.,  0.,  0.,  0.,  0.,  0.,  0.,  0.,  0.,  0.,  0.,  0.,  0.,\n",
       "        0.,  0.,  0.,  0.,  0.,  0.,  0.,  0.,  0.,  0.,  0.,  0.,  0.,\n",
       "        0.,  0.,  0.,  0.,  0.,  0.,  0.,  0.,  0.,  0.,  0.,  0.,  0.,\n",
       "        0.,  0.,  0.,  0.,  0.,  0.,  0.,  0.,  0.,  0.,  0.,  0.,  0.,\n",
       "        0.,  0.,  0.,  0.,  0.,  0.,  0.,  0.,  0.,  0.,  0.,  0.,  0.,\n",
       "        0.,  0.,  0.,  0.,  0.,  0.,  0.,  0.,  0.,  0.,  0.,  0.,  0.,\n",
       "        0.,  0.,  0.,  0.,  0.,  0.,  0.,  0.,  0.,  0.,  0.,  0.,  0.,\n",
       "        0.,  0.,  0.,  0.,  0.,  0.,  0.,  0.,  0.,  0.,  0.,  0.,  0.,\n",
       "        0.,  0.,  0.,  0.,  0.,  0.,  0.,  0.,  0.,  0.,  0.,  0.,  0.,\n",
       "        0.,  0.,  0.,  0.,  0.,  0.,  0.,  0.,  0.,  0.,  0.,  0.,  0.,\n",
       "        0.,  0.,  0.,  0.,  0.,  0.,  0.,  0.,  0.,  0.,  0.,  0.,  0.,\n",
       "        0.,  0.,  0.,  0.,  0.,  0.,  0.,  0.,  0.,  0.,  0.,  0.,  0.,\n",
       "        0.,  0.,  0.,  0.,  0.,  0.,  0.,  0.,  0.,  0.,  0.,  0.,  0.,\n",
       "        0.,  0.,  0.,  0.,  0.,  0.,  0.,  0.,  0.,  0.,  0.,  0.,  0.,\n",
       "        0.,  0.,  0.,  0.,  0.,  0.,  0.,  0.,  0.,  0.,  0.,  0.,  0.,\n",
       "        0.,  0.,  0.,  0.,  0.,  0.,  0.,  0.,  0.,  0.,  0.,  0.,  0.,\n",
       "        0.,  0.,  0.,  0.,  0.,  0.,  0.,  0.,  0.,  0.,  0.,  0.,  0.,\n",
       "        0.,  0.,  0.,  0.,  0.,  0.])"
      ]
     },
     "execution_count": 26,
     "metadata": {},
     "output_type": "execute_result"
    }
   ],
   "source": [
    "sum(gm_data[:,:,1])"
   ]
  },
  {
   "cell_type": "code",
   "execution_count": 31,
   "id": "15dc8347-af57-4d07-88ce-3790c1dfab78",
   "metadata": {},
   "outputs": [],
   "source": [
    "import numpy as np"
   ]
  },
  {
   "cell_type": "code",
   "execution_count": 37,
   "id": "e706a6ae-60b0-4c65-a143-6972dd0581b8",
   "metadata": {},
   "outputs": [
    {
     "data": {
      "text/plain": [
       "(448, 448)"
      ]
     },
     "execution_count": 37,
     "metadata": {},
     "output_type": "execute_result"
    }
   ],
   "source": [
    "np.shape(gm_data[:,:,1])"
   ]
  },
  {
   "cell_type": "code",
   "execution_count": null,
   "id": "5f8b341c-4a19-4477-a274-30763d4f6354",
   "metadata": {},
   "outputs": [],
   "source": [
    "# 配准\n",
    "# 提取轮廓\n",
    "# 计算角\n",
    "\n",
    "\n",
    "# PEIZHUN\n"
   ]
  },
  {
   "cell_type": "markdown",
   "id": "c8c9c49d-778a-49eb-b581-ed3d84bde81c",
   "metadata": {},
   "source": [
    "## SimpleITK Intro"
   ]
  },
  {
   "cell_type": "code",
   "execution_count": 39,
   "id": "76b5b580-f269-4f10-9e29-dfc96ac7e5a0",
   "metadata": {},
   "outputs": [],
   "source": [
    "import SimpleITK as sitk\n",
    "\n",
    "gm = sitk.ReadImage(pathgm)\n",
    "gm = sitk.GetArrayFromImage(gm)\n"
   ]
  },
  {
   "cell_type": "code",
   "execution_count": 42,
   "id": "fe141f2c-e110-4b48-a401-24e8ec66ca74",
   "metadata": {},
   "outputs": [
    {
     "data": {
      "text/plain": [
       "(15, 448, 448)"
      ]
     },
     "execution_count": 42,
     "metadata": {},
     "output_type": "execute_result"
    }
   ],
   "source": [
    "gm.shape"
   ]
  },
  {
   "cell_type": "code",
   "execution_count": 62,
   "id": "1a2c111e-10e6-4253-887d-90a60f2d69c0",
   "metadata": {},
   "outputs": [
    {
     "data": {
      "text/plain": [
       "(448, 448)"
      ]
     },
     "execution_count": 62,
     "metadata": {},
     "output_type": "execute_result"
    }
   ],
   "source": [
    "gm[0].shape"
   ]
  },
  {
   "cell_type": "code",
   "execution_count": 59,
   "id": "c4e96e7e-8c26-47ee-bacf-2b73e3b1621e",
   "metadata": {},
   "outputs": [
    {
     "data": {
      "text/plain": [
       "(array([202, 203, 203, 203, 204, 204, 204, 204, 205, 205, 205, 205, 205,\n",
       "        206, 206, 206, 206, 206, 207, 207, 207, 207, 207, 207, 208, 208,\n",
       "        208, 208, 208, 208, 209, 209, 209, 209, 209, 210, 210, 210, 210,\n",
       "        211, 211, 211, 211, 211, 211, 212, 212, 212, 212, 213, 213, 213],\n",
       "       dtype=int64),\n",
       " array([214, 214, 215, 229, 215, 216, 227, 228, 215, 216, 226, 227, 228,\n",
       "        216, 217, 225, 226, 227, 215, 216, 217, 218, 219, 227, 215, 216,\n",
       "        217, 225, 226, 227, 215, 216, 225, 226, 227, 215, 224, 226, 227,\n",
       "        215, 216, 217, 224, 225, 226, 215, 216, 218, 226, 215, 216, 226],\n",
       "       dtype=int64))"
      ]
     },
     "execution_count": 59,
     "metadata": {},
     "output_type": "execute_result"
    }
   ],
   "source": [
    "np.where(gm[0]==1)"
   ]
  },
  {
   "cell_type": "code",
   "execution_count": 8,
   "id": "4afb4ed9-0efd-4c96-8ca8-59eb39340ebc",
   "metadata": {},
   "outputs": [],
   "source": [
    "path_gmwm = \"E:\\Imaging\\spine generic\\sub-amu02processed\\Segmentation_gmwm.nii\"\n",
    "gmwm = sitk.ReadImage(path_gmwm)\n",
    "gmwm_npa = sitk.GetArrayFromImage(gmwm)\n"
   ]
  },
  {
   "cell_type": "code",
   "execution_count": 48,
   "id": "1087303a-dcd6-480a-9abb-92aabd968250",
   "metadata": {},
   "outputs": [
    {
     "data": {
      "text/plain": [
       "array([[0, 0, 0, ..., 0, 0, 0],\n",
       "       [0, 0, 0, ..., 0, 0, 0],\n",
       "       [0, 0, 0, ..., 0, 0, 0],\n",
       "       ...,\n",
       "       [0, 0, 0, ..., 0, 0, 0],\n",
       "       [0, 0, 0, ..., 0, 0, 0],\n",
       "       [0, 0, 0, ..., 0, 0, 0]], dtype=int16)"
      ]
     },
     "execution_count": 48,
     "metadata": {},
     "output_type": "execute_result"
    }
   ],
   "source": [
    "gmwm[0]"
   ]
  },
  {
   "cell_type": "code",
   "execution_count": 51,
   "id": "193c9eb5-f763-4b63-bb03-0499ac6da516",
   "metadata": {},
   "outputs": [],
   "source": [
    "unique, counts = np.unique(gmwm[0], return_counts=True)"
   ]
  },
  {
   "cell_type": "code",
   "execution_count": 53,
   "id": "6c6750c4-0709-47ea-880b-23dcd086842d",
   "metadata": {},
   "outputs": [
    {
     "data": {
      "text/plain": [
       "{0: 200262, 1: 390, 2: 52}"
      ]
     },
     "execution_count": 53,
     "metadata": {},
     "output_type": "execute_result"
    }
   ],
   "source": [
    "dict(zip(unique, counts))"
   ]
  },
  {
   "cell_type": "code",
   "execution_count": 64,
   "id": "c19b1897-e557-49c9-9fcd-01bd1600d142",
   "metadata": {},
   "outputs": [
    {
     "data": {
      "text/plain": [
       "(array([202, 203, 203, 203, 204, 204, 204, 204, 205, 205, 205, 205, 205,\n",
       "        206, 206, 206, 206, 206, 207, 207, 207, 207, 207, 207, 208, 208,\n",
       "        208, 208, 208, 208, 209, 209, 209, 209, 209, 210, 210, 210, 210,\n",
       "        211, 211, 211, 211, 211, 211, 212, 212, 212, 212, 213, 213, 213],\n",
       "       dtype=int64),\n",
       " array([214, 214, 215, 229, 215, 216, 227, 228, 215, 216, 226, 227, 228,\n",
       "        216, 217, 225, 226, 227, 215, 216, 217, 218, 219, 227, 215, 216,\n",
       "        217, 225, 226, 227, 215, 216, 225, 226, 227, 215, 224, 226, 227,\n",
       "        215, 216, 217, 224, 225, 226, 215, 216, 218, 226, 215, 216, 226],\n",
       "       dtype=int64))"
      ]
     },
     "execution_count": 64,
     "metadata": {},
     "output_type": "execute_result"
    }
   ],
   "source": [
    "np.where(gmwm[0]==2)"
   ]
  },
  {
   "cell_type": "code",
   "execution_count": 77,
   "id": "db6cc533-d076-4dd7-a41e-1885fab5e0e5",
   "metadata": {},
   "outputs": [
    {
     "data": {
      "text/plain": [
       "array([[202, 214],\n",
       "       [203, 214],\n",
       "       [203, 215],\n",
       "       [203, 229],\n",
       "       [204, 215],\n",
       "       [204, 216],\n",
       "       [204, 227],\n",
       "       [204, 228],\n",
       "       [205, 215],\n",
       "       [205, 216],\n",
       "       [205, 226],\n",
       "       [205, 227],\n",
       "       [205, 228],\n",
       "       [206, 216],\n",
       "       [206, 217],\n",
       "       [206, 225],\n",
       "       [206, 226],\n",
       "       [206, 227],\n",
       "       [207, 215],\n",
       "       [207, 216],\n",
       "       [207, 217],\n",
       "       [207, 218],\n",
       "       [207, 219],\n",
       "       [207, 227],\n",
       "       [208, 215],\n",
       "       [208, 216],\n",
       "       [208, 217],\n",
       "       [208, 225],\n",
       "       [208, 226],\n",
       "       [208, 227],\n",
       "       [209, 215],\n",
       "       [209, 216],\n",
       "       [209, 225],\n",
       "       [209, 226],\n",
       "       [209, 227],\n",
       "       [210, 215],\n",
       "       [210, 224],\n",
       "       [210, 226],\n",
       "       [210, 227],\n",
       "       [211, 215],\n",
       "       [211, 216],\n",
       "       [211, 217],\n",
       "       [211, 224],\n",
       "       [211, 225],\n",
       "       [211, 226],\n",
       "       [212, 215],\n",
       "       [212, 216],\n",
       "       [212, 218],\n",
       "       [212, 226],\n",
       "       [213, 215],\n",
       "       [213, 216],\n",
       "       [213, 226]], dtype=int64)"
      ]
     },
     "execution_count": 77,
     "metadata": {},
     "output_type": "execute_result"
    }
   ],
   "source": [
    "np.argwhere(gmwm[0]==2)"
   ]
  },
  {
   "cell_type": "code",
   "execution_count": 75,
   "id": "8d1836be-2c92-416e-a413-51498fddc270",
   "metadata": {},
   "outputs": [
    {
     "data": {
      "image/png": "[encoded data removed]",
      "text/plain": [
       "<Figure size 640x480 with 1 Axes>"
      ]
     },
     "metadata": {},
     "output_type": "display_data"
    }
   ],
   "source": [
    "plt.imshow(gmwm[6],cmap='Greys')\n",
    "plt.show()"
   ]
  },
  {
   "cell_type": "code",
   "execution_count": 78,
   "id": "64c15d99-fda5-45bf-9271-6476dbcdb4ec",
   "metadata": {},
   "outputs": [],
   "source": [
    "gmt = gmwm"
   ]
  },
  {
   "cell_type": "code",
   "execution_count": 79,
   "id": "23084142-ec0f-4606-8210-d8ccb741d3f2",
   "metadata": {},
   "outputs": [],
   "source": [
    "gmt[0,100,400]=2"
   ]
  },
  {
   "cell_type": "code",
   "execution_count": 80,
   "id": "311412ea-fa73-4248-a0a9-1fb77b89e2b9",
   "metadata": {},
   "outputs": [
    {
     "data": {
      "text/plain": [
       "<matplotlib.image.AxesImage at 0x1994b14b8b0>"
      ]
     },
     "execution_count": 80,
     "metadata": {},
     "output_type": "execute_result"
    },
    {
     "data": {
      "image/png": "[encoded data removed]",
      "text/plain": [
       "<Figure size 640x480 with 1 Axes>"
      ]
     },
     "metadata": {},
     "output_type": "display_data"
    }
   ],
   "source": [
    "plt.imshow(gmt[0])"
   ]
  },
  {
   "cell_type": "code",
   "execution_count": 82,
   "id": "4fcdff32-f05c-4af1-b636-d93bbdd4b25b",
   "metadata": {},
   "outputs": [],
   "source": [
    "import scipy.ndimage as ndi\n",
    "cy,cx = ndi.center_of_mass(gmwm[0])"
   ]
  },
  {
   "cell_type": "code",
   "execution_count": 83,
   "id": "b94e2899-55f1-41ba-a2b4-cdf18d32623a",
   "metadata": {},
   "outputs": [
    {
     "name": "stdout",
     "output_type": "stream",
     "text": [
      "208.03225806451613 221.95967741935485\n"
     ]
    }
   ],
   "source": [
    "print(cy,cx)"
   ]
  },
  {
   "cell_type": "code",
   "execution_count": 110,
   "id": "05cbf24e-e13f-48f6-a894-14426ae48eb5",
   "metadata": {},
   "outputs": [
    {
     "name": "stdout",
     "output_type": "stream",
     "text": [
      "216 221\n"
     ]
    }
   ],
   "source": [
    "print(round(cy),round(cx))"
   ]
  },
  {
   "cell_type": "code",
   "execution_count": 90,
   "id": "62ddc4a0-a807-4532-aef8-4efae991c0df",
   "metadata": {},
   "outputs": [],
   "source": [
    "gmt[0,round(cy),round(cx)]=3"
   ]
  },
  {
   "cell_type": "code",
   "execution_count": 107,
   "id": "e7b65117-5706-41f0-942d-7da855f1d428",
   "metadata": {},
   "outputs": [],
   "source": [
    "cy,cx = ndi.center_of_mass(gmwm[1])\n",
    "gmt[1,round(cy),round(cx)]=3"
   ]
  },
  {
   "cell_type": "code",
   "execution_count": 100,
   "id": "0af3af8f-45d0-4bf6-ac14-0263e510b781",
   "metadata": {},
   "outputs": [
    {
     "data": {
      "text/plain": [
       "{0: 200261, 1: 389, 2: 53, 3: 1}"
      ]
     },
     "execution_count": 100,
     "metadata": {},
     "output_type": "execute_result"
    }
   ],
   "source": [
    "unique, counts = np.unique(gmt[0], return_counts=True)\n",
    "dict(zip(unique, counts))"
   ]
  },
  {
   "cell_type": "code",
   "execution_count": 102,
   "id": "7d18f5d5-011d-42c8-a9fa-15cf1364cc4c",
   "metadata": {},
   "outputs": [],
   "source": [
    "import numpy as np\n",
    "import matplotlib.pyplot as plt\n",
    "import matplotlib.cm as cm\n",
    "import matplotlib.colors as mcolors\n",
    "\n",
    "def show_cmap(cmap, norm=None, extend=None):\n",
    "    '''展示一个colormap.'''\n",
    "    if norm is None:\n",
    "        norm = mcolors.Normalize(vmin=0, vmax=cmap.N)\n",
    "    im = cm.ScalarMappable(norm=norm, cmap=cmap)\n",
    "\n",
    "    fig, ax = plt.subplots(figsize=(6, 1))\n",
    "    fig.subplots_adjust(bottom=0.5)\n",
    "    fig.colorbar(im, cax=ax, orientation='horizontal', extend=extend)\n",
    "    plt.show()"
   ]
  },
  {
   "cell_type": "code",
   "execution_count": 101,
   "id": "c7d50dbb-aa22-48b7-9239-eb732ce3dca2",
   "metadata": {},
   "outputs": [
    {
     "ename": "TypeError",
     "evalue": "register_cmap() got an unexpected keyword argument 'data'",
     "output_type": "error",
     "traceback": [
      "\u001b[1;31m---------------------------------------------------------------------------\u001b[0m",
      "\u001b[1;31mTypeError\u001b[0m                                 Traceback (most recent call last)",
      "\u001b[1;32m~\\AppData\\Local\\Temp\\ipykernel_29160\\2924871133.py\u001b[0m in \u001b[0;36m<module>\u001b[1;34m\u001b[0m\n\u001b[0;32m      2\u001b[0m \u001b[1;32mfrom\u001b[0m \u001b[0mmatplotlib\u001b[0m\u001b[1;33m.\u001b[0m\u001b[0mcolors\u001b[0m \u001b[1;32mimport\u001b[0m \u001b[0mListedColormap\u001b[0m\u001b[1;33m\u001b[0m\u001b[1;33m\u001b[0m\u001b[0m\n\u001b[0;32m      3\u001b[0m \u001b[0mcmap1\u001b[0m \u001b[1;33m=\u001b[0m \u001b[0mListedColormap\u001b[0m\u001b[1;33m(\u001b[0m\u001b[1;33m[\u001b[0m\u001b[1;34m\"black\"\u001b[0m\u001b[1;33m,\u001b[0m \u001b[1;34m\"grey\"\u001b[0m\u001b[1;33m,\u001b[0m \u001b[1;34m\"white\"\u001b[0m\u001b[1;33m,\u001b[0m \u001b[1;34m\"red\"\u001b[0m\u001b[1;33m]\u001b[0m\u001b[1;33m)\u001b[0m\u001b[1;33m\u001b[0m\u001b[1;33m\u001b[0m\u001b[0m\n\u001b[1;32m----> 4\u001b[1;33m \u001b[0mcm\u001b[0m\u001b[1;33m.\u001b[0m\u001b[0mregister_cmap\u001b[0m\u001b[1;33m(\u001b[0m\u001b[0mname\u001b[0m \u001b[1;33m=\u001b[0m \u001b[1;34m'custom1'\u001b[0m\u001b[1;33m,\u001b[0m\u001b[0mdata\u001b[0m \u001b[1;33m=\u001b[0m \u001b[0mcmap1\u001b[0m\u001b[1;33m,\u001b[0m \u001b[0mlut\u001b[0m \u001b[1;33m=\u001b[0m \u001b[1;36m128\u001b[0m\u001b[1;33m)\u001b[0m\u001b[1;33m\u001b[0m\u001b[1;33m\u001b[0m\u001b[0m\n\u001b[0m",
      "\u001b[1;31mTypeError\u001b[0m: register_cmap() got an unexpected keyword argument 'data'"
     ]
    }
   ],
   "source": [
    "import matplotlib.cm as cm\n",
    "from matplotlib.colors import ListedColormap\n",
    "cmap1 = ListedColormap([\"black\", \"grey\", \"white\", \"red\",\"blue\"])\n",
    "cm.register_cmap(name = 'custom1',data = cmap1, lut = 128)"
   ]
  },
  {
   "cell_type": "code",
   "execution_count": 103,
   "id": "2f92553e-d999-487e-a1ef-32bd0df132f1",
   "metadata": {},
   "outputs": [
    {
     "data": {
      "image/png": "[encoded data removed]",
      "text/plain": [
       "<Figure size 600x100 with 1 Axes>"
      ]
     },
     "metadata": {},
     "output_type": "display_data"
    }
   ],
   "source": [
    "show_cmap(cmap1)"
   ]
  },
  {
   "cell_type": "code",
   "execution_count": 130,
   "id": "fdfb3c70-5d89-45fe-9793-4cd4d58ee9c7",
   "metadata": {},
   "outputs": [
    {
     "data": {
      "text/plain": [
       "<matplotlib.image.AxesImage at 0x1994cd41fd0>"
      ]
     },
     "execution_count": 130,
     "metadata": {},
     "output_type": "execute_result"
    },
    {
     "data": {
      "image/png": "[encoded data removed]",
      "text/plain": [
       "<Figure size 640x480 with 1 Axes>"
      ]
     },
     "metadata": {},
     "output_type": "display_data"
    }
   ],
   "source": [
    "plt.imshow(gmt[6,150:250,150:250],cmap=cmap1)"
   ]
  },
  {
   "cell_type": "code",
   "execution_count": 113,
   "id": "10aa6b52-77b7-44cf-84ce-4626081d43fb",
   "metadata": {},
   "outputs": [
    {
     "data": {
      "text/plain": [
       "array([[[0, 0, 0, ..., 0, 0, 0],\n",
       "        [0, 0, 0, ..., 0, 0, 0],\n",
       "        [0, 0, 0, ..., 0, 0, 0],\n",
       "        ...,\n",
       "        [0, 0, 0, ..., 0, 0, 0],\n",
       "        [0, 0, 0, ..., 0, 0, 0],\n",
       "        [0, 0, 0, ..., 0, 0, 0]],\n",
       "\n",
       "       [[0, 0, 0, ..., 0, 0, 0],\n",
       "        [0, 0, 0, ..., 0, 0, 0],\n",
       "        [0, 0, 0, ..., 0, 0, 0],\n",
       "        ...,\n",
       "        [0, 0, 0, ..., 0, 0, 0],\n",
       "        [0, 0, 0, ..., 0, 0, 0],\n",
       "        [0, 0, 0, ..., 0, 0, 0]],\n",
       "\n",
       "       [[0, 0, 0, ..., 0, 0, 0],\n",
       "        [0, 0, 0, ..., 0, 0, 0],\n",
       "        [0, 0, 0, ..., 0, 0, 0],\n",
       "        ...,\n",
       "        [0, 0, 0, ..., 0, 0, 0],\n",
       "        [0, 0, 0, ..., 0, 0, 0],\n",
       "        [0, 0, 0, ..., 0, 0, 0]],\n",
       "\n",
       "       ...,\n",
       "\n",
       "       [[0, 0, 0, ..., 0, 0, 0],\n",
       "        [0, 0, 0, ..., 0, 0, 0],\n",
       "        [0, 0, 0, ..., 0, 0, 0],\n",
       "        ...,\n",
       "        [0, 0, 0, ..., 0, 0, 0],\n",
       "        [0, 0, 0, ..., 0, 0, 0],\n",
       "        [0, 0, 0, ..., 0, 0, 0]],\n",
       "\n",
       "       [[0, 0, 0, ..., 0, 0, 0],\n",
       "        [0, 0, 0, ..., 0, 0, 0],\n",
       "        [0, 0, 0, ..., 0, 0, 0],\n",
       "        ...,\n",
       "        [0, 0, 0, ..., 0, 0, 0],\n",
       "        [0, 0, 0, ..., 0, 0, 0],\n",
       "        [0, 0, 0, ..., 0, 0, 0]],\n",
       "\n",
       "       [[0, 0, 0, ..., 0, 0, 0],\n",
       "        [0, 0, 0, ..., 0, 0, 0],\n",
       "        [0, 0, 0, ..., 0, 0, 0],\n",
       "        ...,\n",
       "        [0, 0, 0, ..., 0, 0, 0],\n",
       "        [0, 0, 0, ..., 0, 0, 0],\n",
       "        [0, 0, 0, ..., 0, 0, 0]]], dtype=int16)"
      ]
     },
     "execution_count": 113,
     "metadata": {},
     "output_type": "execute_result"
    }
   ],
   "source": [
    "gm"
   ]
  },
  {
   "cell_type": "code",
   "execution_count": 133,
   "id": "ca16ca38-89c5-45ba-b769-bbe09cda2578",
   "metadata": {},
   "outputs": [
    {
     "data": {
      "text/plain": [
       "(array([223, 224, 224, 224, 225, 225, 225, 225, 226, 226, 226, 227, 227,\n",
       "        227, 227, 227, 228, 228, 228, 228, 229, 229, 229, 229, 230, 230,\n",
       "        230, 230, 230, 230, 230, 230, 230, 231, 231, 231, 231, 231, 231,\n",
       "        231, 231, 231, 231, 231, 231, 231, 231, 232, 232, 232, 232, 232,\n",
       "        232, 232, 232, 232, 232, 233, 233, 233, 233, 233, 233, 233, 233,\n",
       "        233, 234], dtype=int64),\n",
       " array([228, 214, 215, 228, 214, 215, 227, 228, 215, 216, 227, 215, 216,\n",
       "        217, 226, 227, 216, 217, 226, 227, 217, 218, 225, 226, 216, 217,\n",
       "        218, 219, 221, 222, 224, 225, 226, 215, 216, 217, 218, 219, 220,\n",
       "        221, 222, 223, 224, 225, 226, 227, 228, 214, 215, 216, 217, 218,\n",
       "        225, 226, 227, 228, 229, 215, 216, 217, 218, 224, 225, 226, 227,\n",
       "        228, 227], dtype=int64))"
      ]
     },
     "execution_count": 133,
     "metadata": {},
     "output_type": "execute_result"
    }
   ],
   "source": [
    "np.where(gmwm[6]==2)"
   ]
  },
  {
   "cell_type": "code",
   "execution_count": 116,
   "id": "0679c25b-276d-4134-a539-bf981db97c26",
   "metadata": {},
   "outputs": [],
   "source": [
    "gmwm[0,100,400]=0"
   ]
  },
  {
   "cell_type": "code",
   "execution_count": 118,
   "id": "7d62cc4e-8035-4621-a361-d199981c8456",
   "metadata": {},
   "outputs": [],
   "source": [
    "gm_idx = np.where(gmwm[0]==2)"
   ]
  },
  {
   "cell_type": "code",
   "execution_count": 119,
   "id": "a9b24fb4-4b97-4d86-8440-9dcaf2f1213b",
   "metadata": {},
   "outputs": [
    {
     "data": {
      "text/plain": [
       "(array([202, 203, 203, 203, 204, 204, 204, 204, 205, 205, 205, 205, 205,\n",
       "        206, 206, 206, 206, 206, 207, 207, 207, 207, 207, 207, 208, 208,\n",
       "        208, 208, 208, 208, 209, 209, 209, 209, 209, 210, 210, 210, 210,\n",
       "        211, 211, 211, 211, 211, 211, 212, 212, 212, 212, 213, 213, 213],\n",
       "       dtype=int64),\n",
       " array([214, 214, 215, 229, 215, 216, 227, 228, 215, 216, 226, 227, 228,\n",
       "        216, 217, 225, 226, 227, 215, 216, 217, 218, 219, 227, 215, 216,\n",
       "        217, 225, 226, 227, 215, 216, 225, 226, 227, 215, 224, 226, 227,\n",
       "        215, 216, 217, 224, 225, 226, 215, 216, 218, 226, 215, 216, 226],\n",
       "       dtype=int64))"
      ]
     },
     "execution_count": 119,
     "metadata": {},
     "output_type": "execute_result"
    }
   ],
   "source": [
    "gm_idx"
   ]
  },
  {
   "cell_type": "code",
   "execution_count": 120,
   "id": "dfda589e-a8b1-4cf4-a3c2-413ea2359c50",
   "metadata": {},
   "outputs": [
    {
     "data": {
      "text/plain": [
       "array([202, 203, 203, 203, 204, 204, 204, 204, 205, 205, 205, 205, 205,\n",
       "       206, 206, 206, 206, 206, 207, 207, 207, 207, 207, 207, 208, 208,\n",
       "       208, 208, 208, 208, 209, 209, 209, 209, 209, 210, 210, 210, 210,\n",
       "       211, 211, 211, 211, 211, 211, 212, 212, 212, 212, 213, 213, 213],\n",
       "      dtype=int64)"
      ]
     },
     "execution_count": 120,
     "metadata": {},
     "output_type": "execute_result"
    }
   ],
   "source": [
    "gm_idx[0]"
   ]
  },
  {
   "cell_type": "code",
   "execution_count": 123,
   "id": "3a80ba4c-1100-4de4-94cf-045bcd82051a",
   "metadata": {},
   "outputs": [
    {
     "data": {
      "text/plain": [
       "202"
      ]
     },
     "execution_count": 123,
     "metadata": {},
     "output_type": "execute_result"
    }
   ],
   "source": [
    "min(gm_idx[0])"
   ]
  },
  {
   "cell_type": "code",
   "execution_count": 124,
   "id": "145b7ab2-a198-444b-86e2-1d1dfe8e6f1b",
   "metadata": {},
   "outputs": [
    {
     "data": {
      "text/plain": [
       "214"
      ]
     },
     "execution_count": 124,
     "metadata": {},
     "output_type": "execute_result"
    }
   ],
   "source": [
    "gm_idx(gm_idx[0]=)"
   ]
  },
  {
   "cell_type": "code",
   "execution_count": 122,
   "id": "d1a5ec0d-8cb9-43e7-adb9-e1f77e8d827e",
   "metadata": {},
   "outputs": [
    {
     "name": "stdout",
     "output_type": "stream",
     "text": [
      "[[0 0 0 ... 0 0 0]\n",
      " [0 0 0 ... 0 0 0]\n",
      " [0 0 0 ... 0 0 0]\n",
      " ...\n",
      " [0 0 0 ... 0 0 0]\n",
      " [0 0 0 ... 0 0 0]\n",
      " [0 0 0 ... 0 0 0]]\n",
      "[[0 0 0 ... 0 0 0]\n",
      " [0 0 0 ... 0 0 0]\n",
      " [0 0 0 ... 0 0 0]\n",
      " ...\n",
      " [0 0 0 ... 0 0 0]\n",
      " [0 0 0 ... 0 0 0]\n",
      " [0 0 0 ... 0 0 0]]\n",
      "[[0 0 0 ... 0 0 0]\n",
      " [0 0 0 ... 0 0 0]\n",
      " [0 0 0 ... 0 0 0]\n",
      " ...\n",
      " [0 0 0 ... 0 0 0]\n",
      " [0 0 0 ... 0 0 0]\n",
      " [0 0 0 ... 0 0 0]]\n",
      "[[0 0 0 ... 0 0 0]\n",
      " [0 0 0 ... 0 0 0]\n",
      " [0 0 0 ... 0 0 0]\n",
      " ...\n",
      " [0 0 0 ... 0 0 0]\n",
      " [0 0 0 ... 0 0 0]\n",
      " [0 0 0 ... 0 0 0]]\n",
      "[[0 0 0 ... 0 0 0]\n",
      " [0 0 0 ... 0 0 0]\n",
      " [0 0 0 ... 0 0 0]\n",
      " ...\n",
      " [0 0 0 ... 0 0 0]\n",
      " [0 0 0 ... 0 0 0]\n",
      " [0 0 0 ... 0 0 0]]\n",
      "[[0 0 0 ... 0 0 0]\n",
      " [0 0 0 ... 0 0 0]\n",
      " [0 0 0 ... 0 0 0]\n",
      " ...\n",
      " [0 0 0 ... 0 0 0]\n",
      " [0 0 0 ... 0 0 0]\n",
      " [0 0 0 ... 0 0 0]]\n",
      "[[0 0 0 ... 0 0 0]\n",
      " [0 0 0 ... 0 0 0]\n",
      " [0 0 0 ... 0 0 0]\n",
      " ...\n",
      " [0 0 0 ... 0 0 0]\n",
      " [0 0 0 ... 0 0 0]\n",
      " [0 0 0 ... 0 0 0]]\n",
      "[[0 0 0 ... 0 0 0]\n",
      " [0 0 0 ... 0 0 0]\n",
      " [0 0 0 ... 0 0 0]\n",
      " ...\n",
      " [0 0 0 ... 0 0 0]\n",
      " [0 0 0 ... 0 0 0]\n",
      " [0 0 0 ... 0 0 0]]\n",
      "[[0 0 0 ... 0 0 0]\n",
      " [0 0 0 ... 0 0 0]\n",
      " [0 0 0 ... 0 0 0]\n",
      " ...\n",
      " [0 0 0 ... 0 0 0]\n",
      " [0 0 0 ... 0 0 0]\n",
      " [0 0 0 ... 0 0 0]]\n",
      "[[0 0 0 ... 0 0 0]\n",
      " [0 0 0 ... 0 0 0]\n",
      " [0 0 0 ... 0 0 0]\n",
      " ...\n",
      " [0 0 0 ... 0 0 0]\n",
      " [0 0 0 ... 0 0 0]\n",
      " [0 0 0 ... 0 0 0]]\n",
      "[[0 0 0 ... 0 0 0]\n",
      " [0 0 0 ... 0 0 0]\n",
      " [0 0 0 ... 0 0 0]\n",
      " ...\n",
      " [0 0 0 ... 0 0 0]\n",
      " [0 0 0 ... 0 0 0]\n",
      " [0 0 0 ... 0 0 0]]\n",
      "[[0 0 0 ... 0 0 0]\n",
      " [0 0 0 ... 0 0 0]\n",
      " [0 0 0 ... 0 0 0]\n",
      " ...\n",
      " [0 0 0 ... 0 0 0]\n",
      " [0 0 0 ... 0 0 0]\n",
      " [0 0 0 ... 0 0 0]]\n",
      "[[0 0 0 ... 0 0 0]\n",
      " [0 0 0 ... 0 0 0]\n",
      " [0 0 0 ... 0 0 0]\n",
      " ...\n",
      " [0 0 0 ... 0 0 0]\n",
      " [0 0 0 ... 0 0 0]\n",
      " [0 0 0 ... 0 0 0]]\n",
      "[[0 0 0 ... 0 0 0]\n",
      " [0 0 0 ... 0 0 0]\n",
      " [0 0 0 ... 0 0 0]\n",
      " ...\n",
      " [0 0 0 ... 0 0 0]\n",
      " [0 0 0 ... 0 0 0]\n",
      " [0 0 0 ... 0 0 0]]\n",
      "[[0 0 0 ... 0 0 0]\n",
      " [0 0 0 ... 0 0 0]\n",
      " [0 0 0 ... 0 0 0]\n",
      " ...\n",
      " [0 0 0 ... 0 0 0]\n",
      " [0 0 0 ... 0 0 0]\n",
      " [0 0 0 ... 0 0 0]]\n"
     ]
    }
   ],
   "source": [
    "for i in gmwm:\n",
    "    print(i)"
   ]
  },
  {
   "cell_type": "code",
   "execution_count": null,
   "id": "46c79424-ecb0-41fb-9d8a-3e7f1f933b2d",
   "metadata": {},
   "outputs": [],
   "source": [
    "def find_DH_point(image):\n",
    "    # get gray matter points coordinate\n",
    "    for i in image:\n",
    "        gm_idx = np.where(i==2)\n",
    "    \n",
    "    # gray matter partition\n",
    "    # center_point_idx= [cx,cy]\n",
    "    # left_dorsal_area(l_DA):x<cx,y<cy\n",
    "    # right_dorsal_area(l_DA):x<cx,y>cy\n",
    "    l_DA_idx = np.where((gm_idx[0]<c_idx[0][0]) & (gm_idx[1]<c_idx[0][1]))\n",
    "    r_DA_idx = np.where((gm_idx[0]<c_idx[0][0]) & (gm_idx[1]>c_idx[0][1]))\n",
    "    \n",
    "    \n",
    "    # search DH point\n",
    "    # l_DA:max(y),min(x)\n",
    "    # r_DA:max(y),max(x)\n",
    "    \n",
    "    l_DH_py = max(gm_idx[1][l_DA_idx])\n",
    "    l_DH_x = \n",
    "    \n",
    "    r_DH_py = max(gm_idx[1][r_DA_idx])\n",
    "    \n",
    "    l_DH_point =[,]\n",
    "    r_DH_point =[,]\n",
    "    \n",
    "    \n",
    "    \n",
    "    return l_DH_point,r_DH_point\n",
    "    "
   ]
  },
  {
   "cell_type": "code",
   "execution_count": null,
   "id": "6e388709-d73d-4b4d-8a5e-2a38fa7ce283",
   "metadata": {},
   "outputs": [],
   "source": []
  },
  {
   "cell_type": "markdown",
   "id": "ac416ab6-dd75-457d-a470-3c90cd82928a",
   "metadata": {},
   "source": [
    "#### DH点算法探索”"
   ]
  },
  {
   "cell_type": "code",
   "execution_count": 134,
   "id": "fc1e256c-15f8-4d0b-8080-9171dd71ffe5",
   "metadata": {},
   "outputs": [],
   "source": [
    "gm_idx = np.where(gmwm[0]==2)"
   ]
  },
  {
   "cell_type": "code",
   "execution_count": 135,
   "id": "3aa6827a-5c0b-4207-9d23-dc64441d5b2b",
   "metadata": {},
   "outputs": [
    {
     "data": {
      "text/plain": [
       "(array([202, 203, 203, 203, 204, 204, 204, 204, 205, 205, 205, 205, 205,\n",
       "        206, 206, 206, 206, 206, 207, 207, 207, 207, 207, 207, 208, 208,\n",
       "        208, 208, 208, 208, 209, 209, 209, 209, 209, 210, 210, 210, 210,\n",
       "        211, 211, 211, 211, 211, 211, 212, 212, 212, 212, 213, 213, 213],\n",
       "       dtype=int64),\n",
       " array([214, 214, 215, 229, 215, 216, 227, 228, 215, 216, 226, 227, 228,\n",
       "        216, 217, 225, 226, 227, 215, 216, 217, 218, 219, 227, 215, 216,\n",
       "        217, 225, 226, 227, 215, 216, 225, 226, 227, 215, 224, 226, 227,\n",
       "        215, 216, 217, 224, 225, 226, 215, 216, 218, 226, 215, 216, 226],\n",
       "       dtype=int64))"
      ]
     },
     "execution_count": 135,
     "metadata": {},
     "output_type": "execute_result"
    }
   ],
   "source": [
    "gm_idx"
   ]
  },
  {
   "cell_type": "code",
   "execution_count": 136,
   "id": "7c280257-923d-4150-8175-d31294e1bdbf",
   "metadata": {},
   "outputs": [
    {
     "data": {
      "text/plain": [
       "202"
      ]
     },
     "execution_count": 136,
     "metadata": {},
     "output_type": "execute_result"
    }
   ],
   "source": [
    "# 左角\n",
    "min(gm_idx[0])"
   ]
  },
  {
   "cell_type": "code",
   "execution_count": 142,
   "id": "d12a61b0-28b5-4448-a2e3-dff5ff6b6f0d",
   "metadata": {},
   "outputs": [
    {
     "data": {
      "text/plain": [
       "(array([0], dtype=int64),)"
      ]
     },
     "execution_count": 142,
     "metadata": {},
     "output_type": "execute_result"
    }
   ],
   "source": [
    "np.where(gm_idx[0]==min(gm_idx[0]))"
   ]
  },
  {
   "cell_type": "code",
   "execution_count": 144,
   "id": "c2ed5bcf-a634-4915-84ab-8f2ae9d9fdc3",
   "metadata": {},
   "outputs": [],
   "source": [
    "c_idx = np.argwhere(gmwm[0]==3)"
   ]
  },
  {
   "cell_type": "code",
   "execution_count": 147,
   "id": "f88407d8-3ce2-4918-b98b-8a38a40604fc",
   "metadata": {},
   "outputs": [
    {
     "data": {
      "text/plain": [
       "208"
      ]
     },
     "execution_count": 147,
     "metadata": {},
     "output_type": "execute_result"
    }
   ],
   "source": [
    "c_idx[0][0]"
   ]
  },
  {
   "cell_type": "code",
   "execution_count": 152,
   "id": "c5c2fadd-4292-4a50-bd10-70bb20e64b94",
   "metadata": {},
   "outputs": [
    {
     "data": {
      "text/plain": [
       "(array([ 0,  1,  2,  3,  4,  5,  6,  7,  8,  9, 10, 11, 12, 13, 14, 15, 16,\n",
       "        17, 18, 19, 20, 21, 22, 23], dtype=int64),)"
      ]
     },
     "execution_count": 152,
     "metadata": {},
     "output_type": "execute_result"
    }
   ],
   "source": [
    "np.where((gm_idx[0]<c_idx[0][0]))"
   ]
  },
  {
   "cell_type": "code",
   "execution_count": 162,
   "id": "f8e81ff0-ad66-4e45-8538-cf44781a776e",
   "metadata": {},
   "outputs": [
    {
     "data": {
      "text/plain": [
       "(array([ 0,  1,  2,  4,  5,  8,  9, 13, 14, 18, 19, 20, 21, 22, 24, 25, 26,\n",
       "        30, 31, 35, 39, 40, 41, 45, 46, 47, 49, 50], dtype=int64),)"
      ]
     },
     "execution_count": 162,
     "metadata": {},
     "output_type": "execute_result"
    }
   ],
   "source": [
    "np.where(gm_idx[1]<c_idx[0][1])"
   ]
  },
  {
   "cell_type": "code",
   "execution_count": 163,
   "id": "23180896-3260-4cc1-b4c7-136fc8d9f681",
   "metadata": {},
   "outputs": [],
   "source": [
    "l_DA_idx = np.where((gm_idx[0]<c_idx[0][0]) & (gm_idx[1]<c_idx[0][1]))"
   ]
  },
  {
   "cell_type": "code",
   "execution_count": 164,
   "id": "cdaa2147-2937-400b-8dc8-e683bfc24df9",
   "metadata": {},
   "outputs": [
    {
     "data": {
      "text/plain": [
       "(array([ 0,  1,  2,  4,  5,  8,  9, 13, 14, 18, 19, 20, 21, 22],\n",
       "       dtype=int64),)"
      ]
     },
     "execution_count": 164,
     "metadata": {},
     "output_type": "execute_result"
    }
   ],
   "source": [
    "l_DA_idx"
   ]
  },
  {
   "cell_type": "code",
   "execution_count": 170,
   "id": "bddd54fc-5def-48ac-a198-df794586a9c7",
   "metadata": {},
   "outputs": [
    {
     "data": {
      "text/plain": [
       "219"
      ]
     },
     "execution_count": 170,
     "metadata": {},
     "output_type": "execute_result"
    }
   ],
   "source": [
    "max(gm_idx[1][l_DA_idx])"
   ]
  },
  {
   "cell_type": "code",
   "execution_count": null,
   "id": "232a63c7-ce2f-44c7-a53c-2813d64e06d0",
   "metadata": {},
   "outputs": [],
   "source": []
  },
  {
   "cell_type": "code",
   "execution_count": null,
   "id": "eacb2087-f13a-4cca-a43a-e67f1ed7941f",
   "metadata": {},
   "outputs": [],
   "source": []
  },
  {
   "cell_type": "code",
   "execution_count": null,
   "id": "337b610f-0ab8-44e6-b0c9-c61c45a84faa",
   "metadata": {},
   "outputs": [],
   "source": []
  },
  {
   "cell_type": "code",
   "execution_count": null,
   "id": "d7c21d78-19af-41b7-8a75-d279c144dd3c",
   "metadata": {},
   "outputs": [],
   "source": []
  },
  {
   "cell_type": "code",
   "execution_count": null,
   "id": "691ad975-3011-4b73-bff6-3b851f5e3eb0",
   "metadata": {},
   "outputs": [],
   "source": []
  },
  {
   "cell_type": "code",
   "execution_count": 167,
   "id": "10ea9bca-0248-4200-98f2-63206a794077",
   "metadata": {},
   "outputs": [
    {
     "data": {
      "text/plain": [
       "(array([202, 203, 203, 203, 204, 204, 204, 204, 205, 205, 205, 205, 205,\n",
       "        206, 206, 206, 206, 206, 207, 207, 207, 207, 207, 207, 208, 208,\n",
       "        208, 208, 208, 208, 209, 209, 209, 209, 209, 210, 210, 210, 210,\n",
       "        211, 211, 211, 211, 211, 211, 212, 212, 212, 212, 213, 213, 213],\n",
       "       dtype=int64),\n",
       " array([214, 214, 215, 229, 215, 216, 227, 228, 215, 216, 226, 227, 228,\n",
       "        216, 217, 225, 226, 227, 215, 216, 217, 218, 219, 227, 215, 216,\n",
       "        217, 225, 226, 227, 215, 216, 225, 226, 227, 215, 224, 226, 227,\n",
       "        215, 216, 217, 224, 225, 226, 215, 216, 218, 226, 215, 216, 226],\n",
       "       dtype=int64))"
      ]
     },
     "execution_count": 167,
     "metadata": {},
     "output_type": "execute_result"
    }
   ],
   "source": [
    "gm_idx"
   ]
  },
  {
   "cell_type": "code",
   "execution_count": 153,
   "id": "ecb948df-79c1-432c-866a-ec5aeaf52a9f",
   "metadata": {},
   "outputs": [
    {
     "data": {
      "text/plain": [
       "(array([ 3,  6,  7, 10, 11, 12, 15, 16, 17, 23], dtype=int64),)"
      ]
     },
     "execution_count": 153,
     "metadata": {},
     "output_type": "execute_result"
    }
   ],
   "source": [
    "np.where((gm_idx[0]<c_idx[0][0]) & (gm_idx[1]>c_idx[0][1]))"
   ]
  },
  {
   "cell_type": "code",
   "execution_count": 149,
   "id": "8698908d-f205-4d07-9744-e3f10e110cfc",
   "metadata": {},
   "outputs": [
    {
     "data": {
      "text/plain": [
       "array([ True,  True,  True,  True,  True,  True,  True,  True,  True,\n",
       "        True,  True,  True,  True,  True,  True,  True,  True,  True,\n",
       "        True,  True,  True,  True,  True,  True, False, False, False,\n",
       "       False, False, False, False, False, False, False, False, False,\n",
       "       False, False, False, False, False, False, False, False, False,\n",
       "       False, False, False, False, False, False, False])"
      ]
     },
     "execution_count": 149,
     "metadata": {},
     "output_type": "execute_result"
    }
   ],
   "source": [
    "gm_idx[0]<c_idx[0][0]"
   ]
  },
  {
   "cell_type": "code",
   "execution_count": 171,
   "id": "3b1fd954-a7bc-4b77-8158-72a44dcf572e",
   "metadata": {},
   "outputs": [
    {
     "ename": "AttributeError",
     "evalue": "'numpy.ndarray' object has no attribute 'GetDirection'",
     "output_type": "error",
     "traceback": [
      "\u001b[1;31m---------------------------------------------------------------------------\u001b[0m",
      "\u001b[1;31mAttributeError\u001b[0m                            Traceback (most recent call last)",
      "\u001b[1;32m~\\AppData\\Local\\Temp\\ipykernel_29160\\2935713123.py\u001b[0m in \u001b[0;36m<module>\u001b[1;34m\u001b[0m\n\u001b[1;32m----> 1\u001b[1;33m \u001b[0mgm\u001b[0m\u001b[1;33m.\u001b[0m\u001b[0mGetDirection\u001b[0m\u001b[1;33m(\u001b[0m\u001b[1;33m)\u001b[0m\u001b[1;33m\u001b[0m\u001b[1;33m\u001b[0m\u001b[0m\n\u001b[0m",
      "\u001b[1;31mAttributeError\u001b[0m: 'numpy.ndarray' object has no attribute 'GetDirection'"
     ]
    }
   ],
   "source": [
    "gm.GetDirection()"
   ]
  },
  {
   "cell_type": "code",
   "execution_count": 172,
   "id": "1f19f094-5203-4919-b8f9-56acfed884c7",
   "metadata": {},
   "outputs": [
    {
     "data": {
      "text/plain": [
       "array([[[0, 0, 0, ..., 0, 0, 0],\n",
       "        [0, 0, 0, ..., 0, 0, 0],\n",
       "        [0, 0, 0, ..., 0, 0, 0],\n",
       "        ...,\n",
       "        [0, 0, 0, ..., 0, 0, 0],\n",
       "        [0, 0, 0, ..., 0, 0, 0],\n",
       "        [0, 0, 0, ..., 0, 0, 0]],\n",
       "\n",
       "       [[0, 0, 0, ..., 0, 0, 0],\n",
       "        [0, 0, 0, ..., 0, 0, 0],\n",
       "        [0, 0, 0, ..., 0, 0, 0],\n",
       "        ...,\n",
       "        [0, 0, 0, ..., 0, 0, 0],\n",
       "        [0, 0, 0, ..., 0, 0, 0],\n",
       "        [0, 0, 0, ..., 0, 0, 0]],\n",
       "\n",
       "       [[0, 0, 0, ..., 0, 0, 0],\n",
       "        [0, 0, 0, ..., 0, 0, 0],\n",
       "        [0, 0, 0, ..., 0, 0, 0],\n",
       "        ...,\n",
       "        [0, 0, 0, ..., 0, 0, 0],\n",
       "        [0, 0, 0, ..., 0, 0, 0],\n",
       "        [0, 0, 0, ..., 0, 0, 0]],\n",
       "\n",
       "       ...,\n",
       "\n",
       "       [[0, 0, 0, ..., 0, 0, 0],\n",
       "        [0, 0, 0, ..., 0, 0, 0],\n",
       "        [0, 0, 0, ..., 0, 0, 0],\n",
       "        ...,\n",
       "        [0, 0, 0, ..., 0, 0, 0],\n",
       "        [0, 0, 0, ..., 0, 0, 0],\n",
       "        [0, 0, 0, ..., 0, 0, 0]],\n",
       "\n",
       "       [[0, 0, 0, ..., 0, 0, 0],\n",
       "        [0, 0, 0, ..., 0, 0, 0],\n",
       "        [0, 0, 0, ..., 0, 0, 0],\n",
       "        ...,\n",
       "        [0, 0, 0, ..., 0, 0, 0],\n",
       "        [0, 0, 0, ..., 0, 0, 0],\n",
       "        [0, 0, 0, ..., 0, 0, 0]],\n",
       "\n",
       "       [[0, 0, 0, ..., 0, 0, 0],\n",
       "        [0, 0, 0, ..., 0, 0, 0],\n",
       "        [0, 0, 0, ..., 0, 0, 0],\n",
       "        ...,\n",
       "        [0, 0, 0, ..., 0, 0, 0],\n",
       "        [0, 0, 0, ..., 0, 0, 0],\n",
       "        [0, 0, 0, ..., 0, 0, 0]]], dtype=int16)"
      ]
     },
     "execution_count": 172,
     "metadata": {},
     "output_type": "execute_result"
    }
   ],
   "source": [
    "gm"
   ]
  },
  {
   "cell_type": "code",
   "execution_count": 173,
   "id": "53d544c2-198f-420b-ae70-6b1f1cb625a9",
   "metadata": {},
   "outputs": [
    {
     "data": {
      "text/plain": [
       "array([[[0, 0, 0, ..., 0, 0, 0],\n",
       "        [0, 0, 0, ..., 0, 0, 0],\n",
       "        [0, 0, 0, ..., 0, 0, 0],\n",
       "        ...,\n",
       "        [0, 0, 0, ..., 0, 0, 0],\n",
       "        [0, 0, 0, ..., 0, 0, 0],\n",
       "        [0, 0, 0, ..., 0, 0, 0]],\n",
       "\n",
       "       [[0, 0, 0, ..., 0, 0, 0],\n",
       "        [0, 0, 0, ..., 0, 0, 0],\n",
       "        [0, 0, 0, ..., 0, 0, 0],\n",
       "        ...,\n",
       "        [0, 0, 0, ..., 0, 0, 0],\n",
       "        [0, 0, 0, ..., 0, 0, 0],\n",
       "        [0, 0, 0, ..., 0, 0, 0]],\n",
       "\n",
       "       [[0, 0, 0, ..., 0, 0, 0],\n",
       "        [0, 0, 0, ..., 0, 0, 0],\n",
       "        [0, 0, 0, ..., 0, 0, 0],\n",
       "        ...,\n",
       "        [0, 0, 0, ..., 0, 0, 0],\n",
       "        [0, 0, 0, ..., 0, 0, 0],\n",
       "        [0, 0, 0, ..., 0, 0, 0]],\n",
       "\n",
       "       ...,\n",
       "\n",
       "       [[0, 0, 0, ..., 0, 0, 0],\n",
       "        [0, 0, 0, ..., 0, 0, 0],\n",
       "        [0, 0, 0, ..., 0, 0, 0],\n",
       "        ...,\n",
       "        [0, 0, 0, ..., 0, 0, 0],\n",
       "        [0, 0, 0, ..., 0, 0, 0],\n",
       "        [0, 0, 0, ..., 0, 0, 0]],\n",
       "\n",
       "       [[0, 0, 0, ..., 0, 0, 0],\n",
       "        [0, 0, 0, ..., 0, 0, 0],\n",
       "        [0, 0, 0, ..., 0, 0, 0],\n",
       "        ...,\n",
       "        [0, 0, 0, ..., 0, 0, 0],\n",
       "        [0, 0, 0, ..., 0, 0, 0],\n",
       "        [0, 0, 0, ..., 0, 0, 0]],\n",
       "\n",
       "       [[0, 0, 0, ..., 0, 0, 0],\n",
       "        [0, 0, 0, ..., 0, 0, 0],\n",
       "        [0, 0, 0, ..., 0, 0, 0],\n",
       "        ...,\n",
       "        [0, 0, 0, ..., 0, 0, 0],\n",
       "        [0, 0, 0, ..., 0, 0, 0],\n",
       "        [0, 0, 0, ..., 0, 0, 0]]], dtype=int16)"
      ]
     },
     "execution_count": 173,
     "metadata": {},
     "output_type": "execute_result"
    }
   ],
   "source": [
    "gmwm"
   ]
  },
  {
   "cell_type": "code",
   "execution_count": 175,
   "id": "2e365055-c5db-4231-8d16-2d775e8cc076",
   "metadata": {},
   "outputs": [],
   "source": [
    "origin = sitk.ReadImage(r\"E:\\Imaging\\spine generic\\sub-amu02\\anat\\sub-amu02_T2star.nii.gz\")"
   ]
  },
  {
   "cell_type": "code",
   "execution_count": 176,
   "id": "d90daba7-6d92-413d-9dd1-bd9f20984c1f",
   "metadata": {},
   "outputs": [
    {
     "data": {
      "text/plain": [
       "(1.0,\n",
       " 1.9999999973562167e-16,\n",
       " -5.4791843842204435e-17,\n",
       " 2.000000033724767e-16,\n",
       " -0.9617413107508722,\n",
       " 0.2739592094650277,\n",
       " 0.0,\n",
       " 0.27395921447396926,\n",
       " 0.9617413121777068)"
      ]
     },
     "execution_count": 176,
     "metadata": {},
     "output_type": "execute_result"
    }
   ],
   "source": [
    "origin.GetDirection()"
   ]
  },
  {
   "cell_type": "code",
   "execution_count": 181,
   "id": "cfdf1e30-55ad-4c22-8e25-336b0da177f3",
   "metadata": {},
   "outputs": [
    {
     "ename": "AttributeError",
     "evalue": "'tuple' object has no attribute 'GetSpacing'",
     "output_type": "error",
     "traceback": [
      "\u001b[1;31m---------------------------------------------------------------------------\u001b[0m",
      "\u001b[1;31mAttributeError\u001b[0m                            Traceback (most recent call last)",
      "\u001b[1;32m~\\AppData\\Local\\Temp\\ipykernel_29160\\2527834330.py\u001b[0m in \u001b[0;36m<module>\u001b[1;34m\u001b[0m\n\u001b[1;32m----> 1\u001b[1;33m \u001b[0morigin\u001b[0m\u001b[1;33m.\u001b[0m\u001b[0mGetSpacing\u001b[0m\u001b[1;33m(\u001b[0m\u001b[1;33m)\u001b[0m\u001b[1;33m\u001b[0m\u001b[1;33m\u001b[0m\u001b[0m\n\u001b[0m",
      "\u001b[1;31mAttributeError\u001b[0m: 'tuple' object has no attribute 'GetSpacing'"
     ]
    }
   ],
   "source": [
    "origin.GetSpacing()"
   ]
  },
  {
   "cell_type": "code",
   "execution_count": 179,
   "id": "7525933f-0edb-4751-94ce-2d30ec23c9a4",
   "metadata": {},
   "outputs": [
    {
     "data": {
      "text/plain": [
       "(-111.7138442993164, 96.15943145751953, -108.85626983642578)"
      ]
     },
     "execution_count": 179,
     "metadata": {},
     "output_type": "execute_result"
    }
   ],
   "source": [
    "origin.GetOrigin()"
   ]
  },
  {
   "cell_type": "code",
   "execution_count": 3,
   "id": "559ca91b-ddb7-4729-83f7-068f7233fb60",
   "metadata": {},
   "outputs": [],
   "source": [
    "# 边界提取\n",
    "import os\n",
    "\n",
    "raw = sitk.ReadImage(r\"E:\\Imaging\\spine generic\\sub-amu02\\anat\\sub-amu02_T2star.nii.gz\")\n",
    "origin = raw.GetOrigin()\n",
    "spacing = raw.GetSpacing()\n",
    "direction = raw.GetDirection()"
   ]
  },
  {
   "cell_type": "code",
   "execution_count": 184,
   "id": "1b654fbb-9183-46e8-8632-6ab355d7236c",
   "metadata": {},
   "outputs": [
    {
     "ename": "TypeError",
     "evalue": "in method 'Cast', argument 1 of type 'itk::simple::Image const &'",
     "output_type": "error",
     "traceback": [
      "\u001b[1;31m---------------------------------------------------------------------------\u001b[0m",
      "\u001b[1;31mTypeError\u001b[0m                                 Traceback (most recent call last)",
      "\u001b[1;32m~\\AppData\\Local\\Temp\\ipykernel_29160\\2171096452.py\u001b[0m in \u001b[0;36m<module>\u001b[1;34m\u001b[0m\n\u001b[0;32m      1\u001b[0m \u001b[1;31m# change data type before edge detection\u001b[0m\u001b[1;33m\u001b[0m\u001b[1;33m\u001b[0m\u001b[0m\n\u001b[1;32m----> 2\u001b[1;33m \u001b[0mdata_float_nii\u001b[0m \u001b[1;33m=\u001b[0m \u001b[0msitk\u001b[0m\u001b[1;33m.\u001b[0m\u001b[0mCast\u001b[0m\u001b[1;33m(\u001b[0m\u001b[0mgmwm\u001b[0m\u001b[1;33m,\u001b[0m \u001b[0msitk\u001b[0m\u001b[1;33m.\u001b[0m\u001b[0msitkFloat32\u001b[0m\u001b[1;33m)\u001b[0m\u001b[1;33m\u001b[0m\u001b[1;33m\u001b[0m\u001b[0m\n\u001b[0m",
      "\u001b[1;32mD:\\anaconda3\\lib\\site-packages\\SimpleITK\\SimpleITK.py\u001b[0m in \u001b[0;36mCast\u001b[1;34m(image, pixelID)\u001b[0m\n\u001b[0;32m   9746\u001b[0m \u001b[1;33m\u001b[0m\u001b[0m\n\u001b[0;32m   9747\u001b[0m     \"\"\"\n\u001b[1;32m-> 9748\u001b[1;33m     \u001b[1;32mreturn\u001b[0m \u001b[0m_SimpleITK\u001b[0m\u001b[1;33m.\u001b[0m\u001b[0mCast\u001b[0m\u001b[1;33m(\u001b[0m\u001b[0mimage\u001b[0m\u001b[1;33m,\u001b[0m \u001b[0mpixelID\u001b[0m\u001b[1;33m)\u001b[0m\u001b[1;33m\u001b[0m\u001b[1;33m\u001b[0m\u001b[0m\n\u001b[0m\u001b[0;32m   9749\u001b[0m \u001b[1;32mclass\u001b[0m \u001b[0mExtractImageFilter\u001b[0m\u001b[1;33m(\u001b[0m\u001b[0mImageFilter\u001b[0m\u001b[1;33m)\u001b[0m\u001b[1;33m:\u001b[0m\u001b[1;33m\u001b[0m\u001b[1;33m\u001b[0m\u001b[0m\n\u001b[0;32m   9750\u001b[0m     r\"\"\"\n",
      "\u001b[1;31mTypeError\u001b[0m: in method 'Cast', argument 1 of type 'itk::simple::Image const &'"
     ]
    }
   ],
   "source": [
    "# change data type before edge detection\n",
    "gmwm_float_nii = sitk.Cast(gmwm, sitk.sitkFloat32)"
   ]
  },
  {
   "cell_type": "code",
   "execution_count": 4,
   "id": "0c7e8841-ede2-462c-8767-a523b0a43c80",
   "metadata": {},
   "outputs": [],
   "source": [
    "# 边界提取\n",
    "import os\n",
    "\n",
    "raw = sitk.ReadImage(r\"E:\\Imaging\\spine generic\\sub-amu02\\anat\\sub-amu02_T2star.nii.gz\")\n",
    "\n",
    "origin = raw.GetOrigin()\n",
    "spacing = raw.GetSpacing()\n",
    "direction = raw.GetDirection()\n",
    "\n",
    "# change data type before edge detection\n",
    "raw_float_nii = sitk.Cast(raw, sitk.sitkFloat32)\n",
    "\n",
    "\n",
    "canny_op = sitk.CannyEdgeDetectionImageFilter()\n",
    "canny_op.SetLowerThreshold(100)\n",
    "canny_op.SetUpperThreshold(200)\n",
    "canny_op.SetVariance(1)\n",
    "canny_op.SetMaximumError(0.5)\n",
    "canny_sitk = canny_op.Execute(raw_float_nii)\n",
    "canny_sitk = sitk.Cast(canny_sitk, sitk.sitkInt16)\n",
    "\n",
    "\n",
    "canny_sitk.SetOrigin(origin)\n",
    "canny_sitk.SetSpacing(spacing)\n",
    "canny_sitk.SetDirection(direction)\n",
    "# sitk.WriteImage(canny_sitk, 'canny_edge.nii.gz')"
   ]
  },
  {
   "cell_type": "code",
   "execution_count": 6,
   "id": "6ce9686c-87ed-4e0b-bd0a-9b348ed636c0",
   "metadata": {},
   "outputs": [],
   "source": [
    "sitk.Show(canny_sitk, title = 'edge extract')"
   ]
  },
  {
   "cell_type": "code",
   "execution_count": 205,
   "id": "c5cf783e-e98a-4286-98dc-6a0d7088f32c",
   "metadata": {},
   "outputs": [
    {
     "data": {
      "text/plain": [
       "<SimpleITK.SimpleITK.Image; proxy of <Swig Object of type 'std::vector< itk::simple::Image >::value_type *' at 0x0000019951004690> >"
      ]
     },
     "execution_count": 205,
     "metadata": {},
     "output_type": "execute_result"
    }
   ],
   "source": [
    "raw_float_nii"
   ]
  },
  {
   "cell_type": "code",
   "execution_count": 211,
   "id": "6805bc1b-1c1e-4834-a454-d4b9aea34ddd",
   "metadata": {},
   "outputs": [
    {
     "data": {
      "text/plain": [
       "15"
      ]
     },
     "execution_count": 211,
     "metadata": {},
     "output_type": "execute_result"
    }
   ],
   "source": [
    "canny_sitk.GetDepth()"
   ]
  },
  {
   "cell_type": "code",
   "execution_count": 26,
   "id": "4fa1cd14-8692-4f37-a7d3-75e0db5619af",
   "metadata": {},
   "outputs": [
    {
     "ename": "TypeError",
     "evalue": "show() got an unexpected keyword argument 'cmap'",
     "output_type": "error",
     "traceback": [
      "\u001b[1;31m---------------------------------------------------------------------------\u001b[0m",
      "\u001b[1;31mTypeError\u001b[0m                                 Traceback (most recent call last)",
      "\u001b[1;32m~\\AppData\\Local\\Temp\\ipykernel_77364\\3716707113.py\u001b[0m in \u001b[0;36m<module>\u001b[1;34m\u001b[0m\n\u001b[0;32m      4\u001b[0m \u001b[1;33m\u001b[0m\u001b[0m\n\u001b[0;32m      5\u001b[0m \u001b[1;31m# Three plots displaying the same data, how do we deal with the high dynamic range?\u001b[0m\u001b[1;33m\u001b[0m\u001b[1;33m\u001b[0m\u001b[0m\n\u001b[1;32m----> 6\u001b[1;33m \u001b[0mplt\u001b[0m\u001b[1;33m.\u001b[0m\u001b[0mshow\u001b[0m\u001b[1;33m(\u001b[0m\u001b[0mnpa_zslice\u001b[0m\u001b[1;33m,\u001b[0m\u001b[0mcmap\u001b[0m\u001b[1;33m=\u001b[0m\u001b[0mplt\u001b[0m\u001b[1;33m.\u001b[0m\u001b[0mcm\u001b[0m\u001b[1;33m.\u001b[0m\u001b[0mGreys_r\u001b[0m\u001b[1;33m)\u001b[0m\u001b[1;33m\u001b[0m\u001b[1;33m\u001b[0m\u001b[0m\n\u001b[0m\u001b[0;32m      7\u001b[0m \u001b[1;33m\u001b[0m\u001b[0m\n",
      "\u001b[1;32mD:\\anaconda3\\lib\\site-packages\\matplotlib\\pyplot.py\u001b[0m in \u001b[0;36mshow\u001b[1;34m(*args, **kwargs)\u001b[0m\n\u001b[0;32m    387\u001b[0m     \"\"\"\n\u001b[0;32m    388\u001b[0m     \u001b[0m_warn_if_gui_out_of_main_thread\u001b[0m\u001b[1;33m(\u001b[0m\u001b[1;33m)\u001b[0m\u001b[1;33m\u001b[0m\u001b[1;33m\u001b[0m\u001b[0m\n\u001b[1;32m--> 389\u001b[1;33m     \u001b[1;32mreturn\u001b[0m \u001b[0m_get_backend_mod\u001b[0m\u001b[1;33m(\u001b[0m\u001b[1;33m)\u001b[0m\u001b[1;33m.\u001b[0m\u001b[0mshow\u001b[0m\u001b[1;33m(\u001b[0m\u001b[1;33m*\u001b[0m\u001b[0margs\u001b[0m\u001b[1;33m,\u001b[0m \u001b[1;33m**\u001b[0m\u001b[0mkwargs\u001b[0m\u001b[1;33m)\u001b[0m\u001b[1;33m\u001b[0m\u001b[1;33m\u001b[0m\u001b[0m\n\u001b[0m\u001b[0;32m    390\u001b[0m \u001b[1;33m\u001b[0m\u001b[0m\n\u001b[0;32m    391\u001b[0m \u001b[1;33m\u001b[0m\u001b[0m\n",
      "\u001b[1;31mTypeError\u001b[0m: show() got an unexpected keyword argument 'cmap'"
     ]
    }
   ],
   "source": [
    "# Display the image slice from the middle of the stack, z axis\n",
    "z = int(canny_sitk.GetDepth()/2)\n",
    "npa_zslice = sitk.GetArrayViewFromImage(canny_sitk)[z,:,:]\n",
    "\n",
    "# Three plots displaying the same data, how do we deal with the high dynamic range?\n",
    "plt.show(npa_zslice,cmap=plt.cm.Greys_r)\n",
    "\n"
   ]
  },
  {
   "cell_type": "code",
   "execution_count": 7,
   "id": "fde58561-c4d0-474b-84a3-6710648f7b48",
   "metadata": {},
   "outputs": [
    {
     "ename": "NameError",
     "evalue": "name 'pathgm' is not defined",
     "output_type": "error",
     "traceback": [
      "\u001b[1;31m---------------------------------------------------------------------------\u001b[0m",
      "\u001b[1;31mNameError\u001b[0m                                 Traceback (most recent call last)",
      "\u001b[1;32m~\\AppData\\Local\\Temp\\ipykernel_77364\\1591801594.py\u001b[0m in \u001b[0;36m<module>\u001b[1;34m\u001b[0m\n\u001b[1;32m----> 1\u001b[1;33m \u001b[0mgm\u001b[0m \u001b[1;33m=\u001b[0m \u001b[0msitk\u001b[0m\u001b[1;33m.\u001b[0m\u001b[0mReadImage\u001b[0m\u001b[1;33m(\u001b[0m\u001b[0mpathgm\u001b[0m\u001b[1;33m)\u001b[0m\u001b[1;33m\u001b[0m\u001b[1;33m\u001b[0m\u001b[0m\n\u001b[0m",
      "\u001b[1;31mNameError\u001b[0m: name 'pathgm' is not defined"
     ]
    }
   ],
   "source": [
    "gm = sitk.ReadImage(pathgm)\n"
   ]
  },
  {
   "cell_type": "code",
   "execution_count": 13,
   "id": "017c88c8-4079-41f4-8fe4-91006bebd973",
   "metadata": {},
   "outputs": [],
   "source": [
    "# 边界提取\n",
    "import os\n",
    "\n",
    "\n",
    "\n",
    "origin = gmwm.GetOrigin()\n",
    "spacing = gmwm.GetSpacing()\n",
    "direction = gmwm.GetDirection()\n",
    "\n",
    "# change data type before edge detection\n",
    "gmwm_float_nii = sitk.Cast(gmwm, sitk.sitkFloat32)\n",
    "\n",
    "\n",
    "canny_op = sitk.CannyEdgeDetectionImageFilter()\n",
    "canny_op.SetLowerThreshold(0)\n",
    "canny_op.SetUpperThreshold(0.5)\n",
    "canny_op.SetVariance(0.1)\n",
    "canny_op.SetMaximumError(0.1)\n",
    "canny_sitk = canny_op.Execute(gmwm_float_nii)\n",
    "canny_sitk = sitk.Cast(canny_sitk, sitk.sitkInt16)\n",
    "\n",
    "\n",
    "canny_sitk.SetOrigin(origin)\n",
    "canny_sitk.SetSpacing(spacing)\n",
    "canny_sitk.SetDirection(direction)\n",
    "# sitk.WriteImage(canny_sitk, 'canny_edge.nii.gz')\n"
   ]
  },
  {
   "cell_type": "code",
   "execution_count": 9,
   "id": "34100818-e552-4466-8751-4d23bd9110d5",
   "metadata": {},
   "outputs": [],
   "source": [
    "origin = gmwm.GetOrigin()"
   ]
  },
  {
   "cell_type": "code",
   "execution_count": 27,
   "id": "2cf18beb-f08e-4de9-bb0c-aab4381b4b85",
   "metadata": {},
   "outputs": [],
   "source": [
    "sitk.Show(canny_sitk, title = 'edge extract')"
   ]
  },
  {
   "cell_type": "code",
   "execution_count": 16,
   "id": "e84e4a89-e9ab-4bb1-bea4-7f24c1ab775a",
   "metadata": {},
   "outputs": [
    {
     "data": {
      "text/plain": [
       "<SimpleITK.SimpleITK.Image; proxy of <Swig Object of type 'std::vector< itk::simple::Image >::value_type *' at 0x0000021EE03F81B0> >"
      ]
     },
     "execution_count": 16,
     "metadata": {},
     "output_type": "execute_result"
    }
   ],
   "source": [
    "canny_sitk"
   ]
  },
  {
   "cell_type": "code",
   "execution_count": 19,
   "id": "33b8ce34-2568-4697-8ff9-9141c863ea02",
   "metadata": {},
   "outputs": [],
   "source": [
    "contour_npa = sitk.GetArrayViewFromImage(canny_sitk)"
   ]
  },
  {
   "cell_type": "code",
   "execution_count": 25,
   "id": "b7e327e5-ebb3-4330-a4e5-5455b90df4b3",
   "metadata": {},
   "outputs": [
    {
     "data": {
      "text/plain": [
       "array([ 0,  0,  0,  0,  0,  0,  0,  0,  0,  0,  0,  0,  0,  0,  0,  0,  0,\n",
       "        0,  0,  0,  0,  0,  0,  0,  0,  0,  0,  0,  0,  0,  0,  0,  0,  0,\n",
       "        0,  0,  0,  0,  0,  0,  0,  0,  0,  0,  0,  0,  0,  0,  0,  0,  0,\n",
       "        0,  0,  0,  0,  0,  0,  0,  0,  0,  0,  0,  0,  0,  0,  0,  0,  0,\n",
       "        0,  0,  0,  0,  0,  0,  0,  0,  0,  0,  0,  0,  0,  0,  0,  0,  0,\n",
       "        0,  0,  0,  0,  0,  0,  0,  0,  0,  0,  0,  0,  0,  0,  0,  0,  0,\n",
       "        0,  0,  0,  0,  0,  0,  0,  0,  0,  0,  0,  0,  0,  0,  0,  0,  0,\n",
       "        0,  0,  0,  0,  0,  0,  0,  0,  0,  0,  0,  0,  0,  0,  0,  0,  0,\n",
       "        0,  0,  0,  0,  0,  0,  0,  0,  0,  0,  0,  0,  0,  0,  0,  0,  0,\n",
       "        0,  0,  0,  0,  0,  0,  0,  0,  0,  0,  0,  0,  0,  0,  0,  0,  0,\n",
       "        0,  0,  0,  0,  0,  0,  0,  0,  0,  0,  0,  0,  0,  0,  0,  0,  0,\n",
       "        0,  0,  0,  0,  0,  0,  0,  0,  0,  0,  0,  0,  0,  0,  0,  0,  0,\n",
       "        0,  0,  0,  0,  9, 10,  6,  6,  6, 13, 13, 14, 14, 13, 10, 10,  6,\n",
       "        6,  6,  6,  9, 11, 10, 15, 13, 13, 12,  5,  5,  7, 10,  7,  0,  0,\n",
       "        0,  0,  0,  0,  0,  0,  0,  0,  0,  0,  0,  0,  0,  0,  0,  0,  0,\n",
       "        0,  0,  0,  0,  0,  0,  0,  0,  0,  0,  0,  0,  0,  0,  0,  0,  0,\n",
       "        0,  0,  0,  0,  0,  0,  0,  0,  0,  0,  0,  0,  0,  0,  0,  0,  0,\n",
       "        0,  0,  0,  0,  0,  0,  0,  0,  0,  0,  0,  0,  0,  0,  0,  0,  0,\n",
       "        0,  0,  0,  0,  0,  0,  0,  0,  0,  0,  0,  0,  0,  0,  0,  0,  0,\n",
       "        0,  0,  0,  0,  0,  0,  0,  0,  0,  0,  0,  0,  0,  0,  0,  0,  0,\n",
       "        0,  0,  0,  0,  0,  0,  0,  0,  0,  0,  0,  0,  0,  0,  0,  0,  0,\n",
       "        0,  0,  0,  0,  0,  0,  0,  0,  0,  0,  0,  0,  0,  0,  0,  0,  0,\n",
       "        0,  0,  0,  0,  0,  0,  0,  0,  0,  0,  0,  0,  0,  0,  0,  0,  0,\n",
       "        0,  0,  0,  0,  0,  0,  0,  0,  0,  0,  0,  0,  0,  0,  0,  0,  0,\n",
       "        0,  0,  0,  0,  0,  0,  0,  0,  0,  0,  0,  0,  0,  0,  0,  0,  0,\n",
       "        0,  0,  0,  0,  0,  0,  0,  0,  0,  0,  0,  0,  0,  0,  0,  0,  0,\n",
       "        0,  0,  0,  0,  0,  0], dtype=int16)"
      ]
     },
     "execution_count": 25,
     "metadata": {},
     "output_type": "execute_result"
    }
   ],
   "source": [
    "sum(contour_npa[0,:,:])\n"
   ]
  },
  {
   "cell_type": "code",
   "execution_count": null,
   "id": "0135223b-f7b7-4b55-8586-770999cbc3ca",
   "metadata": {},
   "outputs": [],
   "source": [
    "contour_npa"
   ]
  },
  {
   "cell_type": "code",
   "execution_count": null,
   "id": "53cb6138-0f4d-4ee3-a739-34d9311b504a",
   "metadata": {},
   "outputs": [],
   "source": []
  }
 ],
 "metadata": {
  "kernelspec": {
   "display_name": "Python 3 (ipykernel)",
   "language": "python",
   "name": "python3"
  },
  "language_info": {
   "codemirror_mode": {
    "name": "ipython",
    "version": 3
   },
   "file_extension": ".py",
   "mimetype": "text/x-python",
   "name": "python",
   "nbconvert_exporter": "python",
   "pygments_lexer": "ipython3",
   "version": "3.10.9"
  }
 },
 "nbformat": 4,
 "nbformat_minor": 5
}
