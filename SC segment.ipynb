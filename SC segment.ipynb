{
 "cells": [
  {
   "cell_type": "markdown",
   "id": "697080e2-ddde-4451-86bd-4e86bc9e9186",
   "metadata": {},
   "source": [
    "## 脊髓分段放缩确定"
   ]
  },
  {
   "cell_type": "code",
   "execution_count": 3,
   "id": "0c8ef039-74d7-4241-849a-2a873f60cba5",
   "metadata": {},
   "outputs": [],
   "source": [
    "import os\n",
    "import numpy as np\n",
    "import vtk\n",
    "import pyvista as pv\n",
    "from pyvistaqt import BackgroundPlotter\n",
    "import pandas as pd\n",
    "import math"
   ]
  },
  {
   "cell_type": "code",
   "execution_count": 4,
   "id": "3bb4cbfb-7016-4945-87c4-4617c155451d",
   "metadata": {},
   "outputs": [],
   "source": [
    "from pyvistaqt import BackgroundPlotter\n",
    "\n",
    "\n",
    "\n",
    "def readstl_pv(filepath):\n",
    "\n",
    "    meshes = pv.read(stl_files)\n",
    "\n",
    "    plotter = BackgroundPlotter()\n",
    "\n",
    "    for mesh in meshes:\n",
    "\n",
    "        plotter.add_mesh(mesh)\n",
    "\n",
    "    plotter.show()\n",
    "\n",
    "\n",
    "\n",
    "stl_files = [r\"YOUR_DATA_PATH\\CORDTRI.stl\", r\"YOUR_DATA_PATH\\NERVETRI.stl\"]\n",
    "\n",
    "\n",
    "readstl_pv(stl_files)"
   ]
  },
  {
   "cell_type": "code",
   "execution_count": null,
   "id": "43546186-1052-4c9d-bcd9-7c404287e084",
   "metadata": {},
   "outputs": [],
   "source": []
  }
 ],
 "metadata": {
  "kernelspec": {
   "display_name": "Python 3 (ipykernel)",
   "language": "python",
   "name": "python3"
  },
  "language_info": {
   "codemirror_mode": {
    "name": "ipython",
    "version": 3
   },
   "file_extension": ".py",
   "mimetype": "text/x-python",
   "name": "python",
   "nbconvert_exporter": "python",
   "pygments_lexer": "ipython3",
   "version": "3.10.9"
  }
 },
 "nbformat": 4,
 "nbformat_minor": 5
}
